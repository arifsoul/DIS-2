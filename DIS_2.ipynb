{
  "cells": [
    {
      "cell_type": "markdown",
      "metadata": {
        "id": "view-in-github",
        "colab_type": "text"
      },
      "source": [
        "<a href=\"https://colab.research.google.com/github/arifsoul/DIS-2/blob/main/DIS_2.ipynb\" target=\"_parent\"><img src=\"https://colab.research.google.com/assets/colab-badge.svg\" alt=\"Open In Colab\"/></a>"
      ]
    },
    {
      "cell_type": "code",
      "execution_count": 1,
      "metadata": {
        "colab": {
          "base_uri": "https://localhost:8080/"
        },
        "id": "4P9WBnpIf3CA",
        "outputId": "6078d293-4b3e-4338-f81d-f96051daf9ac"
      },
      "outputs": [
        {
          "output_type": "stream",
          "name": "stdout",
          "text": [
            "Mounted at /content/drive\n"
          ]
        }
      ],
      "source": [
        "from google.colab import drive\n",
        "drive.mount('/content/drive')"
      ]
    },
    {
      "cell_type": "code",
      "execution_count": 2,
      "metadata": {
        "id": "cwO5c1ABNNQE"
      },
      "outputs": [],
      "source": [
        "import matplotlib.pyplot as plt\n",
        "import numpy as np\n",
        "import os\n",
        "import PIL\n",
        "import tensorflow as tf\n",
        "\n",
        "import tensorflow as tf\n",
        "from tensorflow import keras\n",
        "from tensorflow.keras.utils import to_categorical\n",
        "from tensorflow.keras import layers\n",
        "from tensorflow.keras.models import Sequential\n",
        "from tensorflow.keras.layers import Dense, Dropout, Flatten\n",
        "from tensorflow.keras.layers import Conv2D, MaxPooling2D\n",
        "from tensorflow.keras.preprocessing import image\n",
        "from tensorflow.keras.layers.experimental.preprocessing import RandomContrast, RandomFlip, RandomRotation, RandomZoom\n",
        "from tensorflow.keras.backend import clear_session\n",
        "from sklearn.metrics import classification_report, confusion_matrix\n",
        "import numpy as np\n",
        "import pandas as pd\n",
        "import seaborn as sn\n",
        "import matplotlib.pyplot as plt\n",
        "from sklearn.model_selection import train_test_split\n",
        "\n",
        "from skimage.transform import resize\n",
        "import imgaug.augmenters as iaa\n",
        "import cv2\n",
        "\n",
        "batch_size = 32\n",
        "size_img = (100, 100, 3)"
      ]
    },
    {
      "cell_type": "markdown",
      "metadata": {
        "id": "8MiMTc5_NNPj"
      },
      "source": [
        "#Prepare dataset\n"
      ]
    },
    {
      "cell_type": "code",
      "execution_count": 3,
      "metadata": {
        "colab": {
          "base_uri": "https://localhost:8080/"
        },
        "id": "c4LXQXJicii9",
        "outputId": "2bf6e687-ac15-4ea9-d78a-fe9b7da1ab91"
      },
      "outputs": [
        {
          "output_type": "stream",
          "name": "stdout",
          "text": [
            "['O', 'S']\n"
          ]
        }
      ],
      "source": [
        "path_dataset = '/content/drive/MyDrive/Citra BISINDO'\n",
        "# folders = sorted(os.listdir(path_dataset))\n",
        "folders = ['O', 'S']\n",
        "print(folders)"
      ]
    },
    {
      "cell_type": "code",
      "execution_count": 4,
      "metadata": {
        "colab": {
          "base_uri": "https://localhost:8080/"
        },
        "id": "2jG9k3lYdNrw",
        "outputId": "7da8c9c7-7a46-4b50-f618-0e21e1d04d71"
      },
      "outputs": [
        {
          "output_type": "stream",
          "name": "stdout",
          "text": [
            "ID\tSample\t\tName\n",
            "0\t12 sample\tO\n",
            "1\t12 sample\tS\n",
            "\n",
            "Total:\t24 sample\n"
          ]
        }
      ],
      "source": [
        "dataset_collection = []\n",
        "target = []\n",
        "classes = []\n",
        "\n",
        "cls_count = 0\n",
        "print('ID\\tSample\\t\\tName')\n",
        "for folder in folders:\n",
        "    dir = os.path.join(path_dataset, folder)\n",
        "    filename = os.listdir(dir)\n",
        "    count_img = 0\n",
        "\n",
        "    if len(filename) > 0:\n",
        "        for f in filename:\n",
        "            img_path =  os.path.join(dir, f)  \n",
        "            dataset_collection.append(img_path)\n",
        "            target.append(cls_count)\n",
        "            count_img += 1 \n",
        "\n",
        "        print('{}\\t{} sample\\t{}'.format(cls_count, count_img, folder))\n",
        "        classes.append(folder)\n",
        "        cls_count += 1\n",
        "\n",
        "print('\\nTotal:\\t{} sample'.format(len(dataset_collection)))"
      ]
    },
    {
      "cell_type": "code",
      "source": [
        "dataset_collection"
      ],
      "metadata": {
        "colab": {
          "base_uri": "https://localhost:8080/"
        },
        "id": "VbsMgjwqXGUj",
        "outputId": "fdd80e83-a4f9-438d-f32f-5db55749f86b"
      },
      "execution_count": 5,
      "outputs": [
        {
          "output_type": "execute_result",
          "data": {
            "text/plain": [
              "['/content/drive/MyDrive/Citra BISINDO/O/body white (1).jpg',\n",
              " '/content/drive/MyDrive/Citra BISINDO/O/body dot (2).jpg',\n",
              " '/content/drive/MyDrive/Citra BISINDO/O/body white (2).jpg',\n",
              " '/content/drive/MyDrive/Citra BISINDO/O/wall white (3).jpg',\n",
              " '/content/drive/MyDrive/Citra BISINDO/O/body dot (4).jpg',\n",
              " '/content/drive/MyDrive/Citra BISINDO/O/wall white (2).jpg',\n",
              " '/content/drive/MyDrive/Citra BISINDO/O/body white (3).jpg',\n",
              " '/content/drive/MyDrive/Citra BISINDO/O/wall white (1).jpg',\n",
              " '/content/drive/MyDrive/Citra BISINDO/O/body dot (1).jpg',\n",
              " '/content/drive/MyDrive/Citra BISINDO/O/body white (4).jpg',\n",
              " '/content/drive/MyDrive/Citra BISINDO/O/body dot (3).jpg',\n",
              " '/content/drive/MyDrive/Citra BISINDO/O/wall white (4).jpg',\n",
              " '/content/drive/MyDrive/Citra BISINDO/S/body dot (3).jpg',\n",
              " '/content/drive/MyDrive/Citra BISINDO/S/wall white (1).jpg',\n",
              " '/content/drive/MyDrive/Citra BISINDO/S/wall white (3).jpg',\n",
              " '/content/drive/MyDrive/Citra BISINDO/S/body dot (4).jpg',\n",
              " '/content/drive/MyDrive/Citra BISINDO/S/body dot (2).jpg',\n",
              " '/content/drive/MyDrive/Citra BISINDO/S/body white (3).jpg',\n",
              " '/content/drive/MyDrive/Citra BISINDO/S/body white (4).jpg',\n",
              " '/content/drive/MyDrive/Citra BISINDO/S/wall white (2).jpg',\n",
              " '/content/drive/MyDrive/Citra BISINDO/S/wall white (4).jpg',\n",
              " '/content/drive/MyDrive/Citra BISINDO/S/body dot (1).jpg',\n",
              " '/content/drive/MyDrive/Citra BISINDO/S/body white (1).jpg',\n",
              " '/content/drive/MyDrive/Citra BISINDO/S/body white (2).jpg']"
            ]
          },
          "metadata": {},
          "execution_count": 5
        }
      ]
    },
    {
      "cell_type": "code",
      "execution_count": 6,
      "metadata": {
        "colab": {
          "base_uri": "https://localhost:8080/"
        },
        "id": "_ECuvjw_djyx",
        "outputId": "bdccdf59-1a55-4aa5-e770-81ac4e507486"
      },
      "outputs": [
        {
          "output_type": "stream",
          "name": "stdout",
          "text": [
            "0\n",
            "1\n",
            "2\n",
            "3\n",
            "4\n",
            "5\n",
            "6\n",
            "7\n",
            "8\n",
            "9\n",
            "10\n",
            "11\n",
            "12\n",
            "13\n",
            "14\n",
            "15\n",
            "16\n",
            "17\n",
            "18\n",
            "19\n",
            "20\n",
            "21\n",
            "22\n",
            "23\n",
            "All Training: 240\n"
          ]
        }
      ],
      "source": [
        "all_data = []\n",
        "labels = []\n",
        "count = 0\n",
        "\n",
        "for img_path, label in zip(dataset_collection, target):\n",
        "    print(count)\n",
        "    orig_img = cv2.imread(img_path)\n",
        "    seq_aug = [\n",
        "        None,\n",
        "        iaa.Affine(rotate=10),\n",
        "        iaa.Affine(rotate=-10),\n",
        "        iaa.Affine(rotate=20),\n",
        "        iaa.Affine(rotate=-20),\n",
        "        iaa.Affine(rotate=30),\n",
        "        iaa.Affine(rotate=-30),\n",
        "        iaa.Affine(rotate=30),\n",
        "        iaa.Affine(rotate=-30),\n",
        "        iaa.Fliplr(0.5)\n",
        "    ]\n",
        "\n",
        "    for aug in seq_aug:\n",
        "        img = orig_img.copy()\n",
        "        if aug != None:\n",
        "            img = aug(image=img)\n",
        "\n",
        "        img = cv2.cvtColor(img, cv2.COLOR_BGR2HSV)\n",
        "        img = resize(img, size_img)\n",
        "        all_data.append(img)\n",
        "        labels.append(label)\n",
        "    count += 1\n",
        "\n",
        "print('All Training:', len(all_data))"
      ]
    },
    {
      "cell_type": "markdown",
      "source": [
        "#Split Train, Val, Test"
      ],
      "metadata": {
        "id": "xFslUetEHMgg"
      }
    },
    {
      "cell_type": "code",
      "execution_count": null,
      "metadata": {
        "id": "0qvcSjBscOjC"
      },
      "outputs": [],
      "source": [
        "np.save(\"/content/drive/MyDrive/numpy_dis_2/all_data.npy\", all_data)\n",
        "np.save(\"/content/drive/MyDrive/numpy_dis_2/labels.npy\", labels)"
      ]
    },
    {
      "cell_type": "code",
      "execution_count": null,
      "metadata": {
        "id": "r7WilDsHvwEP"
      },
      "outputs": [],
      "source": [
        "all_data = np.load(\"/content/drive/MyDrive/numpy_dis_2/all_data.npy\")\n",
        "labels = np.load(\"/content/drive/MyDrive/numpy_dis_2/labels.npy\")"
      ]
    },
    {
      "cell_type": "code",
      "source": [
        "# classes_folder = sorted(os.listdir('/content/drive/MyDrive/Citra BISINDO'))\n",
        "classes_folder = ['O', 'S']\n",
        "print(folders)"
      ],
      "metadata": {
        "colab": {
          "base_uri": "https://localhost:8080/"
        },
        "id": "c-Ldd3CesK0O",
        "outputId": "96634d2f-0c05-431d-fb7a-a3f9e320e00a"
      },
      "execution_count": 7,
      "outputs": [
        {
          "output_type": "stream",
          "name": "stdout",
          "text": [
            "['O', 'S']\n"
          ]
        }
      ]
    },
    {
      "cell_type": "code",
      "execution_count": 8,
      "metadata": {
        "id": "EF4E_KT-sc0H",
        "colab": {
          "base_uri": "https://localhost:8080/"
        },
        "outputId": "1781700e-c6dd-41d5-9688-9deef440d2e8"
      },
      "outputs": [
        {
          "output_type": "stream",
          "name": "stdout",
          "text": [
            "ID\tData Train\tData Val\tData Test\tName\n",
            "0\t96 sample\t12 sample\t12 sample\tO\n",
            "1\t96 sample\t12 sample\t12 sample\tS\n",
            "\n",
            "Total:\t 192 sample\t 24 sample\t 24 sample\n"
          ]
        }
      ],
      "source": [
        "X_train, X_test, y_train, y_test = train_test_split(all_data, labels, test_size=0.2, random_state=42, stratify=labels)\n",
        "X_train, X_test, y_train, y_test = np.array(X_train), np.array(X_test), np.array(y_train), np.array(y_test)\n",
        "\n",
        "X_test, X_val, y_test, y_val = train_test_split(X_test, y_test, test_size=0.5, random_state=42, stratify=y_test)\n",
        "X_test, X_val, y_test, y_val = np.array(X_test), np.array(X_val), np.array(y_test), np.array(y_val)\n",
        "\n",
        "print('ID\\tData Train\\tData Val\\tData Test\\tName')\n",
        "for i in range(len(classes_folder)):\n",
        "    count_train, count_val, count_test = len(np.where(y_train==i)[0]), len(np.where(y_val==i)[0]), len(np.where(y_test==i)[0])\n",
        "    print('{}\\t{} sample\\t{} sample\\t{} sample\\t{}'.format(i, count_train, count_val, count_test, classes_folder[i]))\n",
        "print('\\nTotal:\\t {} sample\\t {} sample\\t {} sample'.format(len(y_train), len(y_val), len(y_test)))"
      ]
    },
    {
      "cell_type": "code",
      "execution_count": 9,
      "metadata": {
        "id": "EA2GIfDuBgzG"
      },
      "outputs": [],
      "source": [
        "y_train_cat = to_categorical(y_train)\n",
        "y_val_cat = to_categorical(y_val)\n",
        "y_test_cat = to_categorical(y_test)"
      ]
    },
    {
      "cell_type": "code",
      "source": [
        "y_train[1]"
      ],
      "metadata": {
        "colab": {
          "base_uri": "https://localhost:8080/"
        },
        "id": "L7Abmax5Zcs5",
        "outputId": "6ff9eb4c-161b-4217-d6cc-3ef132b79a8e"
      },
      "execution_count": 10,
      "outputs": [
        {
          "output_type": "execute_result",
          "data": {
            "text/plain": [
              "1"
            ]
          },
          "metadata": {},
          "execution_count": 10
        }
      ]
    },
    {
      "cell_type": "code",
      "source": [
        "y_train_cat[1]"
      ],
      "metadata": {
        "colab": {
          "base_uri": "https://localhost:8080/"
        },
        "id": "eQX-6eavZnwo",
        "outputId": "3e3a73c1-914a-4d4a-84d5-e03d13137e7b"
      },
      "execution_count": 11,
      "outputs": [
        {
          "output_type": "execute_result",
          "data": {
            "text/plain": [
              "array([0., 1.], dtype=float32)"
            ]
          },
          "metadata": {},
          "execution_count": 11
        }
      ]
    },
    {
      "cell_type": "markdown",
      "metadata": {
        "id": "776AnflSNNQD"
      },
      "source": [
        "## Machine Learning\n"
      ]
    },
    {
      "cell_type": "code",
      "execution_count": 12,
      "metadata": {
        "id": "B2o68jzCgxD7"
      },
      "outputs": [],
      "source": [
        "# Data Augmentation\n",
        "\n",
        "data_augmentation = Sequential()\n",
        "data_augmentation.add(RandomFlip(\"horizontal\", input_shape=size_img))\n",
        "data_augmentation.add(RandomZoom(0.1))\n",
        "data_augmentation.add(RandomContrast(0.2))\n"
      ]
    },
    {
      "cell_type": "code",
      "execution_count": 15,
      "metadata": {
        "id": "fE2j9SoQ6nlR"
      },
      "outputs": [],
      "source": [
        "# Create Model\n",
        "model = Sequential()\n",
        "model.add(data_augmentation)\n",
        "model.add(Conv2D(32, kernel_size=(3, 3),activation='relu',input_shape=size_img))\n",
        "model.add(Conv2D(16, (3, 3), activation='relu'))\n",
        "model.add(MaxPooling2D(pool_size=(2, 2)))\n",
        "model.add(Conv2D(32, (3, 3), activation='relu'))\n",
        "model.add(MaxPooling2D(pool_size=(2, 2)))\n",
        "model.add(Conv2D(8, (3, 3), activation='relu'))\n",
        "model.add(MaxPooling2D(pool_size=(2, 2)))\n",
        "model.add(Flatten())\n",
        "model.add(Dense(128, activation='relu'))\n",
        "model.add(Dropout(0.2))\n",
        "model.add(Dense(2, activation='softmax'))\n",
        "\n",
        "clear_session()"
      ]
    },
    {
      "cell_type": "code",
      "execution_count": 16,
      "metadata": {
        "id": "UjbNQoTXJYFW"
      },
      "outputs": [],
      "source": [
        "# Compiling\n",
        "model.compile(optimizer='adam',loss = tf.keras.losses.CategoricalCrossentropy(from_logits=False), metrics=['accuracy'])"
      ]
    },
    {
      "cell_type": "code",
      "execution_count": 17,
      "metadata": {
        "colab": {
          "base_uri": "https://localhost:8080/"
        },
        "id": "q-gxzQFDJbtk",
        "outputId": "1ddf5367-02aa-4742-9311-380dd6149c99"
      },
      "outputs": [
        {
          "output_type": "stream",
          "name": "stdout",
          "text": [
            "Epoch 1/20\n",
            "6/6 [==============================] - 5s 706ms/step - loss: 0.6943 - accuracy: 0.5052 - val_loss: 0.6482 - val_accuracy: 0.9167\n",
            "Epoch 2/20\n",
            "6/6 [==============================] - 4s 662ms/step - loss: 0.6255 - accuracy: 0.7760 - val_loss: 0.5301 - val_accuracy: 0.8333\n",
            "Epoch 3/20\n",
            "6/6 [==============================] - 4s 658ms/step - loss: 0.4037 - accuracy: 0.9167 - val_loss: 0.2617 - val_accuracy: 0.8333\n",
            "Epoch 4/20\n",
            "6/6 [==============================] - 4s 665ms/step - loss: 0.1672 - accuracy: 0.9219 - val_loss: 0.1918 - val_accuracy: 0.8333\n",
            "Epoch 5/20\n",
            "6/6 [==============================] - 4s 657ms/step - loss: 0.0847 - accuracy: 0.9583 - val_loss: 0.2175 - val_accuracy: 0.8750\n",
            "Epoch 6/20\n",
            "6/6 [==============================] - 4s 661ms/step - loss: 0.1506 - accuracy: 0.9375 - val_loss: 0.0841 - val_accuracy: 0.9583\n",
            "Epoch 7/20\n",
            "6/6 [==============================] - 4s 661ms/step - loss: 0.1477 - accuracy: 0.9427 - val_loss: 0.0759 - val_accuracy: 0.9583\n",
            "Epoch 8/20\n",
            "6/6 [==============================] - 4s 653ms/step - loss: 0.1146 - accuracy: 0.9635 - val_loss: 0.0648 - val_accuracy: 1.0000\n",
            "Epoch 9/20\n",
            "6/6 [==============================] - 4s 656ms/step - loss: 0.0686 - accuracy: 0.9740 - val_loss: 0.0299 - val_accuracy: 1.0000\n",
            "Epoch 10/20\n",
            "6/6 [==============================] - 4s 667ms/step - loss: 0.0256 - accuracy: 1.0000 - val_loss: 0.0246 - val_accuracy: 1.0000\n",
            "Epoch 11/20\n",
            "6/6 [==============================] - 4s 661ms/step - loss: 0.0265 - accuracy: 0.9896 - val_loss: 0.0133 - val_accuracy: 1.0000\n",
            "Epoch 12/20\n",
            "6/6 [==============================] - 4s 656ms/step - loss: 0.0199 - accuracy: 0.9948 - val_loss: 0.0048 - val_accuracy: 1.0000\n",
            "Epoch 13/20\n",
            "6/6 [==============================] - 4s 661ms/step - loss: 0.0055 - accuracy: 1.0000 - val_loss: 0.0027 - val_accuracy: 1.0000\n",
            "Epoch 14/20\n",
            "6/6 [==============================] - 4s 660ms/step - loss: 0.0068 - accuracy: 1.0000 - val_loss: 0.0031 - val_accuracy: 1.0000\n",
            "Epoch 15/20\n",
            "6/6 [==============================] - 4s 656ms/step - loss: 0.0109 - accuracy: 0.9948 - val_loss: 0.0025 - val_accuracy: 1.0000\n",
            "Epoch 16/20\n",
            "6/6 [==============================] - 4s 656ms/step - loss: 0.0145 - accuracy: 0.9948 - val_loss: 0.0011 - val_accuracy: 1.0000\n",
            "Epoch 17/20\n",
            "6/6 [==============================] - 4s 661ms/step - loss: 0.0022 - accuracy: 1.0000 - val_loss: 0.0029 - val_accuracy: 1.0000\n",
            "Epoch 18/20\n",
            "6/6 [==============================] - 4s 651ms/step - loss: 0.0041 - accuracy: 1.0000 - val_loss: 0.0015 - val_accuracy: 1.0000\n",
            "Epoch 19/20\n",
            "6/6 [==============================] - 4s 659ms/step - loss: 0.0026 - accuracy: 1.0000 - val_loss: 9.2457e-04 - val_accuracy: 1.0000\n",
            "Epoch 20/20\n",
            "6/6 [==============================] - 4s 656ms/step - loss: 0.0032 - accuracy: 1.0000 - val_loss: 0.0015 - val_accuracy: 1.0000\n"
          ]
        }
      ],
      "source": [
        "# Train Model\n",
        "epochs=20\n",
        "history = model.fit(X_train, y_train_cat, epochs=epochs, validation_data=(X_val, y_val_cat))"
      ]
    },
    {
      "cell_type": "code",
      "execution_count": 18,
      "metadata": {
        "colab": {
          "base_uri": "https://localhost:8080/",
          "height": 499
        },
        "id": "om2iNyh5qJXG",
        "outputId": "fa1963aa-ff96-44ee-97e8-7b62986b0dd3"
      },
      "outputs": [
        {
          "output_type": "display_data",
          "data": {
            "text/plain": [
              "<Figure size 576x576 with 2 Axes>"
            ],
            "image/png": "[encoded data removed]"
          },
          "metadata": {
            "needs_background": "light"
          }
        }
      ],
      "source": [
        "# Visualization\n",
        "acc = history.history['accuracy']\n",
        "val_acc = history.history['val_accuracy']\n",
        "\n",
        "loss = history.history['loss']\n",
        "val_loss = history.history['val_loss']\n",
        "\n",
        "epochs_range = range(epochs)\n",
        "\n",
        "plt.figure(figsize=(8, 8))\n",
        "plt.subplot(1, 2, 1)\n",
        "plt.plot(epochs_range, acc, label='Training Accuracy')\n",
        "plt.plot(epochs_range, val_acc, label='Validation Accuracy')\n",
        "plt.legend(loc='lower right')\n",
        "plt.title('Training and Validation Accuracy')\n",
        "\n",
        "plt.subplot(1, 2, 2)\n",
        "plt.plot(epochs_range, loss, label='Training Loss')\n",
        "plt.plot(epochs_range, val_loss, label='Validation Loss')\n",
        "plt.legend(loc='upper right')\n",
        "plt.title('Training and Validation Loss')\n",
        "plt.show()"
      ]
    },
    {
      "cell_type": "code",
      "execution_count": 20,
      "metadata": {
        "colab": {
          "base_uri": "https://localhost:8080/"
        },
        "id": "hOnV0Wifrirk",
        "outputId": "d07d7eea-abea-494b-f10d-34757a4b8c7d"
      },
      "outputs": [
        {
          "output_type": "stream",
          "name": "stdout",
          "text": [
            "              precision    recall  f1-score   support\n",
            "\n",
            "           0       1.00      1.00      1.00        12\n",
            "           1       1.00      1.00      1.00        12\n",
            "\n",
            "   micro avg       1.00      1.00      1.00        24\n",
            "   macro avg       1.00      1.00      1.00        24\n",
            "weighted avg       1.00      1.00      1.00        24\n",
            " samples avg       1.00      1.00      1.00        24\n",
            "\n"
          ]
        }
      ],
      "source": [
        "# Evaluation\n",
        "p_pred = model.predict(X_test)\n",
        "y_pred = np.where(p_pred > 0.5, 1, 0)\n",
        "\n",
        "cr = classification_report(y_test_cat, y_pred)\n",
        "print(cr)"
      ]
    },
    {
      "cell_type": "code",
      "source": [
        "score = model.evaluate(X_test, y_test_cat, verbose = 0) \n",
        "\n",
        "print('Test loss:', score[0]) \n",
        "print('Test accuracy:', score[1])"
      ],
      "metadata": {
        "colab": {
          "base_uri": "https://localhost:8080/"
        },
        "id": "mpmBt4TaJPVH",
        "outputId": "d355b97e-1874-449f-a683-4449af791d5d"
      },
      "execution_count": 22,
      "outputs": [
        {
          "output_type": "stream",
          "name": "stdout",
          "text": [
            "Test loss: 0.00015752688341308385\n",
            "Test accuracy: 1.0\n"
          ]
        }
      ]
    },
    {
      "cell_type": "code",
      "source": [
        "X_test.shape\n"
      ],
      "metadata": {
        "colab": {
          "base_uri": "https://localhost:8080/"
        },
        "id": "hNuF3hqwUwPd",
        "outputId": "f541e673-e8ab-4384-d191-310cd0ebacac"
      },
      "execution_count": null,
      "outputs": [
        {
          "output_type": "execute_result",
          "data": {
            "text/plain": [
              "(312, 100, 100, 3)"
            ]
          },
          "metadata": {},
          "execution_count": 84
        }
      ]
    },
    {
      "cell_type": "code",
      "source": [
        "# Test image in folder 'test'\n",
        "!find . -name \".DS_Store\" -delete\n",
        "\n",
        "from keras.preprocessing import image\n",
        "import numpy as np\n",
        "import os\n",
        "\n",
        "directory = 'test/'\n",
        "image_name = []\n",
        "images = []\n",
        "collect_img = []\n",
        "count_img = 9\n",
        "classes_folder = sorted(os.listdir('/content/drive/MyDrive/Citra BISINDO'))\n",
        "\n",
        "# for img in list_file[:count_img]:\n",
        "#     image_name.append(img)\n",
        "#     img = os.path.join(directory, img)\n",
        "#     img = image.load_img(img, target_size=size_img)\n",
        "#     img_np = image.img_to_array(img)\n",
        "#     img = np.expand_dims(img_np, axis=0)\n",
        "#     images.append(img)\n",
        "#     collect_img.append(img_np)\n",
        "\n",
        "# images = np.vstack(images)\n",
        "\n",
        "classes_pred = model.predict(X_test)\n",
        "\n",
        "plt.figure(figsize=(20, 20))\n",
        "for i in range(len(X_test[0][:count_img][:count_img])):\n",
        "    idX_class = int(classes[i][0])\n",
        "    ax = plt.subplot(3, 3, i + 1)\n",
        "    plt.imshow(X_test[i].astype(\"uint8\"))\n",
        "    plt.title(classes_folder[i])\n",
        "    plt.axis(\"off\")"
      ],
      "metadata": {
        "id": "2-A3O7TyOhIF"
      },
      "execution_count": null,
      "outputs": []
    },
    {
      "cell_type": "code",
      "execution_count": null,
      "metadata": {
        "id": "rNkYPADYtSij"
      },
      "outputs": [],
      "source": [
        "# Test image in folder 'test'\n",
        "!find . -name \".DS_Store\" -delete\n",
        "\n",
        "from keras.preprocessing import image\n",
        "import numpy as np\n",
        "import os\n",
        "directory = 'test/'\n",
        "image_name = []\n",
        "images = []\n",
        "collect_img = []\n",
        "count_img = 9\n",
        "list_file = sorted(os.listdir(directory))\n",
        "\n",
        "for img in list_file[:count_img]:\n",
        "    image_name.append(img)\n",
        "    img = os.path.join(directory, img)\n",
        "    img = image.load_img(img, target_size=size_img)\n",
        "    img_np = image.img_to_array(img)\n",
        "    img = np.expand_dims(img_np, axis=0)\n",
        "    images.append(img)\n",
        "    collect_img.append(img_np)\n",
        "\n",
        "images = np.vstack(images)\n",
        "classes = model.predict(images)\n",
        "\n",
        "plt.figure(figsize=(20, 20))\n",
        "for i in range(len(list_file[:count_img][:count_img])):\n",
        "    idX_class = int(classes[i][0])\n",
        "    ax = plt.subplot(3, 3, i + 1)\n",
        "\n",
        "    if idX_class == 1:\n",
        "      # print(i+1, image_name[i],'    ', name_class[1])\n",
        "      plt.imshow(collect_img[i].astype(\"uint8\"))\n",
        "      plt.title(image_name[i]+' '+name_class[1])\n",
        "      plt.axis(\"off\")\n",
        "      \n",
        "    else:\n",
        "      # print(i+1, image_name[i],'    ', name_class[0])\n",
        "      plt.imshow(collect_img[i].astype(\"uint8\"))\n",
        "      plt.title(image_name[i]+' =>'+name_class[0])\n",
        "      plt.axis(\"off\")"
      ]
    },
    {
      "cell_type": "markdown",
      "source": [
        "# Camera Acces"
      ],
      "metadata": {
        "id": "i1ni_kDtGRqF"
      }
    },
    {
      "cell_type": "code",
      "source": [
        "from IPython.display import display, Javascript, Image\n",
        "from google.colab.output import eval_js\n",
        "import html\n",
        "from base64 import b64decode, b64encode\n",
        "import cv2\n",
        "import numpy as np\n",
        "import PIL\n",
        "import io"
      ],
      "metadata": {
        "id": "mBNNghKKGPMT"
      },
      "execution_count": null,
      "outputs": []
    },
    {
      "cell_type": "code",
      "source": [
        "def jsob_to_image(js_object):\n",
        "  # decode base64 image\n",
        "  image_bytes = b64decode(js_object.split(',')[1])\n",
        "  # convert bytes to numpy array\n",
        "  img_array = np.frombuffer(image_bytes, dtype=np.uint8)\n",
        "  # convert numpy array into OpenCV BGR \n",
        "  frame = cv2.imdecode(img_array, flags=1)\n",
        "\n",
        "  return frame"
      ],
      "metadata": {
        "id": "Qrb0bikiGUwN"
      },
      "execution_count": null,
      "outputs": []
    },
    {
      "cell_type": "code",
      "source": [
        "def video_stream():\n",
        "  js = Javascript('''\n",
        "    var video;\n",
        "    var div = null;\n",
        "    var stream;\n",
        "    var captureCanvas;\n",
        "    var imgElement;\n",
        "    var labelElement;\n",
        "    \n",
        "    var pendingResolve = null;\n",
        "    var shutdown = false;\n",
        "    \n",
        "    function removeDom() {\n",
        "       stream.getVideoTracks()[0].stop();\n",
        "       video.remove();\n",
        "       div.remove();\n",
        "       video = null;\n",
        "       div = null;\n",
        "       stream = null;\n",
        "       imgElement = null;\n",
        "       captureCanvas = null;\n",
        "       labelElement = null;\n",
        "    }\n",
        "    \n",
        "    function onAnimationFrame() {\n",
        "      if (!shutdown) {\n",
        "        window.requestAnimationFrame(onAnimationFrame);\n",
        "      }\n",
        "      if (pendingResolve) {\n",
        "        var result = \"\";\n",
        "        if (!shutdown) {\n",
        "          captureCanvas.getContext('2d').drawImage(video, 0, 0, 640, 480);\n",
        "          result = captureCanvas.toDataURL('image/jpeg', 0.8)\n",
        "        }\n",
        "        var lp = pendingResolve;\n",
        "        pendingResolve = null;\n",
        "        lp(result);\n",
        "      }\n",
        "    }\n",
        "    \n",
        "    async function createDom() {\n",
        "      if (div !== null) {\n",
        "        return stream;\n",
        "      }\n",
        "      div = document.createElement('div');\n",
        "      div.style.border = '2px solid black';\n",
        "      div.style.padding = '3px';\n",
        "      div.style.width = '100%';\n",
        "      div.style.maxWidth = '600px';\n",
        "      document.body.appendChild(div);\n",
        "      \n",
        "           \n",
        "      video = document.createElement('video');\n",
        "      video.style.display = 'block';\n",
        "      video.width = div.clientWidth - 6;\n",
        "      video.setAttribute('playsinline', '');\n",
        "      video.onclick = () => { shutdown = true; };\n",
        "      stream = await navigator.mediaDevices.getUserMedia(\n",
        "          {video: { facingMode: \"environment\"}});\n",
        "      div.appendChild(video);\n",
        "      imgElement = document.createElement('img');\n",
        "      imgElement.style.position = 'absolute';\n",
        "      imgElement.style.zIndex = 1;\n",
        "      imgElement.onclick = () => { shutdown = true; };\n",
        "      div.appendChild(imgElement);\n",
        "      \n",
        "      const instruction = document.createElement('div');\n",
        "      instruction.innerHTML = \n",
        "          '<span style=\"blue: red; font-weight: bold;\">' +\n",
        "          'click here to stop the video</span>';\n",
        "      div.appendChild(instruction);\n",
        "      instruction.onclick = () => { shutdown = true; };\n",
        "      \n",
        "      video.srcObject = stream;\n",
        "      await video.play();\n",
        "      captureCanvas = document.createElement('canvas');\n",
        "      captureCanvas.width = 640; \n",
        "      captureCanvas.height = 480; \n",
        "      window.requestAnimationFrame(onAnimationFrame);\n",
        "      \n",
        "      return stream;\n",
        "    }\n",
        "    async function stream_frame() {\n",
        "      if (shutdown) {\n",
        "        removeDom();\n",
        "        shutdown = false;\n",
        "        return '';\n",
        "      }\n",
        "      var preCreate = Date.now();\n",
        "      stream = await createDom();\n",
        "      \n",
        "      var preShow = Date.now();\n",
        "  \n",
        "            \n",
        "      \n",
        "      var preCapture = Date.now();\n",
        "      var result = await new Promise(function(resolve, reject) {\n",
        "        pendingResolve = resolve;\n",
        "      });\n",
        "      shutdown = false;\n",
        "      \n",
        "      return {'create': preShow - preCreate, \n",
        "              'show': preCapture - preShow, \n",
        "              'capture': Date.now() - preCapture,\n",
        "              'img': result};\n",
        "    }\n",
        "    ''')\n",
        "\n",
        "  display(js)\n",
        "  \n",
        "def video_frame():\n",
        "  data = eval_js('stream_frame()')\n",
        "  return data\n",
        "\n",
        "# Get the webcam stream and forward it to python \n",
        "video_stream()\n",
        "\n",
        "while True:\n",
        "    frame_js = video_frame()\n",
        "    if not frame_js:\n",
        "        break\n",
        "    img = jsob_to_image(frame_js[\"img\"])"
      ],
      "metadata": {
        "id": "QVhABR0IGY_o"
      },
      "execution_count": null,
      "outputs": []
    },
    {
      "cell_type": "code",
      "source": [
        "# Get the webcam stream and forward it to python \n",
        "video_stream()\n",
        "\n",
        "while True:\n",
        "    frame_js = video_frame()\n",
        "    if not frame_js:\n",
        "        break\n",
        "    img = jsob_to_image(frame_js[\"img\"])"
      ],
      "metadata": {
        "id": "pJNj-FKxGfiK"
      },
      "execution_count": null,
      "outputs": []
    }
  ],
  "metadata": {
    "colab": {
      "collapsed_sections": [
        "8MiMTc5_NNPj"
      ],
      "name": "DIS_2.ipynb",
      "provenance": [],
      "include_colab_link": true
    },
    "gpuClass": "standard",
    "kernelspec": {
      "display_name": "Python 3",
      "language": "python",
      "name": "python3"
    },
    "language_info": {
      "codemirror_mode": {
        "name": "ipython",
        "version": 3
      },
      "file_extension": ".py",
      "mimetype": "text/x-python",
      "name": "python",
      "nbconvert_exporter": "python",
      "pygments_lexer": "ipython3",
      "version": "3.7.8"
    }
  },
  "nbformat": 4,
  "nbformat_minor": 0
}