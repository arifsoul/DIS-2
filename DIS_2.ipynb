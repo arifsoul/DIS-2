{
  "cells": [
    {
      "cell_type": "markdown",
      "metadata": {
        "id": "view-in-github",
        "colab_type": "text"
      },
      "source": [
        "<a href=\"https://colab.research.google.com/github/arifsoul/DIS-2/blob/Arif/DIS_2.ipynb\" target=\"_parent\"><img src=\"https://colab.research.google.com/assets/colab-badge.svg\" alt=\"Open In Colab\"/></a>"
      ]
    },
    {
      "cell_type": "code",
      "execution_count": 1,
      "metadata": {
        "colab": {
          "base_uri": "https://localhost:8080/"
        },
        "id": "4P9WBnpIf3CA",
        "outputId": "30ccecc5-bb57-4a4b-f635-fea195ae680d"
      },
      "outputs": [
        {
          "output_type": "stream",
          "name": "stdout",
          "text": [
            "Mounted at /content/drive\n"
          ]
        }
      ],
      "source": [
        "from google.colab import drive\n",
        "drive.mount('/content/drive')"
      ]
    },
    {
      "cell_type": "code",
      "execution_count": 2,
      "metadata": {
        "id": "cwO5c1ABNNQE"
      },
      "outputs": [],
      "source": [
        "import matplotlib.pyplot as plt\n",
        "import numpy as np\n",
        "import os\n",
        "import PIL\n",
        "import tensorflow as tf\n",
        "\n",
        "import tensorflow as tf\n",
        "from tensorflow import keras\n",
        "from tensorflow.keras.optimizers import Adam\n",
        "from tensorflow.keras.utils import to_categorical\n",
        "from tensorflow.keras import layers\n",
        "from tensorflow.keras.models import Sequential\n",
        "from tensorflow.keras.layers import Activation, Dense, Dropout, Flatten, BatchNormalization\n",
        "from tensorflow.keras.layers import Conv2D, MaxPooling2D\n",
        "from tensorflow.keras.preprocessing import image\n",
        "from tensorflow.keras.layers.experimental.preprocessing import RandomContrast, RandomFlip, RandomRotation, RandomZoom\n",
        "from tensorflow.keras.callbacks import Callback, EarlyStopping, ReduceLROnPlateau, ModelCheckpoint\n",
        "from tensorflow.keras.backend import clear_session\n",
        "from sklearn.metrics import classification_report, confusion_matrix\n",
        "import numpy as np\n",
        "import pandas as pd\n",
        "import seaborn as sn\n",
        "import matplotlib.pyplot as plt\n",
        "from sklearn.model_selection import train_test_split\n",
        "\n",
        "from skimage.transform import resize\n",
        "import imgaug.augmenters as iaa\n",
        "import cv2\n",
        "\n",
        "batch_size = 32\n",
        "size_img = (224, 224, 3)"
      ]
    },
    {
      "cell_type": "markdown",
      "metadata": {
        "id": "8MiMTc5_NNPj"
      },
      "source": [
        "#Prepare dataset\n"
      ]
    },
    {
      "cell_type": "code",
      "execution_count": 3,
      "metadata": {
        "colab": {
          "base_uri": "https://localhost:8080/"
        },
        "id": "c4LXQXJicii9",
        "outputId": "158ab53e-5833-477b-d92a-f3d648c68a13"
      },
      "outputs": [
        {
          "output_type": "stream",
          "name": "stdout",
          "text": [
            "['O', 'S', 'NOTHING']\n"
          ]
        }
      ],
      "source": [
        "path_dataset = '/content/drive/MyDrive/Citra BISINDO'\n",
        "# folders = sorted(os.listdir(path_dataset))\n",
        "folders = ['O', 'S', 'NOTHING']\n",
        "print(folders)"
      ]
    },
    {
      "cell_type": "code",
      "execution_count": 31,
      "metadata": {
        "colab": {
          "base_uri": "https://localhost:8080/"
        },
        "id": "2jG9k3lYdNrw",
        "outputId": "bc7752e6-dba6-48e9-fa5b-785634651a88"
      },
      "outputs": [
        {
          "output_type": "stream",
          "name": "stdout",
          "text": [
            "ID\tSample\t\tName\n",
            "0\t12 sample\tO\n",
            "1\t12 sample\tS\n",
            "2\t12 sample\tNOTHING\n",
            "\n",
            "Total:\t36 sample\n"
          ]
        }
      ],
      "source": [
        "dataset_collection = []\n",
        "target = []\n",
        "classes = []\n",
        "\n",
        "cls_count = 0\n",
        "print('ID\\tSample\\t\\tName')\n",
        "for folder in folders:\n",
        "    dir = os.path.join(path_dataset, folder)\n",
        "    filename = os.listdir(dir)\n",
        "    count_img = 0\n",
        "\n",
        "    if len(filename) > 0:\n",
        "        for f in filename:\n",
        "            if f != \".ipynb_checkpoints\":\n",
        "              img_path =  os.path.join(dir, f)  \n",
        "              dataset_collection.append(img_path)\n",
        "              target.append(cls_count)\n",
        "              count_img += 1 \n",
        "\n",
        "        print('{}\\t{} sample\\t{}'.format(cls_count, count_img, folder))\n",
        "        classes.append(folder)\n",
        "        cls_count += 1\n",
        "\n",
        "print('\\nTotal:\\t{} sample'.format(len(dataset_collection)))"
      ]
    },
    {
      "cell_type": "code",
      "source": [
        "dataset_collection"
      ],
      "metadata": {
        "colab": {
          "base_uri": "https://localhost:8080/"
        },
        "id": "VbsMgjwqXGUj",
        "outputId": "93f6ede5-ed0c-4815-f4b8-26634f3fb11f"
      },
      "execution_count": 32,
      "outputs": [
        {
          "output_type": "execute_result",
          "data": {
            "text/plain": [
              "['/content/drive/MyDrive/Citra BISINDO/O/body white (1).jpg',\n",
              " '/content/drive/MyDrive/Citra BISINDO/O/body dot (2).jpg',\n",
              " '/content/drive/MyDrive/Citra BISINDO/O/body white (2).jpg',\n",
              " '/content/drive/MyDrive/Citra BISINDO/O/wall white (3).jpg',\n",
              " '/content/drive/MyDrive/Citra BISINDO/O/body dot (4).jpg',\n",
              " '/content/drive/MyDrive/Citra BISINDO/O/wall white (2).jpg',\n",
              " '/content/drive/MyDrive/Citra BISINDO/O/body white (3).jpg',\n",
              " '/content/drive/MyDrive/Citra BISINDO/O/wall white (1).jpg',\n",
              " '/content/drive/MyDrive/Citra BISINDO/O/body white (4).jpg',\n",
              " '/content/drive/MyDrive/Citra BISINDO/O/body dot (3).jpg',\n",
              " '/content/drive/MyDrive/Citra BISINDO/O/wall white (4).jpg',\n",
              " '/content/drive/MyDrive/Citra BISINDO/O/gambar_o.jpg',\n",
              " '/content/drive/MyDrive/Citra BISINDO/S/body dot (3).jpg',\n",
              " '/content/drive/MyDrive/Citra BISINDO/S/wall white (1).jpg',\n",
              " '/content/drive/MyDrive/Citra BISINDO/S/wall white (3).jpg',\n",
              " '/content/drive/MyDrive/Citra BISINDO/S/body dot (4).jpg',\n",
              " '/content/drive/MyDrive/Citra BISINDO/S/body dot (2).jpg',\n",
              " '/content/drive/MyDrive/Citra BISINDO/S/body white (3).jpg',\n",
              " '/content/drive/MyDrive/Citra BISINDO/S/body white (4).jpg',\n",
              " '/content/drive/MyDrive/Citra BISINDO/S/wall white (2).jpg',\n",
              " '/content/drive/MyDrive/Citra BISINDO/S/wall white (4).jpg',\n",
              " '/content/drive/MyDrive/Citra BISINDO/S/body dot (1).jpg',\n",
              " '/content/drive/MyDrive/Citra BISINDO/S/body white (1).jpg',\n",
              " '/content/drive/MyDrive/Citra BISINDO/S/body white (2).jpg',\n",
              " '/content/drive/MyDrive/Citra BISINDO/NOTHING/IMG_0952.JPG',\n",
              " '/content/drive/MyDrive/Citra BISINDO/NOTHING/IMG_0946.JPG',\n",
              " '/content/drive/MyDrive/Citra BISINDO/NOTHING/IMG_0947.JPG',\n",
              " '/content/drive/MyDrive/Citra BISINDO/NOTHING/IMG_0950.JPG',\n",
              " '/content/drive/MyDrive/Citra BISINDO/NOTHING/IMG_0955.JPG',\n",
              " '/content/drive/MyDrive/Citra BISINDO/NOTHING/IMG_0953.JPG',\n",
              " '/content/drive/MyDrive/Citra BISINDO/NOTHING/IMG_0945.JPG',\n",
              " '/content/drive/MyDrive/Citra BISINDO/NOTHING/IMG_0951.JPG',\n",
              " '/content/drive/MyDrive/Citra BISINDO/NOTHING/IMG_0948.JPG',\n",
              " '/content/drive/MyDrive/Citra BISINDO/NOTHING/IMG_0954.JPG',\n",
              " '/content/drive/MyDrive/Citra BISINDO/NOTHING/IMG_0956.JPG',\n",
              " '/content/drive/MyDrive/Citra BISINDO/NOTHING/IMG_0949.JPG']"
            ]
          },
          "metadata": {},
          "execution_count": 32
        }
      ]
    },
    {
      "cell_type": "code",
      "execution_count": 25,
      "metadata": {
        "colab": {
          "base_uri": "https://localhost:8080/"
        },
        "id": "_ECuvjw_djyx",
        "outputId": "e0d55613-e08e-4209-abe4-66b5f8b1851a"
      },
      "outputs": [
        {
          "output_type": "stream",
          "name": "stdout",
          "text": [
            "0\n",
            "1\n",
            "2\n",
            "3\n",
            "4\n",
            "5\n",
            "6\n",
            "7\n",
            "8\n",
            "9\n",
            "10\n",
            "11\n",
            "12\n",
            "13\n",
            "14\n",
            "15\n",
            "16\n",
            "17\n",
            "18\n",
            "19\n",
            "20\n",
            "21\n",
            "22\n",
            "23\n",
            "24\n",
            "25\n",
            "26\n",
            "27\n",
            "28\n",
            "29\n",
            "30\n",
            "31\n",
            "32\n",
            "33\n",
            "34\n",
            "35\n",
            "All Training: 540\n"
          ]
        }
      ],
      "source": [
        "all_data = []\n",
        "labels = []\n",
        "count = 0\n",
        "\n",
        "for img_path, label in zip(dataset_collection, target):\n",
        "    print(count)\n",
        "    orig_img = cv2.imread(img_path)\n",
        "    seq_aug = [\n",
        "        None,\n",
        "        iaa.Affine(rotate=10),\n",
        "        iaa.Affine(rotate=-10),\n",
        "        iaa.Affine(rotate=15),\n",
        "        iaa.Affine(rotate=-15),\n",
        "        iaa.Affine(rotate=20),\n",
        "        iaa.Affine(rotate=-20),\n",
        "        iaa.Affine(rotate=25),\n",
        "        iaa.Affine(rotate=-25),\n",
        "        iaa.Affine(rotate=30),\n",
        "        iaa.Affine(rotate=-30),\n",
        "        iaa.Affine(rotate=35),\n",
        "        iaa.Affine(rotate=-35),\n",
        "        iaa.Fliplr(0.5), # horizontal flips\n",
        "        iaa.Crop(percent=(0, 0.1)), # random crops\n",
        "    ]\n",
        "\n",
        "    for aug in seq_aug:\n",
        "        img = orig_img.copy()\n",
        "        if aug != None:\n",
        "            img = aug(image=img)\n",
        "\n",
        "        img = cv2.cvtColor(img, cv2.COLOR_BGR2HSV)\n",
        "        img = resize(img, size_img)\n",
        "        all_data.append(img)\n",
        "        labels.append(label)\n",
        "    count += 1\n",
        "\n",
        "print('All Training:', len(all_data))"
      ]
    },
    {
      "cell_type": "markdown",
      "source": [
        "#Split Train, Val, Test"
      ],
      "metadata": {
        "id": "xFslUetEHMgg"
      }
    },
    {
      "cell_type": "code",
      "source": [
        "numpy_dir = \"/content/drive/MyDrive/numpy_dis_2/\"\n",
        "if not os.path.exists(numpy_dir):\n",
        "  os.mkdir(numpy_dir)"
      ],
      "metadata": {
        "id": "W5tNjprageRw"
      },
      "execution_count": 3,
      "outputs": []
    },
    {
      "cell_type": "code",
      "execution_count": null,
      "metadata": {
        "id": "0qvcSjBscOjC"
      },
      "outputs": [],
      "source": [
        "np.save(numpy_dir+\"all_data_225.npy\", all_data)\n",
        "np.save(numpy_dir+\"labels_225.npy\", labels)"
      ]
    },
    {
      "cell_type": "code",
      "execution_count": 4,
      "metadata": {
        "id": "r7WilDsHvwEP"
      },
      "outputs": [],
      "source": [
        "all_data = np.load(numpy_dir+\"all_data_225.npy\")\n",
        "labels = np.load(numpy_dir+\"labels_225.npy\")"
      ]
    },
    {
      "cell_type": "code",
      "source": [
        "# classes_folder = sorted(os.listdir('/content/drive/MyDrive/Citra BISINDO'))\n",
        "classes_folder = ['O', 'S', 'NOTHING']\n",
        "print(classes_folder)"
      ],
      "metadata": {
        "colab": {
          "base_uri": "https://localhost:8080/"
        },
        "id": "c-Ldd3CesK0O",
        "outputId": "060a38f0-7791-4f12-ded3-2e32112737d1"
      },
      "execution_count": 5,
      "outputs": [
        {
          "output_type": "stream",
          "name": "stdout",
          "text": [
            "['O', 'S', 'NOTHING']\n"
          ]
        }
      ]
    },
    {
      "cell_type": "code",
      "execution_count": 6,
      "metadata": {
        "id": "EF4E_KT-sc0H",
        "colab": {
          "base_uri": "https://localhost:8080/"
        },
        "outputId": "6157ef5d-e40e-4475-d654-dff8e23b9c6f"
      },
      "outputs": [
        {
          "output_type": "stream",
          "name": "stdout",
          "text": [
            "ID\tData Train\tData Val\tData Test\tName\n",
            "0\t144 sample\t18 sample\t18 sample\tO\n",
            "1\t144 sample\t18 sample\t18 sample\tS\n",
            "2\t144 sample\t18 sample\t18 sample\tNOTHING\n",
            "\n",
            "Total:\t 432 sample\t 54 sample\t 54 sample\n"
          ]
        }
      ],
      "source": [
        "X_train, X_test, y_train, y_test = train_test_split(all_data, labels, test_size=0.2, random_state=42, stratify=labels)\n",
        "X_train, X_test, y_train, y_test = np.array(X_train), np.array(X_test), np.array(y_train), np.array(y_test)\n",
        "\n",
        "X_test, X_val, y_test, y_val = train_test_split(X_test, y_test, test_size=0.5, random_state=42, stratify=y_test)\n",
        "X_test, X_val, y_test, y_val = np.array(X_test), np.array(X_val), np.array(y_test), np.array(y_val)\n",
        "\n",
        "print('ID\\tData Train\\tData Val\\tData Test\\tName')\n",
        "for i in range(len(classes_folder)):\n",
        "    count_train, count_val, count_test = len(np.where(y_train==i)[0]), len(np.where(y_val==i)[0]), len(np.where(y_test==i)[0])\n",
        "    print('{}\\t{} sample\\t{} sample\\t{} sample\\t{}'.format(i, count_train, count_val, count_test, classes_folder[i]))\n",
        "print('\\nTotal:\\t {} sample\\t {} sample\\t {} sample'.format(len(y_train), len(y_val), len(y_test)))"
      ]
    },
    {
      "cell_type": "code",
      "execution_count": 9,
      "metadata": {
        "id": "EA2GIfDuBgzG",
        "colab": {
          "base_uri": "https://localhost:8080/"
        },
        "outputId": "d5ccabd9-9653-4feb-f443-ad2b43ac2ad1"
      },
      "outputs": [
        {
          "output_type": "stream",
          "name": "stdout",
          "text": [
            "[0. 1. 0.]\n",
            "[1. 0. 0.]\n",
            "[0. 0. 1.]\n"
          ]
        }
      ],
      "source": [
        "y_train_cat = to_categorical(y_train)\n",
        "y_val_cat = to_categorical(y_val)\n",
        "y_test_cat = to_categorical(y_test)\n",
        "\n",
        "print(y_train_cat[0])\n",
        "print(y_val_cat[0])\n",
        "print(y_test_cat[0])"
      ]
    },
    {
      "cell_type": "markdown",
      "metadata": {
        "id": "776AnflSNNQD"
      },
      "source": [
        "## Machine Learning\n"
      ]
    },
    {
      "cell_type": "code",
      "source": [
        "num_label = len(y_train_cat[0])\n",
        "print(f'Jumlah class = {len(y_train_cat[0])}')"
      ],
      "metadata": {
        "colab": {
          "base_uri": "https://localhost:8080/"
        },
        "id": "DxHAFE5KD-qv",
        "outputId": "37c5a7aa-cc65-45c7-9f2c-1e02a7bfc7f2"
      },
      "execution_count": 10,
      "outputs": [
        {
          "output_type": "stream",
          "name": "stdout",
          "text": [
            "Jumlah class = 3\n"
          ]
        }
      ]
    },
    {
      "cell_type": "code",
      "source": [
        "clear_session()\n",
        "\n",
        "# Transfer Learning\n",
        "model = tf.keras.applications.VGG16(\n",
        "    include_top=False,\n",
        "    weights=\"imagenet\",\n",
        "    input_shape=(size_img),\n",
        "    pooling='avg',\n",
        "    classes=num_label,\n",
        "    classifier_activation=\"softmax\")\n",
        "\n",
        "fc = Dense(1024, activation='relu')(model.layers[-1].output)\n",
        "fc2 = Dense(512, activation='relu')(fc)\n",
        "fc3 = Dense(256, activation='relu')(fc2)\n",
        "fc4 = Dropout(0.4)(fc3)\n",
        "output = Dense(num_label, activation='softmax')(fc4)\n",
        "\n",
        "model = tf.keras.Model(inputs=model.inputs, outputs=output)\n",
        "model.compile(optimizer= Adam(learning_rate=0.001),\n",
        "              loss='categorical_crossentropy',\n",
        "              metrics=['accuracy'])\n",
        "\n",
        "model.summary()"
      ],
      "metadata": {
        "id": "ATWxpjk-TWke",
        "colab": {
          "base_uri": "https://localhost:8080/"
        },
        "outputId": "f1f2e1e7-b35d-40c1-86a5-eaac37b8f79a"
      },
      "execution_count": 28,
      "outputs": [
        {
          "output_type": "stream",
          "name": "stdout",
          "text": [
            "Model: \"model\"\n",
            "_________________________________________________________________\n",
            " Layer (type)                Output Shape              Param #   \n",
            "=================================================================\n",
            " input_1 (InputLayer)        [(None, 224, 224, 3)]     0         \n",
            "                                                                 \n",
            " block1_conv1 (Conv2D)       (None, 224, 224, 64)      1792      \n",
            "                                                                 \n",
            " block1_conv2 (Conv2D)       (None, 224, 224, 64)      36928     \n",
            "                                                                 \n",
            " block1_pool (MaxPooling2D)  (None, 112, 112, 64)      0         \n",
            "                                                                 \n",
            " block2_conv1 (Conv2D)       (None, 112, 112, 128)     73856     \n",
            "                                                                 \n",
            " block2_conv2 (Conv2D)       (None, 112, 112, 128)     147584    \n",
            "                                                                 \n",
            " block2_pool (MaxPooling2D)  (None, 56, 56, 128)       0         \n",
            "                                                                 \n",
            " block3_conv1 (Conv2D)       (None, 56, 56, 256)       295168    \n",
            "                                                                 \n",
            " block3_conv2 (Conv2D)       (None, 56, 56, 256)       590080    \n",
            "                                                                 \n",
            " block3_conv3 (Conv2D)       (None, 56, 56, 256)       590080    \n",
            "                                                                 \n",
            " block3_pool (MaxPooling2D)  (None, 28, 28, 256)       0         \n",
            "                                                                 \n",
            " block4_conv1 (Conv2D)       (None, 28, 28, 512)       1180160   \n",
            "                                                                 \n",
            " block4_conv2 (Conv2D)       (None, 28, 28, 512)       2359808   \n",
            "                                                                 \n",
            " block4_conv3 (Conv2D)       (None, 28, 28, 512)       2359808   \n",
            "                                                                 \n",
            " block4_pool (MaxPooling2D)  (None, 14, 14, 512)       0         \n",
            "                                                                 \n",
            " block5_conv1 (Conv2D)       (None, 14, 14, 512)       2359808   \n",
            "                                                                 \n",
            " block5_conv2 (Conv2D)       (None, 14, 14, 512)       2359808   \n",
            "                                                                 \n",
            " block5_conv3 (Conv2D)       (None, 14, 14, 512)       2359808   \n",
            "                                                                 \n",
            " block5_pool (MaxPooling2D)  (None, 7, 7, 512)         0         \n",
            "                                                                 \n",
            " global_average_pooling2d (G  (None, 512)              0         \n",
            " lobalAveragePooling2D)                                          \n",
            "                                                                 \n",
            " dense (Dense)               (None, 1024)              525312    \n",
            "                                                                 \n",
            " dense_1 (Dense)             (None, 512)               524800    \n",
            "                                                                 \n",
            " dense_2 (Dense)             (None, 256)               131328    \n",
            "                                                                 \n",
            " dropout (Dropout)           (None, 256)               0         \n",
            "                                                                 \n",
            " dense_3 (Dense)             (None, 3)                 771       \n",
            "                                                                 \n",
            "=================================================================\n",
            "Total params: 15,896,899\n",
            "Trainable params: 15,896,899\n",
            "Non-trainable params: 0\n",
            "_________________________________________________________________\n"
          ]
        }
      ]
    },
    {
      "cell_type": "code",
      "execution_count": null,
      "metadata": {
        "id": "B2o68jzCgxD7"
      },
      "outputs": [],
      "source": [
        "# Data Augmentation\n",
        "\n",
        "# data_augmentation = Sequential()\n",
        "# data_augmentation.add(RandomFlip(\"horizontal\", input_shape=size_img))\n",
        "# data_augmentation.add(RandomZoom(0.1))\n",
        "# data_augmentation.add(RandomContrast(0.2))\n"
      ]
    },
    {
      "cell_type": "code",
      "execution_count": null,
      "metadata": {
        "id": "fE2j9SoQ6nlR"
      },
      "outputs": [],
      "source": [
        "# Create Model\n",
        "# model = Sequential()\n",
        "# model.add(data_augmentation)\n",
        "# model.add(Conv2D(16, kernel_size=(3, 3),activation='relu',input_shape=size_img))\n",
        "# model.add(Conv2D(32, (3, 3), activation='relu'))\n",
        "# model.add(MaxPooling2D(pool_size=(2, 2)))\n",
        "# model.add(Conv2D(32, (3, 3), activation='relu'))\n",
        "# model.add(MaxPooling2D(pool_size=(2, 2)))\n",
        "# model.add(Conv2D(64, (3, 3), activation='relu'))\n",
        "# model.add(MaxPooling2D(pool_size=(2, 2)))\n",
        "# model.add(Flatten())\n",
        "# model.add(Dense(128, activation='relu'))\n",
        "# model.add(Dropout(0.4))\n",
        "# model.add(Dense(num_label, activation='softmax'))\n",
        "\n",
        "# clear_session()\n",
        "# model.summary()"
      ]
    },
    {
      "cell_type": "code",
      "source": [
        "#early stopping to monitor the validation accuracy and avoid overfitting\n",
        "early_stop = EarlyStopping(monitor='val_accuracy', mode='max', verbose=1, patience=5, restore_best_weights=True)\n",
        "\n",
        "#reducing learning rate on plateau\n",
        "rlrop = ReduceLROnPlateau(monitor='val_accuracy', mode='max', patience= 3, factor= 0.5, min_lr= 1e-6, verbose=1)\n",
        "\n",
        "#autosave best model\n",
        "model_checkpoint_best = ModelCheckpoint(filepath='/content/drive/MyDrive/Model_dis_2/Model-best.h5',\n",
        "                                   monitor='val_loss',\n",
        "                                   save_best_only=True)\n",
        "#model compiling\n",
        "model.compile(optimizer=Adam(learning_rate=0.0005), loss='categorical_crossentropy', metrics=['accuracy'])"
      ],
      "metadata": {
        "id": "n_JfIFU_-dqO"
      },
      "execution_count": 29,
      "outputs": []
    },
    {
      "cell_type": "code",
      "source": [
        "epochs=20\n",
        "batch_size=32\n",
        "history = model.fit(X_train, y_train_cat, epochs=epochs, validation_data=(X_val, y_val_cat), batch_size=batch_size, callbacks = [early_stop, rlrop],verbose = 1)"
      ],
      "metadata": {
        "colab": {
          "base_uri": "https://localhost:8080/"
        },
        "id": "aiFYjnD6GhLb",
        "outputId": "45be43e9-86cb-459b-b25a-e926806359dc"
      },
      "execution_count": 30,
      "outputs": [
        {
          "output_type": "stream",
          "name": "stdout",
          "text": [
            "Epoch 1/20\n",
            "14/14 [==============================] - 8s 466ms/step - loss: 2.6993 - accuracy: 0.3102 - val_loss: 1.1026 - val_accuracy: 0.3333 - lr: 0.0010\n",
            "Epoch 2/20\n",
            "14/14 [==============================] - 6s 443ms/step - loss: 1.1103 - accuracy: 0.3264 - val_loss: 1.0989 - val_accuracy: 0.3333 - lr: 0.0010\n",
            "Epoch 3/20\n",
            "14/14 [==============================] - 6s 444ms/step - loss: 1.0986 - accuracy: 0.3727 - val_loss: 1.0671 - val_accuracy: 0.3333 - lr: 0.0010\n",
            "Epoch 4/20\n",
            "14/14 [==============================] - 6s 440ms/step - loss: 0.9037 - accuracy: 0.5532 - val_loss: 0.5908 - val_accuracy: 0.6667 - lr: 0.0010\n",
            "Epoch 5/20\n",
            "14/14 [==============================] - 6s 436ms/step - loss: 0.7312 - accuracy: 0.6065 - val_loss: 0.4732 - val_accuracy: 0.6667 - lr: 0.0010\n",
            "Epoch 6/20\n",
            "14/14 [==============================] - 6s 427ms/step - loss: 0.5324 - accuracy: 0.6690 - val_loss: 0.4784 - val_accuracy: 0.6667 - lr: 0.0010\n",
            "Epoch 7/20\n",
            "14/14 [==============================] - ETA: 0s - loss: 2.7683 - accuracy: 0.6319\n",
            "Epoch 7: ReduceLROnPlateau reducing learning rate to 0.0005000000237487257.\n",
            "14/14 [==============================] - 6s 423ms/step - loss: 2.7683 - accuracy: 0.6319 - val_loss: 1.5945 - val_accuracy: 0.3333 - lr: 0.0010\n",
            "Epoch 8/20\n",
            "14/14 [==============================] - 6s 418ms/step - loss: 1.0700 - accuracy: 0.4282 - val_loss: 0.8101 - val_accuracy: 0.6667 - lr: 5.0000e-04\n",
            "Epoch 9/20\n",
            "14/14 [==============================] - 6s 422ms/step - loss: 0.6079 - accuracy: 0.6782 - val_loss: 0.4641 - val_accuracy: 0.7593 - lr: 5.0000e-04\n",
            "Epoch 10/20\n",
            "14/14 [==============================] - 6s 419ms/step - loss: 0.5021 - accuracy: 0.6898 - val_loss: 0.4604 - val_accuracy: 0.7407 - lr: 5.0000e-04\n",
            "Epoch 11/20\n",
            "14/14 [==============================] - 6s 420ms/step - loss: 0.4779 - accuracy: 0.6991 - val_loss: 0.4573 - val_accuracy: 0.7407 - lr: 5.0000e-04\n",
            "Epoch 12/20\n",
            "14/14 [==============================] - ETA: 0s - loss: 0.4798 - accuracy: 0.7037\n",
            "Epoch 12: ReduceLROnPlateau reducing learning rate to 0.0002500000118743628.\n",
            "14/14 [==============================] - 6s 420ms/step - loss: 0.4798 - accuracy: 0.7037 - val_loss: 0.4890 - val_accuracy: 0.6667 - lr: 5.0000e-04\n",
            "Epoch 13/20\n",
            "14/14 [==============================] - 6s 423ms/step - loss: 0.4617 - accuracy: 0.7014 - val_loss: 0.3998 - val_accuracy: 0.7963 - lr: 2.5000e-04\n",
            "Epoch 14/20\n",
            "14/14 [==============================] - 6s 428ms/step - loss: 0.4188 - accuracy: 0.7870 - val_loss: 0.4253 - val_accuracy: 0.8148 - lr: 2.5000e-04\n",
            "Epoch 15/20\n",
            "14/14 [==============================] - 6s 425ms/step - loss: 0.4437 - accuracy: 0.7639 - val_loss: 0.3890 - val_accuracy: 0.7963 - lr: 2.5000e-04\n",
            "Epoch 16/20\n",
            "14/14 [==============================] - 6s 424ms/step - loss: 0.3868 - accuracy: 0.8032 - val_loss: 0.3695 - val_accuracy: 0.7963 - lr: 2.5000e-04\n",
            "Epoch 17/20\n",
            "14/14 [==============================] - ETA: 0s - loss: 0.3772 - accuracy: 0.8009\n",
            "Epoch 17: ReduceLROnPlateau reducing learning rate to 0.0001250000059371814.\n",
            "14/14 [==============================] - 6s 425ms/step - loss: 0.3772 - accuracy: 0.8009 - val_loss: 0.3664 - val_accuracy: 0.8148 - lr: 2.5000e-04\n",
            "Epoch 18/20\n",
            "14/14 [==============================] - 6s 425ms/step - loss: 0.3674 - accuracy: 0.8009 - val_loss: 0.3552 - val_accuracy: 0.8148 - lr: 1.2500e-04\n",
            "Epoch 19/20\n",
            "14/14 [==============================] - ETA: 0s - loss: 0.3585 - accuracy: 0.8032Restoring model weights from the end of the best epoch: 14.\n",
            "14/14 [==============================] - 6s 429ms/step - loss: 0.3585 - accuracy: 0.8032 - val_loss: 0.3790 - val_accuracy: 0.7963 - lr: 1.2500e-04\n",
            "Epoch 19: early stopping\n"
          ]
        }
      ]
    },
    {
      "cell_type": "code",
      "execution_count": null,
      "metadata": {
        "id": "bMHobU0XTKpI"
      },
      "outputs": [],
      "source": [
        "# Compiling\n",
        "# model.compile(optimizer=optimizer,loss = tf.keras.losses.CategoricalCrossentropy(from_logits=False), metrics=['accuracy'])"
      ]
    },
    {
      "cell_type": "code",
      "execution_count": null,
      "metadata": {
        "id": "q-gxzQFDJbtk"
      },
      "outputs": [],
      "source": [
        "# Train Model\n",
        "# epochs=10\n",
        "# history = model.fit(X_train, y_train_cat, epochs=epochs, validation_data=(X_val, y_val_cat))"
      ]
    },
    {
      "cell_type": "code",
      "execution_count": 32,
      "metadata": {
        "id": "om2iNyh5qJXG",
        "colab": {
          "base_uri": "https://localhost:8080/",
          "height": 499
        },
        "outputId": "8b86da29-ad28-4a39-c3fa-b3396bc6af15"
      },
      "outputs": [
        {
          "output_type": "display_data",
          "data": {
            "text/plain": [
              "<Figure size 576x576 with 2 Axes>"
            ],
            "image/png": "[encoded data removed]"
          },
          "metadata": {
            "needs_background": "light"
          }
        }
      ],
      "source": [
        "# Visualization\n",
        "acc = history.history['accuracy']\n",
        "val_acc = history.history['val_accuracy']\n",
        "\n",
        "loss = history.history['loss']\n",
        "val_loss = history.history['val_loss']\n",
        "\n",
        "epochs_range = range(19)\n",
        "\n",
        "plt.figure(figsize=(8, 8))\n",
        "plt.subplot(1, 2, 1)\n",
        "plt.plot(epochs_range, acc, label='Training Accuracy')\n",
        "plt.plot(epochs_range, val_acc, label='Validation Accuracy')\n",
        "plt.legend(loc='lower right')\n",
        "plt.title('Training and Validation Accuracy')\n",
        "\n",
        "plt.subplot(1, 2, 2)\n",
        "plt.plot(epochs_range, loss, label='Training Loss')\n",
        "plt.plot(epochs_range, val_loss, label='Validation Loss')\n",
        "plt.legend(loc='upper right')\n",
        "plt.title('Training and Validation Loss')\n",
        "plt.show()"
      ]
    },
    {
      "cell_type": "code",
      "execution_count": 18,
      "metadata": {
        "colab": {
          "base_uri": "https://localhost:8080/"
        },
        "id": "hOnV0Wifrirk",
        "outputId": "a755b2e9-fc06-4e81-9f44-39968a153fb5"
      },
      "outputs": [
        {
          "output_type": "stream",
          "name": "stdout",
          "text": [
            "              precision    recall  f1-score   support\n",
            "\n",
            "           0       0.85      0.94      0.89        18\n",
            "           1       0.93      0.78      0.85        18\n",
            "           2       1.00      1.00      1.00        18\n",
            "\n",
            "   micro avg       0.92      0.91      0.92        54\n",
            "   macro avg       0.93      0.91      0.91        54\n",
            "weighted avg       0.93      0.91      0.91        54\n",
            " samples avg       0.91      0.91      0.91        54\n",
            "\n"
          ]
        },
        {
          "output_type": "stream",
          "name": "stderr",
          "text": [
            "/usr/local/lib/python3.7/dist-packages/sklearn/metrics/_classification.py:1318: UndefinedMetricWarning: Precision and F-score are ill-defined and being set to 0.0 in samples with no predicted labels. Use `zero_division` parameter to control this behavior.\n",
            "  _warn_prf(average, modifier, msg_start, len(result))\n"
          ]
        }
      ],
      "source": [
        "# Evaluation\n",
        "p_pred = model.predict(X_test)\n",
        "y_pred = np.where(p_pred > 0.5, 1, 0)\n",
        "\n",
        "cr = classification_report(y_test_cat, y_pred)\n",
        "print(cr)"
      ]
    },
    {
      "cell_type": "code",
      "source": [
        "score = model.evaluate(X_test, y_test_cat, verbose = 0) \n",
        "\n",
        "print('Test loss:', score[0]) \n",
        "print('Test accuracy:', score[1])"
      ],
      "metadata": {
        "colab": {
          "base_uri": "https://localhost:8080/"
        },
        "id": "mpmBt4TaJPVH",
        "outputId": "bcf6dd5e-74e0-42c7-ef73-e8eb0abfe994"
      },
      "execution_count": 19,
      "outputs": [
        {
          "output_type": "stream",
          "name": "stdout",
          "text": [
            "Test loss: 0.39001357555389404\n",
            "Test accuracy: 0.9259259104728699\n"
          ]
        }
      ]
    },
    {
      "cell_type": "code",
      "source": [
        "X_test.shape\n"
      ],
      "metadata": {
        "colab": {
          "base_uri": "https://localhost:8080/"
        },
        "id": "hNuF3hqwUwPd",
        "outputId": "b84464ba-f186-4e7b-9a5c-e7e1e9135112"
      },
      "execution_count": 20,
      "outputs": [
        {
          "output_type": "execute_result",
          "data": {
            "text/plain": [
              "(54, 224, 224, 3)"
            ]
          },
          "metadata": {},
          "execution_count": 20
        }
      ]
    },
    {
      "cell_type": "code",
      "source": [
        "classes[0]"
      ],
      "metadata": {
        "id": "MzhzdGErfbK8",
        "outputId": "018b6d65-0032-41c6-8a60-27c3329cd883",
        "colab": {
          "base_uri": "https://localhost:8080/"
        }
      },
      "execution_count": 27,
      "outputs": [
        {
          "output_type": "execute_result",
          "data": {
            "text/plain": [
              "array([1.0000000e+00, 6.5325955e-15, 0.0000000e+00], dtype=float32)"
            ]
          },
          "metadata": {},
          "execution_count": 27
        }
      ]
    },
    {
      "cell_type": "code",
      "execution_count": null,
      "metadata": {
        "id": "rNkYPADYtSij"
      },
      "outputs": [],
      "source": [
        "# Test image in folder 'test'\n",
        "from keras.preprocessing import image\n",
        "import numpy as np\n",
        "import os\n",
        "directory = '/content/drive/MyDrive/Citra BISINDO/NOTHING'\n",
        "name_class = ['O','S','NOTHING']\n",
        "image_name = []\n",
        "images = []\n",
        "collect_img = []\n",
        "count_img = 9\n",
        "list_file = sorted(os.listdir(directory))\n",
        "model = tf.keras.models.load_model('/content/drive/MyDrive/Model_dis_2/Model-best.h5')\n",
        "for img in list_file[:count_img]:\n",
        "    image_name.append(img)\n",
        "    img = os.path.join(directory, img)\n",
        "    img = image.load_img(img, target_size=size_img)\n",
        "    img_np = image.img_to_array(img)\n",
        "    img = np.expand_dims(img_np, axis=0)\n",
        "    images.append(img)\n",
        "    collect_img.append(img_np)\n",
        "\n",
        "images = np.vstack(images)\n",
        "classes = model.predict(images)\n",
        "\n",
        "plt.figure(figsize=(20, 20))\n",
        "for i in range(len(list_file[:count_img][:count_img])):\n",
        "    idX_class = int(classes[i][0])\n",
        "    ax = plt.subplot(3, 3, i + 1)\n",
        "\n",
        "    if idX_class == 0:\n",
        "      # print(i+1, image_name[i],'    ', name_class[1])\n",
        "      plt.imshow(collect_img[i].astype(\"uint8\"))\n",
        "      plt.title(image_name[i]+'prediksi huruf => '+name_class[0])\n",
        "      plt.axis(\"off\")\n",
        "\n",
        "    if idX_class == 1:\n",
        "      # print(i+1, image_name[i],'    ', name_class[1])\n",
        "      plt.imshow(collect_img[i].astype(\"uint8\"))\n",
        "      plt.title(image_name[i]+'prediksi huruf => '+name_class[1])\n",
        "      plt.axis(\"off\")\n",
        "      \n",
        "    else:\n",
        "      # print(i+1, image_name[i],'    ', name_class[0])\n",
        "      plt.imshow(collect_img[i].astype(\"uint8\"))\n",
        "      plt.title(image_name[i]+'prediksi huruf => '+name_class[2])\n",
        "      plt.axis(\"off\")"
      ]
    },
    {
      "cell_type": "markdown",
      "source": [
        "# Camera Acces"
      ],
      "metadata": {
        "id": "i1ni_kDtGRqF"
      }
    },
    {
      "cell_type": "code",
      "source": [
        "from IPython.display import display, Javascript, Image\n",
        "from google.colab.output import eval_js\n",
        "import html\n",
        "from base64 import b64decode, b64encode\n",
        "import cv2\n",
        "import numpy as np\n",
        "import PIL\n",
        "import io"
      ],
      "metadata": {
        "id": "mBNNghKKGPMT"
      },
      "execution_count": null,
      "outputs": []
    },
    {
      "cell_type": "code",
      "source": [
        "def jsob_to_image(js_object):\n",
        "  # decode base64 image\n",
        "  image_bytes = b64decode(js_object.split(',')[1])\n",
        "  # convert bytes to numpy array\n",
        "  img_array = np.frombuffer(image_bytes, dtype=np.uint8)\n",
        "  # convert numpy array into OpenCV BGR \n",
        "  frame = cv2.imdecode(img_array, flags=1)\n",
        "\n",
        "  return frame"
      ],
      "metadata": {
        "id": "Qrb0bikiGUwN"
      },
      "execution_count": null,
      "outputs": []
    },
    {
      "cell_type": "code",
      "source": [
        "def video_stream():\n",
        "  js = Javascript('''\n",
        "    var video;\n",
        "    var div = null;\n",
        "    var stream;\n",
        "    var captureCanvas;\n",
        "    var imgElement;\n",
        "    var labelElement;\n",
        "    \n",
        "    var pendingResolve = null;\n",
        "    var shutdown = false;\n",
        "    \n",
        "    function removeDom() {\n",
        "       stream.getVideoTracks()[0].stop();\n",
        "       video.remove();\n",
        "       div.remove();\n",
        "       video = null;\n",
        "       div = null;\n",
        "       stream = null;\n",
        "       imgElement = null;\n",
        "       captureCanvas = null;\n",
        "       labelElement = null;\n",
        "    }\n",
        "    \n",
        "    function onAnimationFrame() {\n",
        "      if (!shutdown) {\n",
        "        window.requestAnimationFrame(onAnimationFrame);\n",
        "      }\n",
        "      if (pendingResolve) {\n",
        "        var result = \"\";\n",
        "        if (!shutdown) {\n",
        "          captureCanvas.getContext('2d').drawImage(video, 0, 0, 640, 480);\n",
        "          result = captureCanvas.toDataURL('image/jpeg', 0.8)\n",
        "        }\n",
        "        var lp = pendingResolve;\n",
        "        pendingResolve = null;\n",
        "        lp(result);\n",
        "      }\n",
        "    }\n",
        "    \n",
        "    async function createDom() {\n",
        "      if (div !== null) {\n",
        "        return stream;\n",
        "      }\n",
        "      div = document.createElement('div');\n",
        "      div.style.border = '2px solid black';\n",
        "      div.style.padding = '3px';\n",
        "      div.style.width = '100%';\n",
        "      div.style.maxWidth = '600px';\n",
        "      document.body.appendChild(div);\n",
        "      \n",
        "           \n",
        "      video = document.createElement('video');\n",
        "      video.style.display = 'block';\n",
        "      video.width = div.clientWidth - 6;\n",
        "      video.setAttribute('playsinline', '');\n",
        "      video.onclick = () => { shutdown = true; };\n",
        "      stream = await navigator.mediaDevices.getUserMedia(\n",
        "          {video: { facingMode: \"environment\"}});\n",
        "      div.appendChild(video);\n",
        "      imgElement = document.createElement('img');\n",
        "      imgElement.style.position = 'absolute';\n",
        "      imgElement.style.zIndex = 1;\n",
        "      imgElement.onclick = () => { shutdown = true; };\n",
        "      div.appendChild(imgElement);\n",
        "      \n",
        "      const instruction = document.createElement('div');\n",
        "      instruction.innerHTML = \n",
        "          '<span style=\"blue: red; font-weight: bold;\">' +\n",
        "          'click here to stop the video</span>';\n",
        "      div.appendChild(instruction);\n",
        "      instruction.onclick = () => { shutdown = true; };\n",
        "      \n",
        "      video.srcObject = stream;\n",
        "      await video.play();\n",
        "      captureCanvas = document.createElement('canvas');\n",
        "      captureCanvas.width = 640; \n",
        "      captureCanvas.height = 480; \n",
        "      window.requestAnimationFrame(onAnimationFrame);\n",
        "      \n",
        "      return stream;\n",
        "    }\n",
        "    async function stream_frame() {\n",
        "      if (shutdown) {\n",
        "        removeDom();\n",
        "        shutdown = false;\n",
        "        return '';\n",
        "      }\n",
        "      var preCreate = Date.now();\n",
        "      stream = await createDom();\n",
        "      \n",
        "      var preShow = Date.now();\n",
        "  \n",
        "            \n",
        "      \n",
        "      var preCapture = Date.now();\n",
        "      var result = await new Promise(function(resolve, reject) {\n",
        "        pendingResolve = resolve;\n",
        "      });\n",
        "      shutdown = false;\n",
        "      \n",
        "      return {'create': preShow - preCreate, \n",
        "              'show': preCapture - preShow, \n",
        "              'capture': Date.now() - preCapture,\n",
        "              'img': result};\n",
        "    }\n",
        "    ''')\n",
        "\n",
        "  display(js)\n",
        "  \n",
        "def video_frame():\n",
        "  data = eval_js('stream_frame()')\n",
        "  return data\n",
        "\n",
        "# Get the webcam stream and forward it to python \n",
        "video_stream()\n",
        "\n",
        "while True:\n",
        "    frame_js = video_frame()\n",
        "    if not frame_js:\n",
        "        break\n",
        "    img = jsob_to_image(frame_js[\"img\"])"
      ],
      "metadata": {
        "id": "QVhABR0IGY_o"
      },
      "execution_count": null,
      "outputs": []
    },
    {
      "cell_type": "code",
      "source": [
        "# Get the webcam stream and forward it to python \n",
        "video_stream()\n",
        "\n",
        "while True:\n",
        "    frame_js = video_frame()\n",
        "    if not frame_js:\n",
        "        break\n",
        "    img = jsob_to_image(frame_js[\"img\"])"
      ],
      "metadata": {
        "id": "pJNj-FKxGfiK"
      },
      "execution_count": null,
      "outputs": []
    }
  ],
  "metadata": {
    "colab": {
      "collapsed_sections": [
        "8MiMTc5_NNPj"
      ],
      "name": "DIS_2.ipynb",
      "provenance": [],
      "include_colab_link": true
    },
    "gpuClass": "standard",
    "kernelspec": {
      "display_name": "Python 3",
      "language": "python",
      "name": "python3"
    },
    "language_info": {
      "codemirror_mode": {
        "name": "ipython",
        "version": 3
      },
      "file_extension": ".py",
      "mimetype": "text/x-python",
      "name": "python",
      "nbconvert_exporter": "python",
      "pygments_lexer": "ipython3",
      "version": "3.7.8"
    },
    "accelerator": "GPU"
  },
  "nbformat": 4,
  "nbformat_minor": 0
}