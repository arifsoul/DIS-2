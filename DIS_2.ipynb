{
  "cells": [
    {
      "cell_type": "markdown",
      "metadata": {
        "id": "view-in-github",
        "colab_type": "text"
      },
      "source": [
        "<a href=\"https://colab.research.google.com/github/arifsoul/DIS-2/blob/Arif/DIS_2.ipynb\" target=\"_parent\"><img src=\"https://colab.research.google.com/assets/colab-badge.svg\" alt=\"Open In Colab\"/></a>"
      ]
    },
    {
      "cell_type": "code",
      "execution_count": 1,
      "metadata": {
        "colab": {
          "base_uri": "https://localhost:8080/"
        },
        "id": "4P9WBnpIf3CA",
        "outputId": "09e0d38f-a427-403d-ae0a-09d5052005e3"
      },
      "outputs": [
        {
          "output_type": "stream",
          "name": "stdout",
          "text": [
            "Mounted at /content/drive\n"
          ]
        }
      ],
      "source": [
        "from google.colab import drive\n",
        "drive.mount('/content/drive')"
      ]
    },
    {
      "cell_type": "code",
      "execution_count": 16,
      "metadata": {
        "id": "cwO5c1ABNNQE"
      },
      "outputs": [],
      "source": [
        "import matplotlib.pyplot as plt\n",
        "import numpy as np\n",
        "import os\n",
        "import PIL\n",
        "import tensorflow as tf\n",
        "\n",
        "import tensorflow as tf\n",
        "from tensorflow import keras\n",
        "from tensorflow.keras.optimizers import Adam\n",
        "from tensorflow.keras.utils import to_categorical\n",
        "from tensorflow.keras import layers\n",
        "from tensorflow.keras.models import Sequential\n",
        "from tensorflow.keras.layers import Dense, Dropout, Flatten\n",
        "from tensorflow.keras.layers import Conv2D, MaxPooling2D\n",
        "from tensorflow.keras.preprocessing import image\n",
        "from tensorflow.keras.layers.experimental.preprocessing import RandomContrast, RandomFlip, RandomRotation, RandomZoom\n",
        "from tensorflow.keras.callbacks import Callback, EarlyStopping, ReduceLROnPlateau, ModelCheckpoint\n",
        "from tensorflow.keras.backend import clear_session\n",
        "from sklearn.metrics import classification_report, confusion_matrix\n",
        "import numpy as np\n",
        "import pandas as pd\n",
        "import seaborn as sn\n",
        "import matplotlib.pyplot as plt\n",
        "from sklearn.model_selection import train_test_split\n",
        "\n",
        "from skimage.transform import resize\n",
        "import imgaug.augmenters as iaa\n",
        "import cv2\n",
        "\n",
        "batch_size = 32\n",
        "size_img = (100, 100, 3)"
      ]
    },
    {
      "cell_type": "markdown",
      "metadata": {
        "id": "8MiMTc5_NNPj"
      },
      "source": [
        "#Prepare dataset\n"
      ]
    },
    {
      "cell_type": "code",
      "execution_count": 3,
      "metadata": {
        "colab": {
          "base_uri": "https://localhost:8080/"
        },
        "id": "c4LXQXJicii9",
        "outputId": "03a3c632-cfe6-4bfd-d107-ca4dbd27b178"
      },
      "outputs": [
        {
          "output_type": "stream",
          "name": "stdout",
          "text": [
            "['O', 'S']\n"
          ]
        }
      ],
      "source": [
        "path_dataset = '/content/drive/MyDrive/Citra BISINDO'\n",
        "# folders = sorted(os.listdir(path_dataset))\n",
        "folders = ['O', 'S']\n",
        "print(folders)"
      ]
    },
    {
      "cell_type": "code",
      "execution_count": 4,
      "metadata": {
        "colab": {
          "base_uri": "https://localhost:8080/"
        },
        "id": "2jG9k3lYdNrw",
        "outputId": "93012c56-4d7e-4fbe-be53-c159b2305ebc"
      },
      "outputs": [
        {
          "output_type": "stream",
          "name": "stdout",
          "text": [
            "ID\tSample\t\tName\n",
            "0\t12 sample\tO\n",
            "1\t12 sample\tS\n",
            "\n",
            "Total:\t24 sample\n"
          ]
        }
      ],
      "source": [
        "dataset_collection = []\n",
        "target = []\n",
        "classes = []\n",
        "\n",
        "cls_count = 0\n",
        "print('ID\\tSample\\t\\tName')\n",
        "for folder in folders:\n",
        "    dir = os.path.join(path_dataset, folder)\n",
        "    filename = os.listdir(dir)\n",
        "    count_img = 0\n",
        "\n",
        "    if len(filename) > 0:\n",
        "        for f in filename:\n",
        "            img_path =  os.path.join(dir, f)  \n",
        "            dataset_collection.append(img_path)\n",
        "            target.append(cls_count)\n",
        "            count_img += 1 \n",
        "\n",
        "        print('{}\\t{} sample\\t{}'.format(cls_count, count_img, folder))\n",
        "        classes.append(folder)\n",
        "        cls_count += 1\n",
        "\n",
        "print('\\nTotal:\\t{} sample'.format(len(dataset_collection)))"
      ]
    },
    {
      "cell_type": "code",
      "source": [
        "dataset_collection"
      ],
      "metadata": {
        "colab": {
          "base_uri": "https://localhost:8080/"
        },
        "id": "VbsMgjwqXGUj",
        "outputId": "6f3dd583-6125-49c4-ae8d-a9344596c48b"
      },
      "execution_count": 5,
      "outputs": [
        {
          "output_type": "execute_result",
          "data": {
            "text/plain": [
              "['/content/drive/MyDrive/Citra BISINDO/O/body white (1).jpg',\n",
              " '/content/drive/MyDrive/Citra BISINDO/O/body dot (2).jpg',\n",
              " '/content/drive/MyDrive/Citra BISINDO/O/body white (2).jpg',\n",
              " '/content/drive/MyDrive/Citra BISINDO/O/wall white (3).jpg',\n",
              " '/content/drive/MyDrive/Citra BISINDO/O/body dot (4).jpg',\n",
              " '/content/drive/MyDrive/Citra BISINDO/O/wall white (2).jpg',\n",
              " '/content/drive/MyDrive/Citra BISINDO/O/body white (3).jpg',\n",
              " '/content/drive/MyDrive/Citra BISINDO/O/wall white (1).jpg',\n",
              " '/content/drive/MyDrive/Citra BISINDO/O/body dot (1).jpg',\n",
              " '/content/drive/MyDrive/Citra BISINDO/O/body white (4).jpg',\n",
              " '/content/drive/MyDrive/Citra BISINDO/O/body dot (3).jpg',\n",
              " '/content/drive/MyDrive/Citra BISINDO/O/wall white (4).jpg',\n",
              " '/content/drive/MyDrive/Citra BISINDO/S/body dot (3).jpg',\n",
              " '/content/drive/MyDrive/Citra BISINDO/S/wall white (1).jpg',\n",
              " '/content/drive/MyDrive/Citra BISINDO/S/wall white (3).jpg',\n",
              " '/content/drive/MyDrive/Citra BISINDO/S/body dot (4).jpg',\n",
              " '/content/drive/MyDrive/Citra BISINDO/S/body dot (2).jpg',\n",
              " '/content/drive/MyDrive/Citra BISINDO/S/body white (3).jpg',\n",
              " '/content/drive/MyDrive/Citra BISINDO/S/body white (4).jpg',\n",
              " '/content/drive/MyDrive/Citra BISINDO/S/wall white (2).jpg',\n",
              " '/content/drive/MyDrive/Citra BISINDO/S/wall white (4).jpg',\n",
              " '/content/drive/MyDrive/Citra BISINDO/S/body dot (1).jpg',\n",
              " '/content/drive/MyDrive/Citra BISINDO/S/body white (1).jpg',\n",
              " '/content/drive/MyDrive/Citra BISINDO/S/body white (2).jpg']"
            ]
          },
          "metadata": {},
          "execution_count": 5
        }
      ]
    },
    {
      "cell_type": "code",
      "execution_count": 10,
      "metadata": {
        "colab": {
          "base_uri": "https://localhost:8080/"
        },
        "id": "_ECuvjw_djyx",
        "outputId": "27019582-49b0-46be-af60-158999de347d"
      },
      "outputs": [
        {
          "output_type": "stream",
          "name": "stdout",
          "text": [
            "0\n",
            "1\n",
            "2\n",
            "3\n",
            "4\n",
            "5\n",
            "6\n",
            "7\n",
            "8\n",
            "9\n",
            "10\n",
            "11\n",
            "12\n",
            "13\n",
            "14\n",
            "15\n",
            "16\n",
            "17\n",
            "18\n",
            "19\n",
            "20\n",
            "21\n",
            "22\n",
            "23\n",
            "All Training: 408\n"
          ]
        }
      ],
      "source": [
        "all_data = []\n",
        "labels = []\n",
        "count = 0\n",
        "\n",
        "for img_path, label in zip(dataset_collection, target):\n",
        "    print(count)\n",
        "    orig_img = cv2.imread(img_path)\n",
        "    seq_aug = [\n",
        "        None,\n",
        "        iaa.Affine(rotate=10),\n",
        "        iaa.Affine(rotate=-10),\n",
        "        iaa.Affine(rotate=20),\n",
        "        iaa.Affine(rotate=-20),\n",
        "        iaa.Affine(rotate=30),\n",
        "        iaa.Affine(rotate=-30),\n",
        "        iaa.Affine(rotate=30),\n",
        "        iaa.Affine(rotate=-30),\n",
        "        iaa.Fliplr(0.5),\n",
        "        iaa.Fliplr(0.5), # horizontal flips\n",
        "        iaa.Crop(percent=(0, 0.1)), # random crops\n",
        "        # Small gaussian blur with random sigma between 0 and 0.5.\n",
        "        # But we only blur about 50% of all images.\n",
        "        iaa.Sometimes(\n",
        "            0.5,\n",
        "            iaa.GaussianBlur(sigma=(0, 0.5))\n",
        "        ),\n",
        "        # Strengthen or weaken the contrast in each image.\n",
        "        iaa.LinearContrast((0.75, 1.5)),\n",
        "        # Add gaussian noise.\n",
        "        # For 50% of all images, we sample the noise once per pixel.\n",
        "        # For the other 50% of all images, we sample the noise per pixel AND\n",
        "        # channel. This can change the color (not only brightness) of the\n",
        "        # pixels.\n",
        "        iaa.AdditiveGaussianNoise(loc=0, scale=(0.0, 0.05*255), per_channel=0.5),\n",
        "        # Make some images brighter and some darker.\n",
        "        # In 20% of all cases, we sample the multiplier once per channel,\n",
        "        # which can end up changing the color of the images.\n",
        "        iaa.Multiply((0.8, 1.2), per_channel=0.2),\n",
        "        # Apply affine transformations to each image.\n",
        "        # Scale/zoom them, translate/move them, rotate them and shear them.\n",
        "        iaa.Affine(\n",
        "            scale={\"x\": (0.8, 1.2), \"y\": (0.8, 1.2)},\n",
        "            translate_percent={\"x\": (-0.2, 0.2), \"y\": (-0.2, 0.2)},\n",
        "            rotate=(-25, 25),\n",
        "            shear=(-8, 8)\n",
        "        )\n",
        "\n",
        "    ]\n",
        "\n",
        "    for aug in seq_aug:\n",
        "        img = orig_img.copy()\n",
        "        if aug != None:\n",
        "            img = aug(image=img)\n",
        "\n",
        "        img = cv2.cvtColor(img, cv2.COLOR_BGR2HSV)\n",
        "        img = resize(img, size_img)\n",
        "        all_data.append(img)\n",
        "        labels.append(label)\n",
        "    count += 1\n",
        "\n",
        "print('All Training:', len(all_data))"
      ]
    },
    {
      "cell_type": "code",
      "source": [
        "import numpy as np\n",
        "import imgaug as ia\n",
        "import imgaug.augmenters as iaa\n",
        "\n",
        "\n",
        "ia.seed(1)\n",
        "\n",
        "# Example batch of images.\n",
        "# The array has shape (32, 64, 64, 3) and dtype uint8.\n",
        "images = np.array(\n",
        "    [ia.quokka(size=(64, 64)) for _ in range(32)],\n",
        "    dtype=np.uint8\n",
        ")\n",
        "\n",
        "seq = iaa.Sequential([\n",
        "    iaa.Fliplr(0.5), # horizontal flips\n",
        "    iaa.Crop(percent=(0, 0.1)), # random crops\n",
        "    # Small gaussian blur with random sigma between 0 and 0.5.\n",
        "    # But we only blur about 50% of all images.\n",
        "    iaa.Sometimes(\n",
        "        0.5,\n",
        "        iaa.GaussianBlur(sigma=(0, 0.5))\n",
        "    ),\n",
        "    # Strengthen or weaken the contrast in each image.\n",
        "    iaa.LinearContrast((0.75, 1.5)),\n",
        "    # Add gaussian noise.\n",
        "    # For 50% of all images, we sample the noise once per pixel.\n",
        "    # For the other 50% of all images, we sample the noise per pixel AND\n",
        "    # channel. This can change the color (not only brightness) of the\n",
        "    # pixels.\n",
        "    iaa.AdditiveGaussianNoise(loc=0, scale=(0.0, 0.05*255), per_channel=0.5),\n",
        "    # Make some images brighter and some darker.\n",
        "    # In 20% of all cases, we sample the multiplier once per channel,\n",
        "    # which can end up changing the color of the images.\n",
        "    iaa.Multiply((0.8, 1.2), per_channel=0.2),\n",
        "    # Apply affine transformations to each image.\n",
        "    # Scale/zoom them, translate/move them, rotate them and shear them.\n",
        "    iaa.Affine(\n",
        "        scale={\"x\": (0.8, 1.2), \"y\": (0.8, 1.2)},\n",
        "        translate_percent={\"x\": (-0.2, 0.2), \"y\": (-0.2, 0.2)},\n",
        "        rotate=(-25, 25),\n",
        "        shear=(-8, 8)\n",
        "    )\n",
        "], random_order=True) # apply augmenters in random order\n",
        "\n",
        "images_aug = seq(images=images)"
      ],
      "metadata": {
        "id": "7hcqz8yIcKCD"
      },
      "execution_count": null,
      "outputs": []
    },
    {
      "cell_type": "markdown",
      "source": [
        "#Split Train, Val, Test"
      ],
      "metadata": {
        "id": "xFslUetEHMgg"
      }
    },
    {
      "cell_type": "code",
      "source": [
        "numpy_dir = \"/content/drive/MyDrive/numpy_dis_2/\"\n",
        "if not os.path.exists(numpy_dir):\n",
        "  os.mkdir(numpy_dir)"
      ],
      "metadata": {
        "id": "W5tNjprageRw"
      },
      "execution_count": 2,
      "outputs": []
    },
    {
      "cell_type": "code",
      "execution_count": 32,
      "metadata": {
        "id": "0qvcSjBscOjC"
      },
      "outputs": [],
      "source": [
        "np.save(numpy_dir+\"all_data.npy\", all_data)\n",
        "np.save(numpy_dir+\"labels.npy\", labels)"
      ]
    },
    {
      "cell_type": "code",
      "execution_count": 3,
      "metadata": {
        "id": "r7WilDsHvwEP"
      },
      "outputs": [],
      "source": [
        "all_data = np.load(numpy_dir+\"all_data.npy\")\n",
        "labels = np.load(numpy_dir+\"labels.npy\")"
      ]
    },
    {
      "cell_type": "code",
      "source": [
        "# classes_folder = sorted(os.listdir('/content/drive/MyDrive/Citra BISINDO'))\n",
        "classes_folder = ['O', 'S']\n",
        "print(classes_folder)"
      ],
      "metadata": {
        "colab": {
          "base_uri": "https://localhost:8080/"
        },
        "id": "c-Ldd3CesK0O",
        "outputId": "ad52c055-e8ce-4a2e-f032-25af3f37f79b"
      },
      "execution_count": 5,
      "outputs": [
        {
          "output_type": "stream",
          "name": "stdout",
          "text": [
            "['O', 'S']\n"
          ]
        }
      ]
    },
    {
      "cell_type": "code",
      "execution_count": 6,
      "metadata": {
        "id": "EF4E_KT-sc0H",
        "colab": {
          "base_uri": "https://localhost:8080/"
        },
        "outputId": "5b4fc593-f250-47ea-d8e7-595f2fe8bbc6"
      },
      "outputs": [
        {
          "output_type": "stream",
          "name": "stdout",
          "text": [
            "ID\tData Train\tData Val\tData Test\tName\n",
            "0\t163 sample\t21 sample\t20 sample\tO\n",
            "1\t163 sample\t20 sample\t21 sample\tS\n",
            "\n",
            "Total:\t 326 sample\t 41 sample\t 41 sample\n"
          ]
        }
      ],
      "source": [
        "X_train, X_test, y_train, y_test = train_test_split(all_data, labels, test_size=0.2, random_state=42, stratify=labels)\n",
        "X_train, X_test, y_train, y_test = np.array(X_train), np.array(X_test), np.array(y_train), np.array(y_test)\n",
        "\n",
        "X_test, X_val, y_test, y_val = train_test_split(X_test, y_test, test_size=0.5, random_state=42, stratify=y_test)\n",
        "X_test, X_val, y_test, y_val = np.array(X_test), np.array(X_val), np.array(y_test), np.array(y_val)\n",
        "\n",
        "print('ID\\tData Train\\tData Val\\tData Test\\tName')\n",
        "for i in range(len(classes_folder)):\n",
        "    count_train, count_val, count_test = len(np.where(y_train==i)[0]), len(np.where(y_val==i)[0]), len(np.where(y_test==i)[0])\n",
        "    print('{}\\t{} sample\\t{} sample\\t{} sample\\t{}'.format(i, count_train, count_val, count_test, classes_folder[i]))\n",
        "print('\\nTotal:\\t {} sample\\t {} sample\\t {} sample'.format(len(y_train), len(y_val), len(y_test)))"
      ]
    },
    {
      "cell_type": "code",
      "execution_count": 7,
      "metadata": {
        "id": "EA2GIfDuBgzG"
      },
      "outputs": [],
      "source": [
        "y_train_cat = to_categorical(y_train)\n",
        "y_val_cat = to_categorical(y_val)\n",
        "y_test_cat = to_categorical(y_test)"
      ]
    },
    {
      "cell_type": "markdown",
      "metadata": {
        "id": "776AnflSNNQD"
      },
      "source": [
        "## Machine Learning\n"
      ]
    },
    {
      "cell_type": "code",
      "execution_count": 10,
      "metadata": {
        "id": "B2o68jzCgxD7"
      },
      "outputs": [],
      "source": [
        "# Data Augmentation\n",
        "\n",
        "data_augmentation = Sequential()\n",
        "data_augmentation.add(RandomFlip(\"horizontal\", input_shape=size_img))\n",
        "data_augmentation.add(RandomZoom(0.1))\n",
        "data_augmentation.add(RandomContrast(0.2))\n"
      ]
    },
    {
      "cell_type": "code",
      "execution_count": 11,
      "metadata": {
        "id": "fE2j9SoQ6nlR"
      },
      "outputs": [],
      "source": [
        "# Create Model\n",
        "model = Sequential()\n",
        "model.add(data_augmentation)\n",
        "model.add(Conv2D(32, kernel_size=(3, 3),activation='relu',input_shape=size_img))\n",
        "model.add(Conv2D(16, (3, 3), activation='relu'))\n",
        "model.add(MaxPooling2D(pool_size=(2, 2)))\n",
        "model.add(Conv2D(32, (3, 3), activation='relu'))\n",
        "model.add(MaxPooling2D(pool_size=(2, 2)))\n",
        "model.add(Conv2D(8, (3, 3), activation='relu'))\n",
        "model.add(MaxPooling2D(pool_size=(2, 2)))\n",
        "model.add(Flatten())\n",
        "model.add(Dense(128, activation='relu'))\n",
        "model.add(Dropout(0.4))\n",
        "model.add(Dense(2, activation='softmax'))\n",
        "\n",
        "clear_session()\n",
        "model.summary()"
      ]
    },
    {
      "cell_type": "code",
      "execution_count": null,
      "metadata": {
        "id": "r_RXpsueieJB"
      },
      "outputs": [],
      "source": [
        "# Compiling\n",
        "optimizer = Adam(learning_rate=0.0001)\n",
        "\n",
        "#early stopping to monitor the validation accuracy and avoid overfitting\n",
        "early_stop = EarlyStopping(monitor='val_accuracy', mode='max', verbose=1, patience=10, restore_best_weights=True)\n",
        "\n",
        "#reducing learning rate on plateau\n",
        "rlrop = ReduceLROnPlateau(monitor='val_accuracy', mode='max', patience= 3, factor= 0.5, min_lr= 1e-6, verbose=1)\n",
        "\n",
        "#autosave best model\n",
        "checkpoint = ModelCheckpoint(\"/content/drive/MyDrive/GCA - Safepediasircon15/Datasets/Classifier/Train-numpy/own_model_100x100eval2.hdf5\",monitor='val_accuracy',verbose=1,mode='max', save_best_only=True,save_weights_only=False ,save_freq=\"epoch\")\n"
      ]
    },
    {
      "cell_type": "code",
      "execution_count": null,
      "metadata": {
        "id": "bMHobU0XTKpI"
      },
      "outputs": [],
      "source": [
        "# Compiling\n",
        "model.compile(optimizer='adam',loss = tf.keras.losses.CategoricalCrossentropy(from_logits=False), metrics=['accuracy'])"
      ]
    },
    {
      "cell_type": "code",
      "execution_count": null,
      "metadata": {
        "id": "5guVWeLaieJD"
      },
      "outputs": [],
      "source": [
        "# Train Model\n",
        "epochs=100\n",
        "batch_size=32\n",
        "history = model.fit(X_train, y_train, epochs=epochs, validation_data=(X_val, y_val), batch_size=batch_size, callbacks = [early_stop, rlrop,checkpoint],verbose = 1)"
      ]
    },
    {
      "cell_type": "code",
      "execution_count": 14,
      "metadata": {
        "colab": {
          "base_uri": "https://localhost:8080/",
          "height": 499
        },
        "id": "om2iNyh5qJXG",
        "outputId": "a3c76b41-83ee-43a9-d4ad-1fbd4e1198cf"
      },
      "outputs": [
        {
          "output_type": "display_data",
          "data": {
            "text/plain": [
              "<Figure size 576x576 with 2 Axes>"
            ],
            "image/png": "[encoded data removed]"
          },
          "metadata": {
            "needs_background": "light"
          }
        }
      ],
      "source": [
        "# Visualization\n",
        "acc = history.history['accuracy']\n",
        "val_acc = history.history['val_accuracy']\n",
        "\n",
        "loss = history.history['loss']\n",
        "val_loss = history.history['val_loss']\n",
        "\n",
        "epochs_range = range(epochs)\n",
        "\n",
        "plt.figure(figsize=(8, 8))\n",
        "plt.subplot(1, 2, 1)\n",
        "plt.plot(epochs_range, acc, label='Training Accuracy')\n",
        "plt.plot(epochs_range, val_acc, label='Validation Accuracy')\n",
        "plt.legend(loc='lower right')\n",
        "plt.title('Training and Validation Accuracy')\n",
        "\n",
        "plt.subplot(1, 2, 2)\n",
        "plt.plot(epochs_range, loss, label='Training Loss')\n",
        "plt.plot(epochs_range, val_loss, label='Validation Loss')\n",
        "plt.legend(loc='upper right')\n",
        "plt.title('Training and Validation Loss')\n",
        "plt.show()"
      ]
    },
    {
      "cell_type": "code",
      "execution_count": 22,
      "metadata": {
        "colab": {
          "base_uri": "https://localhost:8080/"
        },
        "id": "hOnV0Wifrirk",
        "outputId": "33047462-9fd5-42e3-dfe0-8bf71477d15f"
      },
      "outputs": [
        {
          "output_type": "stream",
          "name": "stdout",
          "text": [
            "              precision    recall  f1-score   support\n",
            "\n",
            "           0       0.95      1.00      0.98        20\n",
            "           1       1.00      0.95      0.98        21\n",
            "\n",
            "   micro avg       0.98      0.98      0.98        41\n",
            "   macro avg       0.98      0.98      0.98        41\n",
            "weighted avg       0.98      0.98      0.98        41\n",
            " samples avg       0.98      0.98      0.98        41\n",
            "\n"
          ]
        }
      ],
      "source": [
        "# Evaluation\n",
        "p_pred = model.predict(X_test)\n",
        "y_pred = np.where(p_pred > 0.5, 1, 0)\n",
        "\n",
        "cr = classification_report(y_test_cat, y_pred)\n",
        "print(cr)"
      ]
    },
    {
      "cell_type": "code",
      "source": [
        "score = model.evaluate(X_test, y_test_cat, verbose = 0) \n",
        "\n",
        "print('Test loss:', score[0]) \n",
        "print('Test accuracy:', score[1])"
      ],
      "metadata": {
        "colab": {
          "base_uri": "https://localhost:8080/"
        },
        "id": "mpmBt4TaJPVH",
        "outputId": "db98a279-e6ea-4aea-e869-154b604da14d"
      },
      "execution_count": 23,
      "outputs": [
        {
          "output_type": "stream",
          "name": "stdout",
          "text": [
            "Test loss: 0.0645904690027237\n",
            "Test accuracy: 0.9756097793579102\n"
          ]
        }
      ]
    },
    {
      "cell_type": "code",
      "source": [
        "X_test.shape\n"
      ],
      "metadata": {
        "colab": {
          "base_uri": "https://localhost:8080/"
        },
        "id": "hNuF3hqwUwPd",
        "outputId": "f541e673-e8ab-4384-d191-310cd0ebacac"
      },
      "execution_count": null,
      "outputs": [
        {
          "output_type": "execute_result",
          "data": {
            "text/plain": [
              "(312, 100, 100, 3)"
            ]
          },
          "metadata": {},
          "execution_count": 84
        }
      ]
    },
    {
      "cell_type": "code",
      "source": [
        "directory = '/content/drive/MyDrive/Citra BISINDO/O'\n",
        "filename = os.listdir(directory)\n",
        "\n",
        "for f in filename:\n",
        "    img_path = os.path.join(directory, f)\n",
        "    img = cv2.imread(img_path)\n",
        "    img = cv2.cvtColor(img, cv2.COLOR_BGR2HSV)\n",
        "    img = resize(img, size_img)\n",
        "    img = img.flatten()\n",
        "\n",
        "    pred_idx = model.predict([img])[0]\n",
        "    pred_proba = model.predict_proba([img])[0]\n",
        "\n",
        "    yhat = np.argmax(pred_proba, axis=0)\n",
        "    print(f, classes[yhat], pred_proba[yhat], classes[pred_idx])"
      ],
      "metadata": {
        "id": "gAqf7R7kexBo",
        "outputId": "d23dcd90-909f-469f-ef7f-e85134534d4c",
        "colab": {
          "base_uri": "https://localhost:8080/",
          "height": 817
        }
      },
      "execution_count": 28,
      "outputs": [
        {
          "output_type": "stream",
          "name": "stdout",
          "text": [
            "WARNING:tensorflow:Model was constructed with shape (None, 100, 100, 3) for input KerasTensor(type_spec=TensorSpec(shape=(None, 100, 100, 3), dtype=tf.float32, name='sequential_input'), name='sequential_input', description=\"created by layer 'sequential_input'\"), but it was called on an input with incompatible shape (None,).\n",
            "WARNING:tensorflow:Model was constructed with shape (None, 100, 100, 3) for input KerasTensor(type_spec=TensorSpec(shape=(None, 100, 100, 3), dtype=tf.float32, name='random_flip_input'), name='random_flip_input', description=\"created by layer 'random_flip_input'\"), but it was called on an input with incompatible shape (None,).\n"
          ]
        },
        {
          "output_type": "error",
          "ename": "ValueError",
          "evalue": "ignored",
          "traceback": [
            "\u001b[0;31m---------------------------------------------------------------------------\u001b[0m",
            "\u001b[0;31mValueError\u001b[0m                                Traceback (most recent call last)",
            "\u001b[0;32m<ipython-input-28-137472bfc133>\u001b[0m in \u001b[0;36m<module>\u001b[0;34m()\u001b[0m\n\u001b[1;32m      9\u001b[0m     \u001b[0mimg\u001b[0m \u001b[0;34m=\u001b[0m \u001b[0mimg\u001b[0m\u001b[0;34m.\u001b[0m\u001b[0mflatten\u001b[0m\u001b[0;34m(\u001b[0m\u001b[0;34m)\u001b[0m\u001b[0;34m\u001b[0m\u001b[0;34m\u001b[0m\u001b[0m\n\u001b[1;32m     10\u001b[0m \u001b[0;34m\u001b[0m\u001b[0m\n\u001b[0;32m---> 11\u001b[0;31m     \u001b[0mpred_idx\u001b[0m \u001b[0;34m=\u001b[0m \u001b[0mmodel\u001b[0m\u001b[0;34m.\u001b[0m\u001b[0mpredict\u001b[0m\u001b[0;34m(\u001b[0m\u001b[0;34m[\u001b[0m\u001b[0mimg\u001b[0m\u001b[0;34m]\u001b[0m\u001b[0;34m)\u001b[0m\u001b[0;34m[\u001b[0m\u001b[0;36m0\u001b[0m\u001b[0;34m]\u001b[0m\u001b[0;34m\u001b[0m\u001b[0;34m\u001b[0m\u001b[0m\n\u001b[0m\u001b[1;32m     12\u001b[0m     \u001b[0mpred_proba\u001b[0m \u001b[0;34m=\u001b[0m \u001b[0mmodel\u001b[0m\u001b[0;34m.\u001b[0m\u001b[0mpredict_proba\u001b[0m\u001b[0;34m(\u001b[0m\u001b[0;34m[\u001b[0m\u001b[0mimg\u001b[0m\u001b[0;34m]\u001b[0m\u001b[0;34m)\u001b[0m\u001b[0;34m[\u001b[0m\u001b[0;36m0\u001b[0m\u001b[0;34m]\u001b[0m\u001b[0;34m\u001b[0m\u001b[0;34m\u001b[0m\u001b[0m\n\u001b[1;32m     13\u001b[0m \u001b[0;34m\u001b[0m\u001b[0m\n",
            "\u001b[0;32m/usr/local/lib/python3.7/dist-packages/keras/utils/traceback_utils.py\u001b[0m in \u001b[0;36merror_handler\u001b[0;34m(*args, **kwargs)\u001b[0m\n\u001b[1;32m     65\u001b[0m     \u001b[0;32mexcept\u001b[0m \u001b[0mException\u001b[0m \u001b[0;32mas\u001b[0m \u001b[0me\u001b[0m\u001b[0;34m:\u001b[0m  \u001b[0;31m# pylint: disable=broad-except\u001b[0m\u001b[0;34m\u001b[0m\u001b[0;34m\u001b[0m\u001b[0m\n\u001b[1;32m     66\u001b[0m       \u001b[0mfiltered_tb\u001b[0m \u001b[0;34m=\u001b[0m \u001b[0m_process_traceback_frames\u001b[0m\u001b[0;34m(\u001b[0m\u001b[0me\u001b[0m\u001b[0;34m.\u001b[0m\u001b[0m__traceback__\u001b[0m\u001b[0;34m)\u001b[0m\u001b[0;34m\u001b[0m\u001b[0;34m\u001b[0m\u001b[0m\n\u001b[0;32m---> 67\u001b[0;31m       \u001b[0;32mraise\u001b[0m \u001b[0me\u001b[0m\u001b[0;34m.\u001b[0m\u001b[0mwith_traceback\u001b[0m\u001b[0;34m(\u001b[0m\u001b[0mfiltered_tb\u001b[0m\u001b[0;34m)\u001b[0m \u001b[0;32mfrom\u001b[0m \u001b[0;32mNone\u001b[0m\u001b[0;34m\u001b[0m\u001b[0;34m\u001b[0m\u001b[0m\n\u001b[0m\u001b[1;32m     68\u001b[0m     \u001b[0;32mfinally\u001b[0m\u001b[0;34m:\u001b[0m\u001b[0;34m\u001b[0m\u001b[0;34m\u001b[0m\u001b[0m\n\u001b[1;32m     69\u001b[0m       \u001b[0;32mdel\u001b[0m \u001b[0mfiltered_tb\u001b[0m\u001b[0;34m\u001b[0m\u001b[0;34m\u001b[0m\u001b[0m\n",
            "\u001b[0;32m/usr/local/lib/python3.7/dist-packages/tensorflow/python/framework/func_graph.py\u001b[0m in \u001b[0;36mautograph_handler\u001b[0;34m(*args, **kwargs)\u001b[0m\n\u001b[1;32m   1145\u001b[0m           \u001b[0;32mexcept\u001b[0m \u001b[0mException\u001b[0m \u001b[0;32mas\u001b[0m \u001b[0me\u001b[0m\u001b[0;34m:\u001b[0m  \u001b[0;31m# pylint:disable=broad-except\u001b[0m\u001b[0;34m\u001b[0m\u001b[0;34m\u001b[0m\u001b[0m\n\u001b[1;32m   1146\u001b[0m             \u001b[0;32mif\u001b[0m \u001b[0mhasattr\u001b[0m\u001b[0;34m(\u001b[0m\u001b[0me\u001b[0m\u001b[0;34m,\u001b[0m \u001b[0;34m\"ag_error_metadata\"\u001b[0m\u001b[0;34m)\u001b[0m\u001b[0;34m:\u001b[0m\u001b[0;34m\u001b[0m\u001b[0;34m\u001b[0m\u001b[0m\n\u001b[0;32m-> 1147\u001b[0;31m               \u001b[0;32mraise\u001b[0m \u001b[0me\u001b[0m\u001b[0;34m.\u001b[0m\u001b[0mag_error_metadata\u001b[0m\u001b[0;34m.\u001b[0m\u001b[0mto_exception\u001b[0m\u001b[0;34m(\u001b[0m\u001b[0me\u001b[0m\u001b[0;34m)\u001b[0m\u001b[0;34m\u001b[0m\u001b[0;34m\u001b[0m\u001b[0m\n\u001b[0m\u001b[1;32m   1148\u001b[0m             \u001b[0;32melse\u001b[0m\u001b[0;34m:\u001b[0m\u001b[0;34m\u001b[0m\u001b[0;34m\u001b[0m\u001b[0m\n\u001b[1;32m   1149\u001b[0m               \u001b[0;32mraise\u001b[0m\u001b[0;34m\u001b[0m\u001b[0;34m\u001b[0m\u001b[0m\n",
            "\u001b[0;31mValueError\u001b[0m: in user code:\n\n    File \"/usr/local/lib/python3.7/dist-packages/keras/engine/training.py\", line 1801, in predict_function  *\n        return step_function(self, iterator)\n    File \"/usr/local/lib/python3.7/dist-packages/keras/engine/training.py\", line 1790, in step_function  **\n        outputs = model.distribute_strategy.run(run_step, args=(data,))\n    File \"/usr/local/lib/python3.7/dist-packages/keras/engine/training.py\", line 1783, in run_step  **\n        outputs = model.predict_step(data)\n    File \"/usr/local/lib/python3.7/dist-packages/keras/engine/training.py\", line 1751, in predict_step\n        return self(x, training=False)\n    File \"/usr/local/lib/python3.7/dist-packages/keras/utils/traceback_utils.py\", line 67, in error_handler\n        raise e.with_traceback(filtered_tb) from None\n    File \"/usr/local/lib/python3.7/dist-packages/keras/engine/input_spec.py\", line 228, in assert_input_compatibility\n        raise ValueError(f'Input {input_index} of layer \"{layer_name}\" '\n\n    ValueError: Exception encountered when calling layer \"sequential_1\" (type Sequential).\n    \n    Input 0 of layer \"conv2d\" is incompatible with the layer: expected min_ndim=4, found ndim=1. Full shape received: (None,)\n    \n    Call arguments received:\n      • inputs=('tf.Tensor(shape=(None,), dtype=float32)',)\n      • training=False\n      • mask=None\n"
          ]
        }
      ]
    },
    {
      "cell_type": "code",
      "source": [
        "# Test image in folder 'test'\n",
        "!find . -name \".DS_Store\" -delete\n",
        "\n",
        "from keras.preprocessing import image\n",
        "import numpy as np\n",
        "import os\n",
        "\n",
        "directory = 'test/'\n",
        "image_name = []\n",
        "images = []\n",
        "collect_img = []\n",
        "count_img = 9\n",
        "classes_folder = sorted(os.listdir('/content/drive/MyDrive/Citra BISINDO'))\n",
        "\n",
        "# for img in list_file[:count_img]:\n",
        "#     image_name.append(img)\n",
        "#     img = os.path.join(directory, img)\n",
        "#     img = image.load_img(img, target_size=size_img)\n",
        "#     img_np = image.img_to_array(img)\n",
        "#     img = np.expand_dims(img_np, axis=0)\n",
        "#     images.append(img)\n",
        "#     collect_img.append(img_np)\n",
        "\n",
        "# images = np.vstack(images)\n",
        "\n",
        "classes_pred = model.predict(X_test)\n",
        "\n",
        "plt.figure(figsize=(20, 20))\n",
        "for i in range(len(X_test[0][:count_img][:count_img])):\n",
        "    idX_class = int(classes[i][0])\n",
        "    ax = plt.subplot(3, 3, i + 1)\n",
        "    plt.imshow(X_test[i].astype(\"uint8\"))\n",
        "    plt.title(classes_folder[i])\n",
        "    plt.axis(\"off\")"
      ],
      "metadata": {
        "id": "2-A3O7TyOhIF"
      },
      "execution_count": null,
      "outputs": []
    },
    {
      "cell_type": "code",
      "execution_count": null,
      "metadata": {
        "id": "rNkYPADYtSij"
      },
      "outputs": [],
      "source": [
        "# Test image in folder 'test'\n",
        "!find . -name \".DS_Store\" -delete\n",
        "\n",
        "from keras.preprocessing import image\n",
        "import numpy as np\n",
        "import os\n",
        "directory = 'test/'\n",
        "image_name = []\n",
        "images = []\n",
        "collect_img = []\n",
        "count_img = 9\n",
        "list_file = sorted(os.listdir(directory))\n",
        "\n",
        "for img in list_file[:count_img]:\n",
        "    image_name.append(img)\n",
        "    img = os.path.join(directory, img)\n",
        "    img = image.load_img(img, target_size=size_img)\n",
        "    img_np = image.img_to_array(img)\n",
        "    img = np.expand_dims(img_np, axis=0)\n",
        "    images.append(img)\n",
        "    collect_img.append(img_np)\n",
        "\n",
        "images = np.vstack(images)\n",
        "classes = model.predict(images)\n",
        "\n",
        "plt.figure(figsize=(20, 20))\n",
        "for i in range(len(list_file[:count_img][:count_img])):\n",
        "    idX_class = int(classes[i][0])\n",
        "    ax = plt.subplot(3, 3, i + 1)\n",
        "\n",
        "    if idX_class == 1:\n",
        "      # print(i+1, image_name[i],'    ', name_class[1])\n",
        "      plt.imshow(collect_img[i].astype(\"uint8\"))\n",
        "      plt.title(image_name[i]+' '+name_class[1])\n",
        "      plt.axis(\"off\")\n",
        "      \n",
        "    else:\n",
        "      # print(i+1, image_name[i],'    ', name_class[0])\n",
        "      plt.imshow(collect_img[i].astype(\"uint8\"))\n",
        "      plt.title(image_name[i]+' =>'+name_class[0])\n",
        "      plt.axis(\"off\")"
      ]
    },
    {
      "cell_type": "markdown",
      "source": [
        "# Camera Acces"
      ],
      "metadata": {
        "id": "i1ni_kDtGRqF"
      }
    },
    {
      "cell_type": "code",
      "source": [
        "from IPython.display import display, Javascript, Image\n",
        "from google.colab.output import eval_js\n",
        "import html\n",
        "from base64 import b64decode, b64encode\n",
        "import cv2\n",
        "import numpy as np\n",
        "import PIL\n",
        "import io"
      ],
      "metadata": {
        "id": "mBNNghKKGPMT"
      },
      "execution_count": null,
      "outputs": []
    },
    {
      "cell_type": "code",
      "source": [
        "def jsob_to_image(js_object):\n",
        "  # decode base64 image\n",
        "  image_bytes = b64decode(js_object.split(',')[1])\n",
        "  # convert bytes to numpy array\n",
        "  img_array = np.frombuffer(image_bytes, dtype=np.uint8)\n",
        "  # convert numpy array into OpenCV BGR \n",
        "  frame = cv2.imdecode(img_array, flags=1)\n",
        "\n",
        "  return frame"
      ],
      "metadata": {
        "id": "Qrb0bikiGUwN"
      },
      "execution_count": null,
      "outputs": []
    },
    {
      "cell_type": "code",
      "source": [
        "def video_stream():\n",
        "  js = Javascript('''\n",
        "    var video;\n",
        "    var div = null;\n",
        "    var stream;\n",
        "    var captureCanvas;\n",
        "    var imgElement;\n",
        "    var labelElement;\n",
        "    \n",
        "    var pendingResolve = null;\n",
        "    var shutdown = false;\n",
        "    \n",
        "    function removeDom() {\n",
        "       stream.getVideoTracks()[0].stop();\n",
        "       video.remove();\n",
        "       div.remove();\n",
        "       video = null;\n",
        "       div = null;\n",
        "       stream = null;\n",
        "       imgElement = null;\n",
        "       captureCanvas = null;\n",
        "       labelElement = null;\n",
        "    }\n",
        "    \n",
        "    function onAnimationFrame() {\n",
        "      if (!shutdown) {\n",
        "        window.requestAnimationFrame(onAnimationFrame);\n",
        "      }\n",
        "      if (pendingResolve) {\n",
        "        var result = \"\";\n",
        "        if (!shutdown) {\n",
        "          captureCanvas.getContext('2d').drawImage(video, 0, 0, 640, 480);\n",
        "          result = captureCanvas.toDataURL('image/jpeg', 0.8)\n",
        "        }\n",
        "        var lp = pendingResolve;\n",
        "        pendingResolve = null;\n",
        "        lp(result);\n",
        "      }\n",
        "    }\n",
        "    \n",
        "    async function createDom() {\n",
        "      if (div !== null) {\n",
        "        return stream;\n",
        "      }\n",
        "      div = document.createElement('div');\n",
        "      div.style.border = '2px solid black';\n",
        "      div.style.padding = '3px';\n",
        "      div.style.width = '100%';\n",
        "      div.style.maxWidth = '600px';\n",
        "      document.body.appendChild(div);\n",
        "      \n",
        "           \n",
        "      video = document.createElement('video');\n",
        "      video.style.display = 'block';\n",
        "      video.width = div.clientWidth - 6;\n",
        "      video.setAttribute('playsinline', '');\n",
        "      video.onclick = () => { shutdown = true; };\n",
        "      stream = await navigator.mediaDevices.getUserMedia(\n",
        "          {video: { facingMode: \"environment\"}});\n",
        "      div.appendChild(video);\n",
        "      imgElement = document.createElement('img');\n",
        "      imgElement.style.position = 'absolute';\n",
        "      imgElement.style.zIndex = 1;\n",
        "      imgElement.onclick = () => { shutdown = true; };\n",
        "      div.appendChild(imgElement);\n",
        "      \n",
        "      const instruction = document.createElement('div');\n",
        "      instruction.innerHTML = \n",
        "          '<span style=\"blue: red; font-weight: bold;\">' +\n",
        "          'click here to stop the video</span>';\n",
        "      div.appendChild(instruction);\n",
        "      instruction.onclick = () => { shutdown = true; };\n",
        "      \n",
        "      video.srcObject = stream;\n",
        "      await video.play();\n",
        "      captureCanvas = document.createElement('canvas');\n",
        "      captureCanvas.width = 640; \n",
        "      captureCanvas.height = 480; \n",
        "      window.requestAnimationFrame(onAnimationFrame);\n",
        "      \n",
        "      return stream;\n",
        "    }\n",
        "    async function stream_frame() {\n",
        "      if (shutdown) {\n",
        "        removeDom();\n",
        "        shutdown = false;\n",
        "        return '';\n",
        "      }\n",
        "      var preCreate = Date.now();\n",
        "      stream = await createDom();\n",
        "      \n",
        "      var preShow = Date.now();\n",
        "  \n",
        "            \n",
        "      \n",
        "      var preCapture = Date.now();\n",
        "      var result = await new Promise(function(resolve, reject) {\n",
        "        pendingResolve = resolve;\n",
        "      });\n",
        "      shutdown = false;\n",
        "      \n",
        "      return {'create': preShow - preCreate, \n",
        "              'show': preCapture - preShow, \n",
        "              'capture': Date.now() - preCapture,\n",
        "              'img': result};\n",
        "    }\n",
        "    ''')\n",
        "\n",
        "  display(js)\n",
        "  \n",
        "def video_frame():\n",
        "  data = eval_js('stream_frame()')\n",
        "  return data\n",
        "\n",
        "# Get the webcam stream and forward it to python \n",
        "video_stream()\n",
        "\n",
        "while True:\n",
        "    frame_js = video_frame()\n",
        "    if not frame_js:\n",
        "        break\n",
        "    img = jsob_to_image(frame_js[\"img\"])"
      ],
      "metadata": {
        "id": "QVhABR0IGY_o"
      },
      "execution_count": null,
      "outputs": []
    },
    {
      "cell_type": "code",
      "source": [
        "# Get the webcam stream and forward it to python \n",
        "video_stream()\n",
        "\n",
        "while True:\n",
        "    frame_js = video_frame()\n",
        "    if not frame_js:\n",
        "        break\n",
        "    img = jsob_to_image(frame_js[\"img\"])"
      ],
      "metadata": {
        "id": "pJNj-FKxGfiK"
      },
      "execution_count": null,
      "outputs": []
    }
  ],
  "metadata": {
    "colab": {
      "collapsed_sections": [
        "8MiMTc5_NNPj"
      ],
      "name": "DIS_2.ipynb",
      "provenance": [],
      "include_colab_link": true
    },
    "gpuClass": "standard",
    "kernelspec": {
      "display_name": "Python 3",
      "language": "python",
      "name": "python3"
    },
    "language_info": {
      "codemirror_mode": {
        "name": "ipython",
        "version": 3
      },
      "file_extension": ".py",
      "mimetype": "text/x-python",
      "name": "python",
      "nbconvert_exporter": "python",
      "pygments_lexer": "ipython3",
      "version": "3.7.8"
    }
  },
  "nbformat": 4,
  "nbformat_minor": 0
}