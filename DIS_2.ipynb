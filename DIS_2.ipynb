{
  "cells": [
    {
      "cell_type": "markdown",
      "metadata": {
        "id": "view-in-github",
        "colab_type": "text"
      },
      "source": [
        "<a href=\"https://colab.research.google.com/github/arifsoul/DIS-2/blob/main/DIS_2.ipynb\" target=\"_parent\"><img src=\"https://colab.research.google.com/assets/colab-badge.svg\" alt=\"Open In Colab\"/></a>"
      ]
    },
    {
      "cell_type": "code",
      "execution_count": 1,
      "metadata": {
        "colab": {
          "base_uri": "https://localhost:8080/"
        },
        "id": "4P9WBnpIf3CA",
        "outputId": "b07f1622-ce29-4714-dd37-25de28b9b577"
      },
      "outputs": [
        {
          "output_type": "stream",
          "name": "stdout",
          "text": [
            "Mounted at /content/drive\n"
          ]
        }
      ],
      "source": [
        "from google.colab import drive\n",
        "drive.mount('/content/drive')"
      ]
    },
    {
      "cell_type": "code",
      "execution_count": 2,
      "metadata": {
        "id": "cwO5c1ABNNQE"
      },
      "outputs": [],
      "source": [
        "import matplotlib.pyplot as plt\n",
        "import numpy as np\n",
        "import os\n",
        "import PIL\n",
        "import tensorflow as tf\n",
        "\n",
        "import tensorflow as tf\n",
        "from tensorflow import keras\n",
        "from tensorflow.keras.utils import to_categorical\n",
        "from tensorflow.keras import layers\n",
        "from tensorflow.keras.models import Sequential\n",
        "from tensorflow.keras.layers import Dense, Dropout, Flatten\n",
        "from tensorflow.keras.layers import Conv2D, MaxPooling2D\n",
        "from tensorflow.keras.preprocessing import image\n",
        "from tensorflow.keras.layers.experimental.preprocessing import RandomContrast, RandomFlip, RandomRotation, RandomZoom\n",
        "from tensorflow.keras.backend import clear_session\n",
        "from sklearn.metrics import classification_report, confusion_matrix\n",
        "import numpy as np\n",
        "import pandas as pd\n",
        "import seaborn as sn\n",
        "import matplotlib.pyplot as plt\n",
        "from sklearn.model_selection import train_test_split\n",
        "\n",
        "from skimage.transform import resize\n",
        "import imgaug.augmenters as iaa\n",
        "import cv2\n",
        "\n",
        "batch_size = 32\n",
        "size_img = (100, 100, 3)"
      ]
    },
    {
      "cell_type": "markdown",
      "metadata": {
        "id": "8MiMTc5_NNPj"
      },
      "source": [
        "#Prepare dataset\n"
      ]
    },
    {
      "cell_type": "code",
      "execution_count": 3,
      "metadata": {
        "colab": {
          "base_uri": "https://localhost:8080/"
        },
        "id": "c4LXQXJicii9",
        "outputId": "de492a95-861b-4b10-9bd6-0738e54b5ebd"
      },
      "outputs": [
        {
          "output_type": "stream",
          "name": "stdout",
          "text": [
            "['A', 'B', 'C', 'D', 'E', 'F', 'G', 'H', 'I', 'J', 'K', 'L', 'M', 'N', 'O', 'P', 'Q', 'R', 'S', 'T', 'U', 'V', 'W', 'X', 'Y', 'Z']\n"
          ]
        }
      ],
      "source": [
        "path_dataset = '/content/drive/MyDrive/Citra BISINDO'\n",
        "folders = sorted(os.listdir(path_dataset))\n",
        "print(folders)"
      ]
    },
    {
      "cell_type": "code",
      "execution_count": 4,
      "metadata": {
        "colab": {
          "base_uri": "https://localhost:8080/"
        },
        "id": "2jG9k3lYdNrw",
        "outputId": "ef6015c0-f814-41db-b40a-cfa6c7b5f799"
      },
      "outputs": [
        {
          "output_type": "stream",
          "name": "stdout",
          "text": [
            "ID\tSample\t\tName\n",
            "0\t12 sample\tA\n",
            "1\t12 sample\tB\n",
            "2\t12 sample\tC\n",
            "3\t12 sample\tD\n",
            "4\t12 sample\tE\n",
            "5\t12 sample\tF\n",
            "6\t12 sample\tG\n",
            "7\t12 sample\tH\n",
            "8\t12 sample\tI\n",
            "9\t12 sample\tJ\n",
            "10\t12 sample\tK\n",
            "11\t12 sample\tL\n",
            "12\t12 sample\tM\n",
            "13\t12 sample\tN\n",
            "14\t12 sample\tO\n",
            "15\t12 sample\tP\n",
            "16\t12 sample\tQ\n",
            "17\t12 sample\tR\n",
            "18\t12 sample\tS\n",
            "19\t12 sample\tT\n",
            "20\t12 sample\tU\n",
            "21\t12 sample\tV\n",
            "22\t12 sample\tW\n",
            "23\t12 sample\tX\n",
            "24\t12 sample\tY\n",
            "25\t12 sample\tZ\n",
            "\n",
            "Total:\t312 sample\n"
          ]
        }
      ],
      "source": [
        "dataset_collection = []\n",
        "target = []\n",
        "classes = []\n",
        "\n",
        "cls_count = 0\n",
        "print('ID\\tSample\\t\\tName')\n",
        "for folder in folders:\n",
        "    dir = os.path.join(path_dataset, folder)\n",
        "    filename = os.listdir(dir)\n",
        "    count_img = 0\n",
        "\n",
        "    if len(filename) > 0:\n",
        "        for f in filename:\n",
        "            img_path =  os.path.join(dir, f)  \n",
        "            dataset_collection.append(img_path)\n",
        "            target.append(cls_count)\n",
        "            count_img += 1 \n",
        "\n",
        "        print('{}\\t{} sample\\t{}'.format(cls_count, count_img, folder))\n",
        "        classes.append(folder)\n",
        "        cls_count += 1\n",
        "\n",
        "print('\\nTotal:\\t{} sample'.format(len(dataset_collection)))"
      ]
    },
    {
      "cell_type": "code",
      "source": [
        "dataset_collection"
      ],
      "metadata": {
        "colab": {
          "base_uri": "https://localhost:8080/"
        },
        "id": "VbsMgjwqXGUj",
        "outputId": "61003c7f-a83c-4625-eea9-31cebb1c3bc4"
      },
      "execution_count": 92,
      "outputs": [
        {
          "output_type": "execute_result",
          "data": {
            "text/plain": [
              "['/content/drive/MyDrive/Citra BISINDO/A/body dot (4).jpg',\n",
              " '/content/drive/MyDrive/Citra BISINDO/A/body white (3).jpg',\n",
              " '/content/drive/MyDrive/Citra BISINDO/A/wall white (2).jpg',\n",
              " '/content/drive/MyDrive/Citra BISINDO/A/wall white (4).jpg',\n",
              " '/content/drive/MyDrive/Citra BISINDO/A/body white (4).jpg',\n",
              " '/content/drive/MyDrive/Citra BISINDO/A/body dot (3).jpg',\n",
              " '/content/drive/MyDrive/Citra BISINDO/A/wall white (1).jpg',\n",
              " '/content/drive/MyDrive/Citra BISINDO/A/body dot (2).jpg',\n",
              " '/content/drive/MyDrive/Citra BISINDO/A/body dot (1).jpg',\n",
              " '/content/drive/MyDrive/Citra BISINDO/A/body white (2).jpg',\n",
              " '/content/drive/MyDrive/Citra BISINDO/A/body white (1).jpg',\n",
              " '/content/drive/MyDrive/Citra BISINDO/A/wall white (3).jpg',\n",
              " '/content/drive/MyDrive/Citra BISINDO/B/wall white (3).jpg',\n",
              " '/content/drive/MyDrive/Citra BISINDO/B/body dot (1).jpg',\n",
              " '/content/drive/MyDrive/Citra BISINDO/B/wall white (1).jpg',\n",
              " '/content/drive/MyDrive/Citra BISINDO/B/wall white (4).jpg',\n",
              " '/content/drive/MyDrive/Citra BISINDO/B/body white (3).jpg',\n",
              " '/content/drive/MyDrive/Citra BISINDO/B/body dot (4).jpg',\n",
              " '/content/drive/MyDrive/Citra BISINDO/B/body white (2).jpg',\n",
              " '/content/drive/MyDrive/Citra BISINDO/B/wall white (2).jpg',\n",
              " '/content/drive/MyDrive/Citra BISINDO/B/body white (1).jpg',\n",
              " '/content/drive/MyDrive/Citra BISINDO/B/body white (4).jpg',\n",
              " '/content/drive/MyDrive/Citra BISINDO/B/body dot (3).jpg',\n",
              " '/content/drive/MyDrive/Citra BISINDO/B/body dot (2).jpg',\n",
              " '/content/drive/MyDrive/Citra BISINDO/C/body white (1).jpg',\n",
              " '/content/drive/MyDrive/Citra BISINDO/C/wall white (1).jpg',\n",
              " '/content/drive/MyDrive/Citra BISINDO/C/body white (3).jpg',\n",
              " '/content/drive/MyDrive/Citra BISINDO/C/body white (4).jpg',\n",
              " '/content/drive/MyDrive/Citra BISINDO/C/wall white (4).jpg',\n",
              " '/content/drive/MyDrive/Citra BISINDO/C/body dot (1).jpg',\n",
              " '/content/drive/MyDrive/Citra BISINDO/C/body dot (2).jpg',\n",
              " '/content/drive/MyDrive/Citra BISINDO/C/body dot (3).jpg',\n",
              " '/content/drive/MyDrive/Citra BISINDO/C/body white (2).jpg',\n",
              " '/content/drive/MyDrive/Citra BISINDO/C/body dot (4).jpg',\n",
              " '/content/drive/MyDrive/Citra BISINDO/C/wall white (2).jpg',\n",
              " '/content/drive/MyDrive/Citra BISINDO/C/wall white (3).jpg',\n",
              " '/content/drive/MyDrive/Citra BISINDO/D/body white (1).jpg',\n",
              " '/content/drive/MyDrive/Citra BISINDO/D/wall white (2).jpg',\n",
              " '/content/drive/MyDrive/Citra BISINDO/D/body white (2).jpg',\n",
              " '/content/drive/MyDrive/Citra BISINDO/D/body dot (4).jpg',\n",
              " '/content/drive/MyDrive/Citra BISINDO/D/body dot (1).jpg',\n",
              " '/content/drive/MyDrive/Citra BISINDO/D/wall white (1).jpg',\n",
              " '/content/drive/MyDrive/Citra BISINDO/D/wall white (4).jpg',\n",
              " '/content/drive/MyDrive/Citra BISINDO/D/body dot (2).jpg',\n",
              " '/content/drive/MyDrive/Citra BISINDO/D/body dot (3).jpg',\n",
              " '/content/drive/MyDrive/Citra BISINDO/D/wall white (3).jpg',\n",
              " '/content/drive/MyDrive/Citra BISINDO/D/body white (3).jpg',\n",
              " '/content/drive/MyDrive/Citra BISINDO/D/body white (4).jpg',\n",
              " '/content/drive/MyDrive/Citra BISINDO/E/wall white (1).jpg',\n",
              " '/content/drive/MyDrive/Citra BISINDO/E/body white (2).jpg',\n",
              " '/content/drive/MyDrive/Citra BISINDO/E/body dot (2).jpg',\n",
              " '/content/drive/MyDrive/Citra BISINDO/E/body white (3).jpg',\n",
              " '/content/drive/MyDrive/Citra BISINDO/E/body dot (4).jpg',\n",
              " '/content/drive/MyDrive/Citra BISINDO/E/wall white (3).jpg',\n",
              " '/content/drive/MyDrive/Citra BISINDO/E/body white (4).jpg',\n",
              " '/content/drive/MyDrive/Citra BISINDO/E/wall white (2).jpg',\n",
              " '/content/drive/MyDrive/Citra BISINDO/E/body white (1).jpg',\n",
              " '/content/drive/MyDrive/Citra BISINDO/E/body dot (3).jpg',\n",
              " '/content/drive/MyDrive/Citra BISINDO/E/body dot (1).jpg',\n",
              " '/content/drive/MyDrive/Citra BISINDO/E/wall white (4).jpg',\n",
              " '/content/drive/MyDrive/Citra BISINDO/F/body dot (4).jpg',\n",
              " '/content/drive/MyDrive/Citra BISINDO/F/wall white (2).jpg',\n",
              " '/content/drive/MyDrive/Citra BISINDO/F/body white (2).jpg',\n",
              " '/content/drive/MyDrive/Citra BISINDO/F/wall white (1).jpg',\n",
              " '/content/drive/MyDrive/Citra BISINDO/F/body white (3).jpg',\n",
              " '/content/drive/MyDrive/Citra BISINDO/F/body dot (1).jpg',\n",
              " '/content/drive/MyDrive/Citra BISINDO/F/wall white (3).jpg',\n",
              " '/content/drive/MyDrive/Citra BISINDO/F/body white (4).jpg',\n",
              " '/content/drive/MyDrive/Citra BISINDO/F/body white (1).jpg',\n",
              " '/content/drive/MyDrive/Citra BISINDO/F/wall white (4).jpg',\n",
              " '/content/drive/MyDrive/Citra BISINDO/F/body dot (3).jpg',\n",
              " '/content/drive/MyDrive/Citra BISINDO/F/body dot (2).jpg',\n",
              " '/content/drive/MyDrive/Citra BISINDO/G/wall white (3).jpg',\n",
              " '/content/drive/MyDrive/Citra BISINDO/G/body white (2).jpg',\n",
              " '/content/drive/MyDrive/Citra BISINDO/G/body white (4).jpg',\n",
              " '/content/drive/MyDrive/Citra BISINDO/G/body dot (2).jpg',\n",
              " '/content/drive/MyDrive/Citra BISINDO/G/body white (1).jpg',\n",
              " '/content/drive/MyDrive/Citra BISINDO/G/wall white (1).jpg',\n",
              " '/content/drive/MyDrive/Citra BISINDO/G/wall white (2).jpg',\n",
              " '/content/drive/MyDrive/Citra BISINDO/G/body dot (3).jpg',\n",
              " '/content/drive/MyDrive/Citra BISINDO/G/body dot (1).jpg',\n",
              " '/content/drive/MyDrive/Citra BISINDO/G/wall white (4).jpg',\n",
              " '/content/drive/MyDrive/Citra BISINDO/G/body white (3).jpg',\n",
              " '/content/drive/MyDrive/Citra BISINDO/G/body dot (4).jpg',\n",
              " '/content/drive/MyDrive/Citra BISINDO/H/body white (4).jpg',\n",
              " '/content/drive/MyDrive/Citra BISINDO/H/wall white (4).jpg',\n",
              " '/content/drive/MyDrive/Citra BISINDO/H/wall white (3).jpg',\n",
              " '/content/drive/MyDrive/Citra BISINDO/H/body white (2).jpg',\n",
              " '/content/drive/MyDrive/Citra BISINDO/H/body dot (1).jpg',\n",
              " '/content/drive/MyDrive/Citra BISINDO/H/wall white (2).jpg',\n",
              " '/content/drive/MyDrive/Citra BISINDO/H/body dot (2).jpg',\n",
              " '/content/drive/MyDrive/Citra BISINDO/H/body white (3).jpg',\n",
              " '/content/drive/MyDrive/Citra BISINDO/H/body dot (4).jpg',\n",
              " '/content/drive/MyDrive/Citra BISINDO/H/body white (1).jpg',\n",
              " '/content/drive/MyDrive/Citra BISINDO/H/body dot (3).jpg',\n",
              " '/content/drive/MyDrive/Citra BISINDO/H/wall white (1).jpg',\n",
              " '/content/drive/MyDrive/Citra BISINDO/I/body dot (2).jpg',\n",
              " '/content/drive/MyDrive/Citra BISINDO/I/wall white (4).jpg',\n",
              " '/content/drive/MyDrive/Citra BISINDO/I/body white (2).jpg',\n",
              " '/content/drive/MyDrive/Citra BISINDO/I/body dot (1).jpg',\n",
              " '/content/drive/MyDrive/Citra BISINDO/I/wall white (2).jpg',\n",
              " '/content/drive/MyDrive/Citra BISINDO/I/body white (3).jpg',\n",
              " '/content/drive/MyDrive/Citra BISINDO/I/body dot (4).jpg',\n",
              " '/content/drive/MyDrive/Citra BISINDO/I/wall white (3).jpg',\n",
              " '/content/drive/MyDrive/Citra BISINDO/I/wall white (1).jpg',\n",
              " '/content/drive/MyDrive/Citra BISINDO/I/body dot (3).jpg',\n",
              " '/content/drive/MyDrive/Citra BISINDO/I/body white (4).jpg',\n",
              " '/content/drive/MyDrive/Citra BISINDO/I/body white (1).jpg',\n",
              " '/content/drive/MyDrive/Citra BISINDO/J/body white (3).jpg',\n",
              " '/content/drive/MyDrive/Citra BISINDO/J/body dot (3).jpg',\n",
              " '/content/drive/MyDrive/Citra BISINDO/J/body white (2).jpg',\n",
              " '/content/drive/MyDrive/Citra BISINDO/J/wall white (1).jpg',\n",
              " '/content/drive/MyDrive/Citra BISINDO/J/body white (4).jpg',\n",
              " '/content/drive/MyDrive/Citra BISINDO/J/body dot (4).jpg',\n",
              " '/content/drive/MyDrive/Citra BISINDO/J/body dot (2).jpg',\n",
              " '/content/drive/MyDrive/Citra BISINDO/J/wall white (2).jpg',\n",
              " '/content/drive/MyDrive/Citra BISINDO/J/body white (1).jpg',\n",
              " '/content/drive/MyDrive/Citra BISINDO/J/body dot (1).jpg',\n",
              " '/content/drive/MyDrive/Citra BISINDO/J/wall white (3).jpg',\n",
              " '/content/drive/MyDrive/Citra BISINDO/J/wall white (4).jpg',\n",
              " '/content/drive/MyDrive/Citra BISINDO/K/body white (4).jpg',\n",
              " '/content/drive/MyDrive/Citra BISINDO/K/wall white (2).jpg',\n",
              " '/content/drive/MyDrive/Citra BISINDO/K/wall white (3).jpg',\n",
              " '/content/drive/MyDrive/Citra BISINDO/K/body dot (1).jpg',\n",
              " '/content/drive/MyDrive/Citra BISINDO/K/body dot (3).jpg',\n",
              " '/content/drive/MyDrive/Citra BISINDO/K/wall white (4).jpg',\n",
              " '/content/drive/MyDrive/Citra BISINDO/K/body dot (4).jpg',\n",
              " '/content/drive/MyDrive/Citra BISINDO/K/body white (3).jpg',\n",
              " '/content/drive/MyDrive/Citra BISINDO/K/body white (1).jpg',\n",
              " '/content/drive/MyDrive/Citra BISINDO/K/body dot (2).jpg',\n",
              " '/content/drive/MyDrive/Citra BISINDO/K/body white (2).jpg',\n",
              " '/content/drive/MyDrive/Citra BISINDO/K/wall white (1).jpg',\n",
              " '/content/drive/MyDrive/Citra BISINDO/L/body white (2).jpg',\n",
              " '/content/drive/MyDrive/Citra BISINDO/L/body dot (1).jpg',\n",
              " '/content/drive/MyDrive/Citra BISINDO/L/wall white (4).jpg',\n",
              " '/content/drive/MyDrive/Citra BISINDO/L/body dot (3).jpg',\n",
              " '/content/drive/MyDrive/Citra BISINDO/L/wall white (2).jpg',\n",
              " '/content/drive/MyDrive/Citra BISINDO/L/wall white (1).jpg',\n",
              " '/content/drive/MyDrive/Citra BISINDO/L/body dot (4).jpg',\n",
              " '/content/drive/MyDrive/Citra BISINDO/L/wall white (3).jpg',\n",
              " '/content/drive/MyDrive/Citra BISINDO/L/body white (3).jpg',\n",
              " '/content/drive/MyDrive/Citra BISINDO/L/body white (4).jpg',\n",
              " '/content/drive/MyDrive/Citra BISINDO/L/body white (1).jpg',\n",
              " '/content/drive/MyDrive/Citra BISINDO/L/body dot (2).jpg',\n",
              " '/content/drive/MyDrive/Citra BISINDO/M/body white (1).jpg',\n",
              " '/content/drive/MyDrive/Citra BISINDO/M/body dot (2).jpg',\n",
              " '/content/drive/MyDrive/Citra BISINDO/M/body white (4).jpg',\n",
              " '/content/drive/MyDrive/Citra BISINDO/M/body dot (4).jpg',\n",
              " '/content/drive/MyDrive/Citra BISINDO/M/wall white (4).jpg',\n",
              " '/content/drive/MyDrive/Citra BISINDO/M/body white (2).jpg',\n",
              " '/content/drive/MyDrive/Citra BISINDO/M/wall white (3).jpg',\n",
              " '/content/drive/MyDrive/Citra BISINDO/M/wall white (1).jpg',\n",
              " '/content/drive/MyDrive/Citra BISINDO/M/body white (3).jpg',\n",
              " '/content/drive/MyDrive/Citra BISINDO/M/body dot (1).jpg',\n",
              " '/content/drive/MyDrive/Citra BISINDO/M/wall white (2).jpg',\n",
              " '/content/drive/MyDrive/Citra BISINDO/M/body dot (3).jpg',\n",
              " '/content/drive/MyDrive/Citra BISINDO/N/wall white (4).jpg',\n",
              " '/content/drive/MyDrive/Citra BISINDO/N/body dot (4).jpg',\n",
              " '/content/drive/MyDrive/Citra BISINDO/N/body dot (2).jpg',\n",
              " '/content/drive/MyDrive/Citra BISINDO/N/body white (2).jpg',\n",
              " '/content/drive/MyDrive/Citra BISINDO/N/body white (1).jpg',\n",
              " '/content/drive/MyDrive/Citra BISINDO/N/body white (3).jpg',\n",
              " '/content/drive/MyDrive/Citra BISINDO/N/wall white (2).jpg',\n",
              " '/content/drive/MyDrive/Citra BISINDO/N/wall white (1).jpg',\n",
              " '/content/drive/MyDrive/Citra BISINDO/N/body white (4).jpg',\n",
              " '/content/drive/MyDrive/Citra BISINDO/N/body dot (1).jpg',\n",
              " '/content/drive/MyDrive/Citra BISINDO/N/wall white (3).jpg',\n",
              " '/content/drive/MyDrive/Citra BISINDO/N/body dot (3).jpg',\n",
              " '/content/drive/MyDrive/Citra BISINDO/O/body white (1).jpg',\n",
              " '/content/drive/MyDrive/Citra BISINDO/O/body dot (2).jpg',\n",
              " '/content/drive/MyDrive/Citra BISINDO/O/body white (2).jpg',\n",
              " '/content/drive/MyDrive/Citra BISINDO/O/wall white (3).jpg',\n",
              " '/content/drive/MyDrive/Citra BISINDO/O/body dot (4).jpg',\n",
              " '/content/drive/MyDrive/Citra BISINDO/O/wall white (2).jpg',\n",
              " '/content/drive/MyDrive/Citra BISINDO/O/body white (3).jpg',\n",
              " '/content/drive/MyDrive/Citra BISINDO/O/wall white (1).jpg',\n",
              " '/content/drive/MyDrive/Citra BISINDO/O/body dot (1).jpg',\n",
              " '/content/drive/MyDrive/Citra BISINDO/O/body white (4).jpg',\n",
              " '/content/drive/MyDrive/Citra BISINDO/O/body dot (3).jpg',\n",
              " '/content/drive/MyDrive/Citra BISINDO/O/wall white (4).jpg',\n",
              " '/content/drive/MyDrive/Citra BISINDO/P/body white (3).jpg',\n",
              " '/content/drive/MyDrive/Citra BISINDO/P/body white (4).jpg',\n",
              " '/content/drive/MyDrive/Citra BISINDO/P/body white (1).jpg',\n",
              " '/content/drive/MyDrive/Citra BISINDO/P/body white (2).jpg',\n",
              " '/content/drive/MyDrive/Citra BISINDO/P/body dot (4).jpg',\n",
              " '/content/drive/MyDrive/Citra BISINDO/P/wall white (2).jpg',\n",
              " '/content/drive/MyDrive/Citra BISINDO/P/body dot (3).jpg',\n",
              " '/content/drive/MyDrive/Citra BISINDO/P/body dot (2).jpg',\n",
              " '/content/drive/MyDrive/Citra BISINDO/P/wall white (1).jpg',\n",
              " '/content/drive/MyDrive/Citra BISINDO/P/wall white (3).jpg',\n",
              " '/content/drive/MyDrive/Citra BISINDO/P/wall white (4).jpg',\n",
              " '/content/drive/MyDrive/Citra BISINDO/P/body dot (1).jpg',\n",
              " '/content/drive/MyDrive/Citra BISINDO/Q/body dot (1).jpg',\n",
              " '/content/drive/MyDrive/Citra BISINDO/Q/body dot (2).jpg',\n",
              " '/content/drive/MyDrive/Citra BISINDO/Q/wall white (2).jpg',\n",
              " '/content/drive/MyDrive/Citra BISINDO/Q/body white (1).jpg',\n",
              " '/content/drive/MyDrive/Citra BISINDO/Q/body dot (3).jpg',\n",
              " '/content/drive/MyDrive/Citra BISINDO/Q/wall white (4).jpg',\n",
              " '/content/drive/MyDrive/Citra BISINDO/Q/wall white (1).jpg',\n",
              " '/content/drive/MyDrive/Citra BISINDO/Q/body white (4).jpg',\n",
              " '/content/drive/MyDrive/Citra BISINDO/Q/body dot (4).jpg',\n",
              " '/content/drive/MyDrive/Citra BISINDO/Q/body white (3).jpg',\n",
              " '/content/drive/MyDrive/Citra BISINDO/Q/wall white (3).jpg',\n",
              " '/content/drive/MyDrive/Citra BISINDO/Q/body white (2).jpg',\n",
              " '/content/drive/MyDrive/Citra BISINDO/R/body white (4).jpg',\n",
              " '/content/drive/MyDrive/Citra BISINDO/R/body dot (2).jpg',\n",
              " '/content/drive/MyDrive/Citra BISINDO/R/body dot (4).jpg',\n",
              " '/content/drive/MyDrive/Citra BISINDO/R/body white (2).jpg',\n",
              " '/content/drive/MyDrive/Citra BISINDO/R/body dot (1).jpg',\n",
              " '/content/drive/MyDrive/Citra BISINDO/R/wall white (1).jpg',\n",
              " '/content/drive/MyDrive/Citra BISINDO/R/wall white (3).jpg',\n",
              " '/content/drive/MyDrive/Citra BISINDO/R/body white (3).jpg',\n",
              " '/content/drive/MyDrive/Citra BISINDO/R/wall white (4).jpg',\n",
              " '/content/drive/MyDrive/Citra BISINDO/R/wall white (2).jpg',\n",
              " '/content/drive/MyDrive/Citra BISINDO/R/body white (1).jpg',\n",
              " '/content/drive/MyDrive/Citra BISINDO/R/body dot (3).jpg',\n",
              " '/content/drive/MyDrive/Citra BISINDO/S/body dot (3).jpg',\n",
              " '/content/drive/MyDrive/Citra BISINDO/S/wall white (1).jpg',\n",
              " '/content/drive/MyDrive/Citra BISINDO/S/wall white (3).jpg',\n",
              " '/content/drive/MyDrive/Citra BISINDO/S/body dot (4).jpg',\n",
              " '/content/drive/MyDrive/Citra BISINDO/S/body dot (2).jpg',\n",
              " '/content/drive/MyDrive/Citra BISINDO/S/body white (3).jpg',\n",
              " '/content/drive/MyDrive/Citra BISINDO/S/body white (4).jpg',\n",
              " '/content/drive/MyDrive/Citra BISINDO/S/wall white (2).jpg',\n",
              " '/content/drive/MyDrive/Citra BISINDO/S/wall white (4).jpg',\n",
              " '/content/drive/MyDrive/Citra BISINDO/S/body dot (1).jpg',\n",
              " '/content/drive/MyDrive/Citra BISINDO/S/body white (1).jpg',\n",
              " '/content/drive/MyDrive/Citra BISINDO/S/body white (2).jpg',\n",
              " '/content/drive/MyDrive/Citra BISINDO/T/body white (4).jpg',\n",
              " '/content/drive/MyDrive/Citra BISINDO/T/wall white (1).jpg',\n",
              " '/content/drive/MyDrive/Citra BISINDO/T/body white (3).jpg',\n",
              " '/content/drive/MyDrive/Citra BISINDO/T/wall white (2).jpg',\n",
              " '/content/drive/MyDrive/Citra BISINDO/T/body dot (1).jpg',\n",
              " '/content/drive/MyDrive/Citra BISINDO/T/body white (2).jpg',\n",
              " '/content/drive/MyDrive/Citra BISINDO/T/body dot (3).jpg',\n",
              " '/content/drive/MyDrive/Citra BISINDO/T/body dot (2).jpg',\n",
              " '/content/drive/MyDrive/Citra BISINDO/T/body dot (4).jpg',\n",
              " '/content/drive/MyDrive/Citra BISINDO/T/body white (1).jpg',\n",
              " '/content/drive/MyDrive/Citra BISINDO/T/wall white (4).jpg',\n",
              " '/content/drive/MyDrive/Citra BISINDO/T/wall white (3).jpg',\n",
              " '/content/drive/MyDrive/Citra BISINDO/U/body white (4).jpg',\n",
              " '/content/drive/MyDrive/Citra BISINDO/U/body dot (3).jpg',\n",
              " '/content/drive/MyDrive/Citra BISINDO/U/body white (3).jpg',\n",
              " '/content/drive/MyDrive/Citra BISINDO/U/body dot (4).jpg',\n",
              " '/content/drive/MyDrive/Citra BISINDO/U/body white (1).jpg',\n",
              " '/content/drive/MyDrive/Citra BISINDO/U/wall white (2).jpg',\n",
              " '/content/drive/MyDrive/Citra BISINDO/U/wall white (4).jpg',\n",
              " '/content/drive/MyDrive/Citra BISINDO/U/body dot (1).jpg',\n",
              " '/content/drive/MyDrive/Citra BISINDO/U/wall white (3).jpg',\n",
              " '/content/drive/MyDrive/Citra BISINDO/U/wall white (1).jpg',\n",
              " '/content/drive/MyDrive/Citra BISINDO/U/body dot (2).jpg',\n",
              " '/content/drive/MyDrive/Citra BISINDO/U/body white (2).jpg',\n",
              " '/content/drive/MyDrive/Citra BISINDO/V/body white (3).jpg',\n",
              " '/content/drive/MyDrive/Citra BISINDO/V/body white (1).jpg',\n",
              " '/content/drive/MyDrive/Citra BISINDO/V/body dot (1).jpg',\n",
              " '/content/drive/MyDrive/Citra BISINDO/V/body dot (2).jpg',\n",
              " '/content/drive/MyDrive/Citra BISINDO/V/body dot (4).jpg',\n",
              " '/content/drive/MyDrive/Citra BISINDO/V/wall white (1).jpg',\n",
              " '/content/drive/MyDrive/Citra BISINDO/V/wall white (4).jpg',\n",
              " '/content/drive/MyDrive/Citra BISINDO/V/body white (4).jpg',\n",
              " '/content/drive/MyDrive/Citra BISINDO/V/wall white (3).jpg',\n",
              " '/content/drive/MyDrive/Citra BISINDO/V/body white (2).jpg',\n",
              " '/content/drive/MyDrive/Citra BISINDO/V/body dot (3).jpg',\n",
              " '/content/drive/MyDrive/Citra BISINDO/V/wall white (2).jpg',\n",
              " '/content/drive/MyDrive/Citra BISINDO/W/body white (3).jpg',\n",
              " '/content/drive/MyDrive/Citra BISINDO/W/body dot (2).jpg',\n",
              " '/content/drive/MyDrive/Citra BISINDO/W/body dot (3).jpg',\n",
              " '/content/drive/MyDrive/Citra BISINDO/W/body dot (4).jpg',\n",
              " '/content/drive/MyDrive/Citra BISINDO/W/wall white (3).jpg',\n",
              " '/content/drive/MyDrive/Citra BISINDO/W/wall white (2).jpg',\n",
              " '/content/drive/MyDrive/Citra BISINDO/W/wall white (1).jpg',\n",
              " '/content/drive/MyDrive/Citra BISINDO/W/body dot (1).jpg',\n",
              " '/content/drive/MyDrive/Citra BISINDO/W/wall white (4).jpg',\n",
              " '/content/drive/MyDrive/Citra BISINDO/W/body white (1).jpg',\n",
              " '/content/drive/MyDrive/Citra BISINDO/W/body white (4).jpg',\n",
              " '/content/drive/MyDrive/Citra BISINDO/W/body white (2).jpg',\n",
              " '/content/drive/MyDrive/Citra BISINDO/X/wall white (4).jpg',\n",
              " '/content/drive/MyDrive/Citra BISINDO/X/body white (2).jpg',\n",
              " '/content/drive/MyDrive/Citra BISINDO/X/body dot (1).jpg',\n",
              " '/content/drive/MyDrive/Citra BISINDO/X/body dot (4).jpg',\n",
              " '/content/drive/MyDrive/Citra BISINDO/X/wall white (1).jpg',\n",
              " '/content/drive/MyDrive/Citra BISINDO/X/body white (1).jpg',\n",
              " '/content/drive/MyDrive/Citra BISINDO/X/body dot (2).jpg',\n",
              " '/content/drive/MyDrive/Citra BISINDO/X/wall white (3).jpg',\n",
              " '/content/drive/MyDrive/Citra BISINDO/X/wall white (2).jpg',\n",
              " '/content/drive/MyDrive/Citra BISINDO/X/body white (4).jpg',\n",
              " '/content/drive/MyDrive/Citra BISINDO/X/body white (3).jpg',\n",
              " '/content/drive/MyDrive/Citra BISINDO/X/body dot (3).jpg',\n",
              " '/content/drive/MyDrive/Citra BISINDO/Y/body white (3).jpg',\n",
              " '/content/drive/MyDrive/Citra BISINDO/Y/body dot (3).jpg',\n",
              " '/content/drive/MyDrive/Citra BISINDO/Y/body dot (2).jpg',\n",
              " '/content/drive/MyDrive/Citra BISINDO/Y/wall white (4).jpg',\n",
              " '/content/drive/MyDrive/Citra BISINDO/Y/body white (1).jpg',\n",
              " '/content/drive/MyDrive/Citra BISINDO/Y/body dot (1).jpg',\n",
              " '/content/drive/MyDrive/Citra BISINDO/Y/body dot (4).jpg',\n",
              " '/content/drive/MyDrive/Citra BISINDO/Y/wall white (3).jpg',\n",
              " '/content/drive/MyDrive/Citra BISINDO/Y/wall white (2).jpg',\n",
              " '/content/drive/MyDrive/Citra BISINDO/Y/body white (4).jpg',\n",
              " '/content/drive/MyDrive/Citra BISINDO/Y/wall white (1).jpg',\n",
              " '/content/drive/MyDrive/Citra BISINDO/Y/body white (2).jpg',\n",
              " '/content/drive/MyDrive/Citra BISINDO/Z/body white (1).jpg',\n",
              " '/content/drive/MyDrive/Citra BISINDO/Z/body white (3).jpg',\n",
              " '/content/drive/MyDrive/Citra BISINDO/Z/wall white (2).jpg',\n",
              " '/content/drive/MyDrive/Citra BISINDO/Z/wall white (1).jpg',\n",
              " '/content/drive/MyDrive/Citra BISINDO/Z/body dot (3).jpg',\n",
              " '/content/drive/MyDrive/Citra BISINDO/Z/body dot (4).jpg',\n",
              " '/content/drive/MyDrive/Citra BISINDO/Z/body dot (1).jpg',\n",
              " '/content/drive/MyDrive/Citra BISINDO/Z/wall white (3).jpg',\n",
              " '/content/drive/MyDrive/Citra BISINDO/Z/body white (4).jpg',\n",
              " '/content/drive/MyDrive/Citra BISINDO/Z/body dot (2).jpg',\n",
              " '/content/drive/MyDrive/Citra BISINDO/Z/body white (2).jpg',\n",
              " '/content/drive/MyDrive/Citra BISINDO/Z/wall white (4).jpg']"
            ]
          },
          "metadata": {},
          "execution_count": 92
        }
      ]
    },
    {
      "cell_type": "code",
      "execution_count": 5,
      "metadata": {
        "colab": {
          "base_uri": "https://localhost:8080/"
        },
        "id": "_ECuvjw_djyx",
        "outputId": "65e1011c-460b-48ea-912d-f05a6ce87762"
      },
      "outputs": [
        {
          "output_type": "stream",
          "name": "stdout",
          "text": [
            "0\n",
            "1\n",
            "2\n",
            "3\n",
            "4\n",
            "5\n",
            "6\n",
            "7\n",
            "8\n",
            "9\n",
            "10\n",
            "11\n",
            "12\n",
            "13\n",
            "14\n",
            "15\n",
            "16\n",
            "17\n",
            "18\n",
            "19\n",
            "20\n",
            "21\n",
            "22\n",
            "23\n",
            "24\n",
            "25\n",
            "26\n",
            "27\n",
            "28\n",
            "29\n",
            "30\n",
            "31\n",
            "32\n",
            "33\n",
            "34\n",
            "35\n",
            "36\n",
            "37\n",
            "38\n",
            "39\n",
            "40\n",
            "41\n",
            "42\n",
            "43\n",
            "44\n",
            "45\n",
            "46\n",
            "47\n",
            "48\n",
            "49\n",
            "50\n",
            "51\n",
            "52\n",
            "53\n",
            "54\n",
            "55\n",
            "56\n",
            "57\n",
            "58\n",
            "59\n",
            "60\n",
            "61\n",
            "62\n",
            "63\n",
            "64\n",
            "65\n",
            "66\n",
            "67\n",
            "68\n",
            "69\n",
            "70\n",
            "71\n",
            "72\n",
            "73\n",
            "74\n",
            "75\n",
            "76\n",
            "77\n",
            "78\n",
            "79\n",
            "80\n",
            "81\n",
            "82\n",
            "83\n",
            "84\n",
            "85\n",
            "86\n",
            "87\n",
            "88\n",
            "89\n",
            "90\n",
            "91\n",
            "92\n",
            "93\n",
            "94\n",
            "95\n",
            "96\n",
            "97\n",
            "98\n",
            "99\n",
            "100\n",
            "101\n",
            "102\n",
            "103\n",
            "104\n",
            "105\n",
            "106\n",
            "107\n",
            "108\n",
            "109\n",
            "110\n",
            "111\n",
            "112\n",
            "113\n",
            "114\n",
            "115\n",
            "116\n",
            "117\n",
            "118\n",
            "119\n",
            "120\n",
            "121\n",
            "122\n",
            "123\n",
            "124\n",
            "125\n",
            "126\n",
            "127\n",
            "128\n",
            "129\n",
            "130\n",
            "131\n",
            "132\n",
            "133\n",
            "134\n",
            "135\n",
            "136\n",
            "137\n",
            "138\n",
            "139\n",
            "140\n",
            "141\n",
            "142\n",
            "143\n",
            "144\n",
            "145\n",
            "146\n",
            "147\n",
            "148\n",
            "149\n",
            "150\n",
            "151\n",
            "152\n",
            "153\n",
            "154\n",
            "155\n",
            "156\n",
            "157\n",
            "158\n",
            "159\n",
            "160\n",
            "161\n",
            "162\n",
            "163\n",
            "164\n",
            "165\n",
            "166\n",
            "167\n",
            "168\n",
            "169\n",
            "170\n",
            "171\n",
            "172\n",
            "173\n",
            "174\n",
            "175\n",
            "176\n",
            "177\n",
            "178\n",
            "179\n",
            "180\n",
            "181\n",
            "182\n",
            "183\n",
            "184\n",
            "185\n",
            "186\n",
            "187\n",
            "188\n",
            "189\n",
            "190\n",
            "191\n",
            "192\n",
            "193\n",
            "194\n",
            "195\n",
            "196\n",
            "197\n",
            "198\n",
            "199\n",
            "200\n",
            "201\n",
            "202\n",
            "203\n",
            "204\n",
            "205\n",
            "206\n",
            "207\n",
            "208\n",
            "209\n",
            "210\n",
            "211\n",
            "212\n",
            "213\n",
            "214\n",
            "215\n",
            "216\n",
            "217\n",
            "218\n",
            "219\n",
            "220\n",
            "221\n",
            "222\n",
            "223\n",
            "224\n",
            "225\n",
            "226\n",
            "227\n",
            "228\n",
            "229\n",
            "230\n",
            "231\n",
            "232\n",
            "233\n",
            "234\n",
            "235\n",
            "236\n",
            "237\n",
            "238\n",
            "239\n",
            "240\n",
            "241\n",
            "242\n",
            "243\n",
            "244\n",
            "245\n",
            "246\n",
            "247\n",
            "248\n",
            "249\n",
            "250\n",
            "251\n",
            "252\n",
            "253\n",
            "254\n",
            "255\n",
            "256\n",
            "257\n",
            "258\n",
            "259\n",
            "260\n",
            "261\n",
            "262\n",
            "263\n",
            "264\n",
            "265\n",
            "266\n",
            "267\n",
            "268\n",
            "269\n",
            "270\n",
            "271\n",
            "272\n",
            "273\n",
            "274\n",
            "275\n",
            "276\n",
            "277\n",
            "278\n",
            "279\n",
            "280\n",
            "281\n",
            "282\n",
            "283\n",
            "284\n",
            "285\n",
            "286\n",
            "287\n",
            "288\n",
            "289\n",
            "290\n",
            "291\n",
            "292\n",
            "293\n",
            "294\n",
            "295\n",
            "296\n",
            "297\n",
            "298\n",
            "299\n",
            "300\n",
            "301\n",
            "302\n",
            "303\n",
            "304\n",
            "305\n",
            "306\n",
            "307\n",
            "308\n",
            "309\n",
            "310\n",
            "311\n",
            "All Training: 3120\n"
          ]
        }
      ],
      "source": [
        "all_data = []\n",
        "labels = []\n",
        "count = 0\n",
        "\n",
        "for img_path, label in zip(dataset_collection, target):\n",
        "    print(count)\n",
        "    orig_img = cv2.imread(img_path)\n",
        "    seq_aug = [\n",
        "        None,\n",
        "        iaa.Affine(rotate=10),\n",
        "        iaa.Affine(rotate=-10),\n",
        "        iaa.Affine(rotate=20),\n",
        "        iaa.Affine(rotate=-20),\n",
        "        iaa.Affine(rotate=30),\n",
        "        iaa.Affine(rotate=-30),\n",
        "        iaa.Affine(rotate=30),\n",
        "        iaa.Affine(rotate=-30),\n",
        "        iaa.Fliplr(0.5)\n",
        "    ]\n",
        "\n",
        "    for aug in seq_aug:\n",
        "        img = orig_img.copy()\n",
        "        if aug != None:\n",
        "            img = aug(image=img)\n",
        "\n",
        "        img = cv2.cvtColor(img, cv2.COLOR_BGR2HSV)\n",
        "        img = resize(img, size_img)\n",
        "        all_data.append(img)\n",
        "        labels.append(label)\n",
        "    count += 1\n",
        "\n",
        "print('All Training:', len(all_data))"
      ]
    },
    {
      "cell_type": "markdown",
      "source": [
        "#Split Train, Val, Test"
      ],
      "metadata": {
        "id": "xFslUetEHMgg"
      }
    },
    {
      "cell_type": "code",
      "execution_count": 6,
      "metadata": {
        "id": "0qvcSjBscOjC"
      },
      "outputs": [],
      "source": [
        "np.save(\"/content/drive/MyDrive/numpy_dis_2/all_data.npy\", all_data)\n",
        "np.save(\"/content/drive/MyDrive/numpy_dis_2/labels.npy\", labels)"
      ]
    },
    {
      "cell_type": "code",
      "execution_count": 12,
      "metadata": {
        "id": "r7WilDsHvwEP"
      },
      "outputs": [],
      "source": [
        "all_data = np.load(\"/content/drive/MyDrive/numpy_dis_2/all_data.npy\")\n",
        "labels = np.load(\"/content/drive/MyDrive/numpy_dis_2/labels.npy\")"
      ]
    },
    {
      "cell_type": "code",
      "source": [
        "classes_folder = sorted(os.listdir('/content/drive/MyDrive/Citra BISINDO'))\n",
        "classes_folder"
      ],
      "metadata": {
        "colab": {
          "base_uri": "https://localhost:8080/"
        },
        "id": "c-Ldd3CesK0O",
        "outputId": "da864f87-c253-45ba-bab2-467144f51f87"
      },
      "execution_count": 10,
      "outputs": [
        {
          "output_type": "execute_result",
          "data": {
            "text/plain": [
              "['A',\n",
              " 'B',\n",
              " 'C',\n",
              " 'D',\n",
              " 'E',\n",
              " 'F',\n",
              " 'G',\n",
              " 'H',\n",
              " 'I',\n",
              " 'J',\n",
              " 'K',\n",
              " 'L',\n",
              " 'M',\n",
              " 'N',\n",
              " 'O',\n",
              " 'P',\n",
              " 'Q',\n",
              " 'R',\n",
              " 'S',\n",
              " 'T',\n",
              " 'U',\n",
              " 'V',\n",
              " 'W',\n",
              " 'X',\n",
              " 'Y',\n",
              " 'Z']"
            ]
          },
          "metadata": {},
          "execution_count": 10
        }
      ]
    },
    {
      "cell_type": "code",
      "execution_count": 75,
      "metadata": {
        "id": "EF4E_KT-sc0H",
        "colab": {
          "base_uri": "https://localhost:8080/"
        },
        "outputId": "2ba4308e-d798-49c7-af3d-5dd5172736ab"
      },
      "outputs": [
        {
          "output_type": "stream",
          "name": "stdout",
          "text": [
            "ID\tData Train\tData Val\tData Test\tName\n",
            "0\t96 sample\t12 sample\t12 sample\tA\n",
            "1\t96 sample\t12 sample\t12 sample\tB\n",
            "2\t96 sample\t12 sample\t12 sample\tC\n",
            "3\t96 sample\t12 sample\t12 sample\tD\n",
            "4\t96 sample\t12 sample\t12 sample\tE\n",
            "5\t96 sample\t12 sample\t12 sample\tF\n",
            "6\t96 sample\t12 sample\t12 sample\tG\n",
            "7\t96 sample\t12 sample\t12 sample\tH\n",
            "8\t96 sample\t12 sample\t12 sample\tI\n",
            "9\t96 sample\t12 sample\t12 sample\tJ\n",
            "10\t96 sample\t12 sample\t12 sample\tK\n",
            "11\t96 sample\t12 sample\t12 sample\tL\n",
            "12\t96 sample\t12 sample\t12 sample\tM\n",
            "13\t96 sample\t12 sample\t12 sample\tN\n",
            "14\t96 sample\t12 sample\t12 sample\tO\n",
            "15\t96 sample\t12 sample\t12 sample\tP\n",
            "16\t96 sample\t12 sample\t12 sample\tQ\n",
            "17\t96 sample\t12 sample\t12 sample\tR\n",
            "18\t96 sample\t12 sample\t12 sample\tS\n",
            "19\t96 sample\t12 sample\t12 sample\tT\n",
            "20\t96 sample\t12 sample\t12 sample\tU\n",
            "21\t96 sample\t12 sample\t12 sample\tV\n",
            "22\t96 sample\t12 sample\t12 sample\tW\n",
            "23\t96 sample\t12 sample\t12 sample\tX\n",
            "24\t96 sample\t12 sample\t12 sample\tY\n",
            "25\t96 sample\t12 sample\t12 sample\tZ\n",
            "\n",
            "Total:\t 2496 sample\t 312 sample\t 312 sample\n"
          ]
        }
      ],
      "source": [
        "X_train, X_test, y_train, y_test = train_test_split(all_data, labels, test_size=0.2, random_state=42, stratify=labels)\n",
        "X_train, X_test, y_train, y_test = np.array(X_train), np.array(X_test), np.array(y_train), np.array(y_test)\n",
        "\n",
        "X_test, X_val, y_test, y_val = train_test_split(X_test, y_test, test_size=0.5, random_state=42, stratify=y_test)\n",
        "X_test, X_val, y_test, y_val = np.array(X_test), np.array(X_val), np.array(y_test), np.array(y_val)\n",
        "\n",
        "print('ID\\tData Train\\tData Val\\tData Test\\tName')\n",
        "for i in range(len(classes_folder)):\n",
        "    count_train, count_val, count_test = len(np.where(y_train==i)[0]), len(np.where(y_val==i)[0]), len(np.where(y_test==i)[0])\n",
        "    print('{}\\t{} sample\\t{} sample\\t{} sample\\t{}'.format(i, count_train, count_val, count_test, classes_folder[i]))\n",
        "print('\\nTotal:\\t {} sample\\t {} sample\\t {} sample'.format(len(y_train), len(y_val), len(y_test)))"
      ]
    },
    {
      "cell_type": "code",
      "source": [
        "y_train[0]"
      ],
      "metadata": {
        "colab": {
          "base_uri": "https://localhost:8080/"
        },
        "id": "L7Abmax5Zcs5",
        "outputId": "957c1e4e-fc3e-4d89-e67e-6411abf6225d"
      },
      "execution_count": 95,
      "outputs": [
        {
          "output_type": "execute_result",
          "data": {
            "text/plain": [
              "16"
            ]
          },
          "metadata": {},
          "execution_count": 95
        }
      ]
    },
    {
      "cell_type": "code",
      "execution_count": 78,
      "metadata": {
        "id": "EA2GIfDuBgzG"
      },
      "outputs": [],
      "source": [
        "y_train_cat = to_categorical(y_train)\n",
        "y_val_cat = to_categorical(y_val)\n",
        "y_test_cat = to_categorical(y_test)"
      ]
    },
    {
      "cell_type": "code",
      "source": [
        "y_train_cat[0]"
      ],
      "metadata": {
        "colab": {
          "base_uri": "https://localhost:8080/"
        },
        "id": "eQX-6eavZnwo",
        "outputId": "6956820b-f3cd-416d-ed17-0e28f9ecfd84"
      },
      "execution_count": 96,
      "outputs": [
        {
          "output_type": "execute_result",
          "data": {
            "text/plain": [
              "array([0., 0., 0., 0., 0., 0., 0., 0., 0., 0., 0., 0., 0., 0., 0., 0., 1.,\n",
              "       0., 0., 0., 0., 0., 0., 0., 0., 0.], dtype=float32)"
            ]
          },
          "metadata": {},
          "execution_count": 96
        }
      ]
    },
    {
      "cell_type": "markdown",
      "metadata": {
        "id": "776AnflSNNQD"
      },
      "source": [
        "## Machine Learning\n"
      ]
    },
    {
      "cell_type": "code",
      "execution_count": 26,
      "metadata": {
        "id": "B2o68jzCgxD7"
      },
      "outputs": [],
      "source": [
        "# Data Augmentation\n",
        "\n",
        "data_augmentation = Sequential()\n",
        "data_augmentation.add(RandomFlip(\"horizontal\", input_shape=size_img))\n",
        "data_augmentation.add(RandomZoom(0.1))\n",
        "data_augmentation.add(RandomContrast(0.2))\n"
      ]
    },
    {
      "cell_type": "code",
      "execution_count": 27,
      "metadata": {
        "id": "fE2j9SoQ6nlR"
      },
      "outputs": [],
      "source": [
        "# Create Model\n",
        "model = Sequential()\n",
        "model.add(data_augmentation)\n",
        "model.add(Conv2D(32, kernel_size=(3, 3),activation='relu',input_shape=size_img))\n",
        "model.add(Conv2D(16, (3, 3), activation='relu'))\n",
        "model.add(MaxPooling2D(pool_size=(2, 2)))\n",
        "model.add(Conv2D(32, (3, 3), activation='relu'))\n",
        "model.add(MaxPooling2D(pool_size=(2, 2)))\n",
        "model.add(Conv2D(8, (3, 3), activation='relu'))\n",
        "model.add(MaxPooling2D(pool_size=(2, 2)))\n",
        "model.add(Flatten())\n",
        "model.add(Dense(128, activation='relu'))\n",
        "model.add(Dropout(0.2))\n",
        "model.add(Dense(26, activation='softmax'))\n",
        "\n",
        "clear_session()"
      ]
    },
    {
      "cell_type": "code",
      "execution_count": 28,
      "metadata": {
        "id": "UjbNQoTXJYFW"
      },
      "outputs": [],
      "source": [
        "# Compiling\n",
        "model.compile(optimizer='adam',loss = tf.keras.losses.CategoricalCrossentropy(from_logits=False), metrics=['accuracy'])"
      ]
    },
    {
      "cell_type": "code",
      "execution_count": 29,
      "metadata": {
        "colab": {
          "base_uri": "https://localhost:8080/"
        },
        "id": "q-gxzQFDJbtk",
        "outputId": "0e2ea785-9e42-48c8-f00b-e7ba0fc48814"
      },
      "outputs": [
        {
          "output_type": "stream",
          "name": "stdout",
          "text": [
            "Epoch 1/20\n",
            "78/78 [==============================] - 61s 767ms/step - loss: 3.0041 - accuracy: 0.1302 - val_loss: 2.2171 - val_accuracy: 0.3974\n",
            "Epoch 2/20\n",
            "78/78 [==============================] - 61s 777ms/step - loss: 1.8265 - accuracy: 0.4663 - val_loss: 1.2196 - val_accuracy: 0.6282\n",
            "Epoch 3/20\n",
            "78/78 [==============================] - 58s 749ms/step - loss: 1.1521 - accuracy: 0.6502 - val_loss: 0.8224 - val_accuracy: 0.7340\n",
            "Epoch 4/20\n",
            "78/78 [==============================] - 58s 748ms/step - loss: 0.8351 - accuracy: 0.7468 - val_loss: 0.5399 - val_accuracy: 0.8205\n",
            "Epoch 5/20\n",
            "78/78 [==============================] - 58s 746ms/step - loss: 0.6620 - accuracy: 0.7857 - val_loss: 0.4917 - val_accuracy: 0.8429\n",
            "Epoch 6/20\n",
            "78/78 [==============================] - 58s 744ms/step - loss: 0.5353 - accuracy: 0.8153 - val_loss: 0.3600 - val_accuracy: 0.8782\n",
            "Epoch 7/20\n",
            "78/78 [==============================] - 61s 781ms/step - loss: 0.4699 - accuracy: 0.8389 - val_loss: 0.2861 - val_accuracy: 0.9071\n",
            "Epoch 8/20\n",
            "78/78 [==============================] - 59s 750ms/step - loss: 0.3932 - accuracy: 0.8734 - val_loss: 0.2261 - val_accuracy: 0.9231\n",
            "Epoch 9/20\n",
            "78/78 [==============================] - 59s 760ms/step - loss: 0.3221 - accuracy: 0.8922 - val_loss: 0.2177 - val_accuracy: 0.9231\n",
            "Epoch 10/20\n",
            "78/78 [==============================] - 60s 770ms/step - loss: 0.2950 - accuracy: 0.9030 - val_loss: 0.1872 - val_accuracy: 0.9455\n",
            "Epoch 11/20\n",
            "78/78 [==============================] - 59s 752ms/step - loss: 0.2235 - accuracy: 0.9247 - val_loss: 0.1396 - val_accuracy: 0.9647\n",
            "Epoch 12/20\n",
            "78/78 [==============================] - 61s 783ms/step - loss: 0.2139 - accuracy: 0.9339 - val_loss: 0.1114 - val_accuracy: 0.9615\n",
            "Epoch 13/20\n",
            "78/78 [==============================] - 58s 748ms/step - loss: 0.2305 - accuracy: 0.9215 - val_loss: 0.0907 - val_accuracy: 0.9712\n",
            "Epoch 14/20\n",
            "78/78 [==============================] - 58s 747ms/step - loss: 0.1955 - accuracy: 0.9295 - val_loss: 0.1089 - val_accuracy: 0.9679\n",
            "Epoch 15/20\n",
            "78/78 [==============================] - 58s 750ms/step - loss: 0.1608 - accuracy: 0.9431 - val_loss: 0.0779 - val_accuracy: 0.9712\n",
            "Epoch 16/20\n",
            "78/78 [==============================] - 58s 747ms/step - loss: 0.1763 - accuracy: 0.9415 - val_loss: 0.1005 - val_accuracy: 0.9551\n",
            "Epoch 17/20\n",
            "78/78 [==============================] - 61s 778ms/step - loss: 0.1388 - accuracy: 0.9575 - val_loss: 0.0587 - val_accuracy: 0.9776\n",
            "Epoch 18/20\n",
            "78/78 [==============================] - 59s 750ms/step - loss: 0.1366 - accuracy: 0.9551 - val_loss: 0.0636 - val_accuracy: 0.9712\n",
            "Epoch 19/20\n",
            "78/78 [==============================] - 59s 754ms/step - loss: 0.1191 - accuracy: 0.9599 - val_loss: 0.0328 - val_accuracy: 0.9936\n",
            "Epoch 20/20\n",
            "78/78 [==============================] - 60s 773ms/step - loss: 0.1057 - accuracy: 0.9659 - val_loss: 0.0650 - val_accuracy: 0.9712\n"
          ]
        }
      ],
      "source": [
        "# Train Model\n",
        "epochs=20\n",
        "history = model.fit(X_train, y_train_cat, epochs=epochs, validation_data=(X_val, y_val_cat))"
      ]
    },
    {
      "cell_type": "code",
      "execution_count": 30,
      "metadata": {
        "colab": {
          "base_uri": "https://localhost:8080/",
          "height": 499
        },
        "id": "om2iNyh5qJXG",
        "outputId": "ba9103de-bd17-4a8c-c80c-18e1025ee063"
      },
      "outputs": [
        {
          "output_type": "display_data",
          "data": {
            "text/plain": [
              "<Figure size 576x576 with 2 Axes>"
            ],
            "image/png": "[encoded data removed]"
          },
          "metadata": {
            "needs_background": "light"
          }
        }
      ],
      "source": [
        "# Visualization\n",
        "acc = history.history['accuracy']\n",
        "val_acc = history.history['val_accuracy']\n",
        "\n",
        "loss = history.history['loss']\n",
        "val_loss = history.history['val_loss']\n",
        "\n",
        "epochs_range = range(epochs)\n",
        "\n",
        "plt.figure(figsize=(8, 8))\n",
        "plt.subplot(1, 2, 1)\n",
        "plt.plot(epochs_range, acc, label='Training Accuracy')\n",
        "plt.plot(epochs_range, val_acc, label='Validation Accuracy')\n",
        "plt.legend(loc='lower right')\n",
        "plt.title('Training and Validation Accuracy')\n",
        "\n",
        "plt.subplot(1, 2, 2)\n",
        "plt.plot(epochs_range, loss, label='Training Loss')\n",
        "plt.plot(epochs_range, val_loss, label='Validation Loss')\n",
        "plt.legend(loc='upper right')\n",
        "plt.title('Training and Validation Loss')\n",
        "plt.show()"
      ]
    },
    {
      "cell_type": "code",
      "execution_count": 48,
      "metadata": {
        "colab": {
          "base_uri": "https://localhost:8080/"
        },
        "id": "hOnV0Wifrirk",
        "outputId": "cd2571e5-3087-43c4-80e0-17265f7dac06"
      },
      "outputs": [
        {
          "output_type": "stream",
          "name": "stdout",
          "text": [
            "              precision    recall  f1-score   support\n",
            "\n",
            "           0       1.00      1.00      1.00        12\n",
            "           1       1.00      0.92      0.96        12\n",
            "           2       1.00      1.00      1.00        12\n",
            "           3       1.00      1.00      1.00        12\n",
            "           4       1.00      1.00      1.00        12\n",
            "           5       1.00      1.00      1.00        12\n",
            "           6       0.92      1.00      0.96        12\n",
            "           7       1.00      1.00      1.00        12\n",
            "           8       1.00      1.00      1.00        12\n",
            "           9       1.00      0.92      0.96        12\n",
            "          10       1.00      0.75      0.86        12\n",
            "          11       1.00      1.00      1.00        12\n",
            "          12       1.00      0.75      0.86        12\n",
            "          13       0.80      1.00      0.89        12\n",
            "          14       1.00      1.00      1.00        12\n",
            "          15       1.00      0.92      0.96        12\n",
            "          16       1.00      1.00      1.00        12\n",
            "          17       1.00      1.00      1.00        12\n",
            "          18       1.00      1.00      1.00        12\n",
            "          19       1.00      1.00      1.00        12\n",
            "          20       1.00      1.00      1.00        12\n",
            "          21       1.00      1.00      1.00        12\n",
            "          22       1.00      1.00      1.00        12\n",
            "          23       1.00      1.00      1.00        12\n",
            "          24       1.00      1.00      1.00        12\n",
            "          25       1.00      1.00      1.00        12\n",
            "\n",
            "   micro avg       0.99      0.97      0.98       312\n",
            "   macro avg       0.99      0.97      0.98       312\n",
            "weighted avg       0.99      0.97      0.98       312\n",
            " samples avg       0.97      0.97      0.97       312\n",
            "\n"
          ]
        },
        {
          "output_type": "stream",
          "name": "stderr",
          "text": [
            "/usr/local/lib/python3.7/dist-packages/sklearn/metrics/_classification.py:1318: UndefinedMetricWarning: Precision and F-score are ill-defined and being set to 0.0 in samples with no predicted labels. Use `zero_division` parameter to control this behavior.\n",
            "  _warn_prf(average, modifier, msg_start, len(result))\n"
          ]
        }
      ],
      "source": [
        "# Evaluation\n",
        "p_pred = model.predict(X_test)\n",
        "y_pred = np.where(p_pred > 0.5, 1, 0)\n",
        "\n",
        "cr = classification_report(y_test, y_pred)\n",
        "print(cr)"
      ]
    },
    {
      "cell_type": "code",
      "source": [
        "score = model.evaluate(X_test, y_test, verbose = 0) \n",
        "\n",
        "print('Test loss:', score[0]) \n",
        "print('Test accuracy:', score[1])"
      ],
      "metadata": {
        "colab": {
          "base_uri": "https://localhost:8080/"
        },
        "id": "mpmBt4TaJPVH",
        "outputId": "d880346b-c835-41d9-cc65-935acb3e1652"
      },
      "execution_count": 98,
      "outputs": [
        {
          "output_type": "stream",
          "name": "stdout",
          "text": [
            "Test loss: 0.036049433052539825\n",
            "Test accuracy: 0.9871794581413269\n"
          ]
        }
      ]
    },
    {
      "cell_type": "code",
      "source": [
        "print(X_test[0])\n",
        "print(y_test[0])"
      ],
      "metadata": {
        "id": "ijyxu3xLIvDg"
      },
      "execution_count": null,
      "outputs": []
    },
    {
      "cell_type": "code",
      "source": [
        "plt.imshow(X_test[i].astype(\"uint8\"))\n",
        "plt.axis(\"off\")"
      ],
      "metadata": {
        "colab": {
          "base_uri": "https://localhost:8080/",
          "height": 266
        },
        "id": "OeLaTA_9RQYj",
        "outputId": "408e03fa-ec72-41cf-c713-d7f522c2fb1e"
      },
      "execution_count": 81,
      "outputs": [
        {
          "output_type": "execute_result",
          "data": {
            "text/plain": [
              "(-0.5, 99.5, 99.5, -0.5)"
            ]
          },
          "metadata": {},
          "execution_count": 81
        },
        {
          "output_type": "display_data",
          "data": {
            "text/plain": [
              "<Figure size 432x288 with 1 Axes>"
            ],
            "image/png": "[encoded data removed]"
          },
          "metadata": {
            "needs_background": "light"
          }
        }
      ]
    },
    {
      "cell_type": "code",
      "source": [
        "classes_folder = sorted(os.listdir('/content/drive/MyDrive/Citra BISINDO'))"
      ],
      "metadata": {
        "id": "HJat6kzOLPXK"
      },
      "execution_count": 58,
      "outputs": []
    },
    {
      "cell_type": "code",
      "source": [
        "X_test.shape[0]"
      ],
      "metadata": {
        "colab": {
          "base_uri": "https://localhost:8080/"
        },
        "id": "_fCS6J-zO7AG",
        "outputId": "1d9fb978-589c-4b9c-93cd-9bc4f6ea50b7"
      },
      "execution_count": 65,
      "outputs": [
        {
          "output_type": "execute_result",
          "data": {
            "text/plain": [
              "312"
            ]
          },
          "metadata": {},
          "execution_count": 65
        }
      ]
    },
    {
      "cell_type": "code",
      "source": [
        "X_test.shape\n"
      ],
      "metadata": {
        "colab": {
          "base_uri": "https://localhost:8080/"
        },
        "id": "hNuF3hqwUwPd",
        "outputId": "f541e673-e8ab-4384-d191-310cd0ebacac"
      },
      "execution_count": 84,
      "outputs": [
        {
          "output_type": "execute_result",
          "data": {
            "text/plain": [
              "(312, 100, 100, 3)"
            ]
          },
          "metadata": {},
          "execution_count": 84
        }
      ]
    },
    {
      "cell_type": "code",
      "source": [
        "# Test image in folder 'test'\n",
        "!find . -name \".DS_Store\" -delete\n",
        "\n",
        "from keras.preprocessing import image\n",
        "import numpy as np\n",
        "import os\n",
        "\n",
        "directory = 'test/'\n",
        "image_name = []\n",
        "images = []\n",
        "collect_img = []\n",
        "count_img = 9\n",
        "classes_folder = sorted(os.listdir('/content/drive/MyDrive/Citra BISINDO'))\n",
        "\n",
        "# for img in list_file[:count_img]:\n",
        "#     image_name.append(img)\n",
        "#     img = os.path.join(directory, img)\n",
        "#     img = image.load_img(img, target_size=size_img)\n",
        "#     img_np = image.img_to_array(img)\n",
        "#     img = np.expand_dims(img_np, axis=0)\n",
        "#     images.append(img)\n",
        "#     collect_img.append(img_np)\n",
        "\n",
        "# images = np.vstack(images)\n",
        "\n",
        "classes_pred = model.predict(X_test)\n",
        "\n",
        "plt.figure(figsize=(20, 20))\n",
        "for i in range(len(X_test[0][:count_img][:count_img])):\n",
        "    idX_class = int(classes[i][0])\n",
        "    ax = plt.subplot(3, 3, i + 1)\n",
        "    plt.imshow(X_test[i].astype(\"uint8\"))\n",
        "    plt.title(classes_folder[i])\n",
        "    plt.axis(\"off\")"
      ],
      "metadata": {
        "id": "2-A3O7TyOhIF"
      },
      "execution_count": null,
      "outputs": []
    },
    {
      "cell_type": "code",
      "execution_count": 63,
      "metadata": {
        "colab": {
          "base_uri": "https://localhost:8080/",
          "height": 1000
        },
        "id": "rNkYPADYtSij",
        "outputId": "74a080bd-751b-48bc-f66f-e6b235104a46"
      },
      "outputs": [
        {
          "output_type": "display_data",
          "data": {
            "text/plain": [
              "<Figure size 1440x1440 with 9 Axes>"
            ],
            "image/png": "[encoded data removed]"
          },
          "metadata": {
            "needs_background": "light"
          }
        }
      ],
      "source": [
        "# Test image in folder 'test'\n",
        "!find . -name \".DS_Store\" -delete\n",
        "\n",
        "from keras.preprocessing import image\n",
        "import numpy as np\n",
        "import os\n",
        "directory = 'test/'\n",
        "image_name = []\n",
        "images = []\n",
        "collect_img = []\n",
        "count_img = 9\n",
        "list_file = sorted(os.listdir(directory))\n",
        "\n",
        "for img in list_file[:count_img]:\n",
        "    image_name.append(img)\n",
        "    img = os.path.join(directory, img)\n",
        "    img = image.load_img(img, target_size=size_img)\n",
        "    img_np = image.img_to_array(img)\n",
        "    img = np.expand_dims(img_np, axis=0)\n",
        "    images.append(img)\n",
        "    collect_img.append(img_np)\n",
        "\n",
        "images = np.vstack(images)\n",
        "classes = model.predict(images)\n",
        "\n",
        "plt.figure(figsize=(20, 20))\n",
        "for i in range(len(list_file[:count_img][:count_img])):\n",
        "    idX_class = int(classes[i][0])\n",
        "    ax = plt.subplot(3, 3, i + 1)\n",
        "\n",
        "    if idX_class == 1:\n",
        "      # print(i+1, image_name[i],'    ', name_class[1])\n",
        "      plt.imshow(collect_img[i].astype(\"uint8\"))\n",
        "      plt.title(image_name[i]+' '+name_class[1])\n",
        "      plt.axis(\"off\")\n",
        "      \n",
        "    else:\n",
        "      # print(i+1, image_name[i],'    ', name_class[0])\n",
        "      plt.imshow(collect_img[i].astype(\"uint8\"))\n",
        "      plt.title(image_name[i]+' =>'+name_class[0])\n",
        "      plt.axis(\"off\")"
      ]
    },
    {
      "cell_type": "markdown",
      "metadata": {
        "id": "Cqv9hOnfNNQZ"
      },
      "source": [
        "> #### Task:\n",
        "- **Submit the predictions on the test dataset using your optimized model** <br/>\n",
        "    For each image in the test folder, predict the value of the label (0/1). You should submit a CSV file with a header row and one row per test entry. \n",
        "\n",
        "The file (`submissions.csv`) should have exactly 2 columns:\n",
        "   - **file**\n",
        "   - **label**\n",
        "   "
      ]
    },
    {
      "cell_type": "code",
      "execution_count": null,
      "metadata": {
        "colab": {
          "base_uri": "https://localhost:8080/"
        },
        "id": "C2FpSVKqNNQa",
        "outputId": "b27e1227-159a-41a2-afe9-3a59cd74461f"
      },
      "outputs": [
        {
          "data": {
            "text/plain": [
              "0       img_10011.jpg\n",
              "1       img_10034.jpg\n",
              "2       img_10062.jpg\n",
              "3       img_10068.jpg\n",
              "4       img_10094.jpg\n",
              "            ...      \n",
              "4010    img_99640.jpg\n",
              "4011    img_99651.jpg\n",
              "4012    img_99652.jpg\n",
              "4013    img_99715.jpg\n",
              "4014    img_99785.jpg\n",
              "Name: file, Length: 4015, dtype: object"
            ]
          },
          "execution_count": 91,
          "metadata": {},
          "output_type": "execute_result"
        }
      ],
      "source": [
        "submission_df['file']"
      ]
    },
    {
      "cell_type": "code",
      "execution_count": null,
      "metadata": {
        "colab": {
          "base_uri": "https://localhost:8080/"
        },
        "id": "Y-ZgcN1CNNQd",
        "outputId": "467ffd79-ff9b-406b-f1c1-8012b0d162e1"
      },
      "outputs": [
        {
          "data": {
            "text/plain": [
              "0       0\n",
              "1       0\n",
              "2       0\n",
              "3       0\n",
              "4       0\n",
              "       ..\n",
              "4010    1\n",
              "4011    1\n",
              "4012    1\n",
              "4013    1\n",
              "4014    1\n",
              "Name: label, Length: 4015, dtype: object"
            ]
          },
          "execution_count": 92,
          "metadata": {},
          "output_type": "execute_result"
        }
      ],
      "source": [
        "submission_df['label']"
      ]
    },
    {
      "cell_type": "code",
      "execution_count": null,
      "metadata": {
        "id": "7K2uCUWhNNQj"
      },
      "outputs": [],
      "source": [
        "#Submission\n",
        "submission_df.to_csv('submissions.csv',index=False)"
      ]
    }
  ],
  "metadata": {
    "colab": {
      "collapsed_sections": [
        "8MiMTc5_NNPj"
      ],
      "name": "DIS_2.ipynb",
      "provenance": [],
      "include_colab_link": true
    },
    "gpuClass": "standard",
    "kernelspec": {
      "display_name": "Python 3",
      "language": "python",
      "name": "python3"
    },
    "language_info": {
      "codemirror_mode": {
        "name": "ipython",
        "version": 3
      },
      "file_extension": ".py",
      "mimetype": "text/x-python",
      "name": "python",
      "nbconvert_exporter": "python",
      "pygments_lexer": "ipython3",
      "version": "3.7.8"
    }
  },
  "nbformat": 4,
  "nbformat_minor": 0
}