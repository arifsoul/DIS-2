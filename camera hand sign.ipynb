{
 "cells": [
  {
   "cell_type": "code",
   "execution_count": 9,
   "id": "82f764ac",
   "metadata": {},
   "outputs": [],
   "source": [
    "import cv2\n",
    "import numpy as np\n",
    "from keras.models import load_model\n",
    "\n",
    "#load model \n",
    "model=load_model(\"model_baru.h5\")\n",
    "#https://drive.google.com/uc?id=146ftXsZlJLEXwh_a02YDei9jcxsIefZj\n",
    "results={0:'NONE',1:'O',2:'S'}\n",
    "rect_size = 8\n",
    "\n",
    "cap = cv2.VideoCapture(0) \n",
    "\n",
    "# Load the cascade\n",
    "#url = 'https://raw.githubusercontent.com/dtaneja123/Hand_Recognition/master/Hand_haar_cascade.xml'\n",
    "haarcascade = cv2.CascadeClassifier('Hand_haar_cascade.xml')\n",
    "\n",
    "while True:\n",
    "    #read the frame\n",
    "    (rval, im) = cap.read()\n",
    "    #im=cv2.flip(im,1,1) \n",
    "\n",
    "    rerect_size = cv2.resize(im, (im.shape[1] // rect_size, im.shape[0] // rect_size))\n",
    "    hands = haarcascade.detectMultiScale(rerect_size)\n",
    "    for f in hands:\n",
    "        (x, y, w, h) = [v * rect_size for v in f] \n",
    "        \n",
    "        hand_img = im[y:y+h, x:x+w]\n",
    "        rerect_sized=cv2.resize(hand_img,(180,180))\n",
    "        normalized=rerect_sized/255.0\n",
    "        reshaped=np.reshape(normalized,(1,180,180,3))\n",
    "        reshaped = np.vstack([reshaped])\n",
    "        result=model.predict(reshaped)\n",
    "\n",
    "        \n",
    "        label=np.argmax(result,axis=1)[0]\n",
    "        #draw rectangle\n",
    "        cv2.rectangle(im,(x,y),(x+w,y+h),(0,255,0),2)\n",
    "        cv2.rectangle(im,(x,y-40),(x+w,y),(0,255,0),-1)\n",
    "        cv2.putText(im, results[label], (x, y-10),cv2.FONT_HERSHEY_SIMPLEX,0.8,(255,255,255),2)\n",
    "\n",
    "    cv2.imshow('LIVE',   im)\n",
    "    key = cv2.waitKey(10)\n",
    "    #press esc key to quit\n",
    "    if key == 27: \n",
    "        break\n",
    "\n",
    "cap.release()\n",
    "cv2.destroyAllWindows()"
   ]
  },
  {
   "cell_type": "code",
   "execution_count": 8,
   "id": "866ff58b",
   "metadata": {},
   "outputs": [
    {
     "data": {
      "text/plain": [
       "1"
      ]
     },
     "execution_count": 8,
     "metadata": {},
     "output_type": "execute_result"
    }
   ],
   "source": [
    "label"
   ]
  }
 ],
 "metadata": {
  "kernelspec": {
   "display_name": "Python 3 (ipykernel)",
   "language": "python",
   "name": "python3"
  },
  "language_info": {
   "codemirror_mode": {
    "name": "ipython",
    "version": 3
   },
   "file_extension": ".py",
   "mimetype": "text/x-python",
   "name": "python",
   "nbconvert_exporter": "python",
   "pygments_lexer": "ipython3",
   "version": "3.10.2"
  }
 },
 "nbformat": 4,
 "nbformat_minor": 5
}
